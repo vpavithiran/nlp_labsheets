{
 "cells": [
  {
   "cell_type": "markdown",
   "metadata": {},
   "source": [
    "### EXERCISE-1: Print TFIDF values"
   ]
  },
  {
   "cell_type": "code",
   "execution_count": 24,
   "metadata": {
    "tags": []
   },
   "outputs": [],
   "source": [
    "from sklearn.feature_extraction.text import TfidfVectorizer \n",
    "import pandas as pd"
   ]
  },
  {
   "cell_type": "code",
   "execution_count": 25,
   "metadata": {
    "tags": []
   },
   "outputs": [],
   "source": [
    "docs = [\"good movie\", \"not a good movie\", \"did not like\",\"i like it\", \"good one\" ]"
   ]
  },
  {
   "cell_type": "code",
   "execution_count": 26,
   "metadata": {
    "tags": []
   },
   "outputs": [
    {
     "name": "stdout",
     "output_type": "stream",
     "text": [
      "  (0, 0)\t0.7071067811865476\n",
      "  (0, 2)\t0.7071067811865476\n",
      "  (1, 3)\t0.5773502691896257\n",
      "  (1, 0)\t0.5773502691896257\n",
      "  (1, 2)\t0.5773502691896257\n",
      "  (2, 1)\t0.7071067811865476\n",
      "  (2, 3)\t0.7071067811865476\n",
      "  (3, 1)\t1.0\n"
     ]
    }
   ],
   "source": [
    "# using default tokenizer in TfidfVectorizer\n",
    "tfidf = TfidfVectorizer (min_df=2, max_df=0.5, ngram_range=(1, 2))\n",
    "features = tfidf.fit_transform (docs)\n",
    "print (features)"
   ]
  },
  {
   "cell_type": "code",
   "execution_count": 28,
   "metadata": {
    "tags": []
   },
   "outputs": [
    {
     "name": "stdout",
     "output_type": "stream",
     "text": [
      "   good movie      like     movie       not\n",
      "0    0.707107  0.000000  0.707107  0.000000\n",
      "1    0.577350  0.000000  0.577350  0.577350\n",
      "2    0.000000  0.707107  0.000000  0.707107\n",
      "3    0.000000  1.000000  0.000000  0.000000\n",
      "4    0.000000  0.000000  0.000000  0.000000\n"
     ]
    }
   ],
   "source": [
    "# Pretty printing\n",
    "feature_names = tfidf.get_feature_names_out()\n",
    "df = pd.DataFrame(features.todense(), columns=feature_names)\n",
    "print (df)"
   ]
  },
  {
   "cell_type": "markdown",
   "metadata": {},
   "source": [
    "### EXERCISE-2:\n",
    "#### 1. Change the values of min_df and ngram_range and observe various outputs"
   ]
  },
  {
   "cell_type": "code",
   "execution_count": 32,
   "metadata": {
    "scrolled": true,
    "tags": []
   },
   "outputs": [
    {
     "name": "stdout",
     "output_type": "stream",
     "text": [
      "  (0, 2)\t0.7071067811865476\n",
      "  (0, 7)\t0.7071067811865476\n",
      "  (1, 9)\t0.5819514978671799\n",
      "  (1, 8)\t0.46951480421464364\n",
      "  (1, 2)\t0.46951480421464364\n",
      "  (1, 7)\t0.46951480421464364\n",
      "  (2, 10)\t0.4821401170833009\n",
      "  (2, 1)\t0.4821401170833009\n",
      "  (2, 5)\t0.3889876106617681\n",
      "  (2, 0)\t0.4821401170833009\n",
      "  (2, 8)\t0.3889876106617681\n",
      "  (3, 6)\t0.6141889663426562\n",
      "  (3, 4)\t0.6141889663426562\n",
      "  (3, 5)\t0.49552379079705033\n",
      "  (4, 3)\t0.7071067811865475\n",
      "  (4, 11)\t0.7071067811865475\n"
     ]
    }
   ],
   "source": [
    "from sklearn.feature_extraction.text import TfidfVectorizer\n",
    "tfidf = TfidfVectorizer(min_df=1, max_df=0.5, ngram_range=(1, 2))\n",
    "features = tfidf.fit_transform(docs)\n",
    "print(features)\n"
   ]
  },
  {
   "cell_type": "code",
   "execution_count": 34,
   "metadata": {
    "tags": []
   },
   "outputs": [
    {
     "name": "stdout",
     "output_type": "stream",
     "text": [
      "       did  did not  good movie  good one        it      like   like it  \\\n",
      "0  0.00000  0.00000    0.707107  0.000000  0.000000  0.000000  0.000000   \n",
      "1  0.00000  0.00000    0.469515  0.000000  0.000000  0.000000  0.000000   \n",
      "2  0.48214  0.48214    0.000000  0.000000  0.000000  0.388988  0.000000   \n",
      "3  0.00000  0.00000    0.000000  0.000000  0.614189  0.495524  0.614189   \n",
      "4  0.00000  0.00000    0.000000  0.707107  0.000000  0.000000  0.000000   \n",
      "\n",
      "      movie       not  not good  not like       one  \n",
      "0  0.707107  0.000000  0.000000   0.00000  0.000000  \n",
      "1  0.469515  0.469515  0.581951   0.00000  0.000000  \n",
      "2  0.000000  0.388988  0.000000   0.48214  0.000000  \n",
      "3  0.000000  0.000000  0.000000   0.00000  0.000000  \n",
      "4  0.000000  0.000000  0.000000   0.00000  0.707107  \n"
     ]
    }
   ],
   "source": [
    "# Pretty printing\n",
    "feature_names = tfidf.get_feature_names_out()\n",
    "df = pd.DataFrame(features.todense(),columns=feature_names)\n",
    "print (df)"
   ]
  },
  {
   "cell_type": "markdown",
   "metadata": {},
   "source": [
    "### EXERCISE-3: Compute Cosine Similarity between 2 Documents"
   ]
  },
  {
   "cell_type": "code",
   "execution_count": 35,
   "metadata": {
    "tags": []
   },
   "outputs": [],
   "source": [
    "from sklearn.metrics.pairwise import linear_kernel"
   ]
  },
  {
   "cell_type": "code",
   "execution_count": 36,
   "metadata": {
    "tags": []
   },
   "outputs": [
    {
     "name": "stdout",
     "output_type": "stream",
     "text": [
      "[[0.6639942]]\n"
     ]
    }
   ],
   "source": [
    "# cosine score between 1st and 2nd doc\n",
    "doc1 = features [0:1]\n",
    "doc2 = features [1:2]\n",
    "score = linear_kernel (doc1, doc2)\n",
    "print (score)"
   ]
  },
  {
   "cell_type": "code",
   "execution_count": 37,
   "metadata": {
    "tags": []
   },
   "outputs": [
    {
     "name": "stdout",
     "output_type": "stream",
     "text": [
      "[[1.        0.6639942 0.        0.        0.       ]]\n"
     ]
    }
   ],
   "source": [
    "# cosine score between 1st and all other docs \n",
    "scores = linear_kernel (doc1, features)\n",
    "print (scores)"
   ]
  },
  {
   "cell_type": "code",
   "execution_count": 38,
   "metadata": {
    "tags": []
   },
   "outputs": [
    {
     "name": "stdout",
     "output_type": "stream",
     "text": [
      "[[0.81649658 0.542149   0.2245821  0.28609079 0.        ]]\n"
     ]
    }
   ],
   "source": [
    "# Cosine Similarity for a new doc\n",
    "query = \"I like this good movie\"\n",
    "qfeature = tfidf.transform([query])\n",
    "scores2 = linear_kernel (qfeature, features)\n",
    "print (scores2)"
   ]
  },
  {
   "cell_type": "markdown",
   "metadata": {},
   "source": [
    "### EXERCISE-4: Find Top-N similar documents\n",
    "#### Question-1. Consider the following documents and compute TFIDF values"
   ]
  },
  {
   "cell_type": "code",
   "execution_count": 39,
   "metadata": {
    "tags": []
   },
   "outputs": [],
   "source": [
    "docs=[\"the house had a tiny little mouse\",\n",
    "\"the cat saw the mouse\",\n",
    "\"the mouse ran away from the house\",\n",
    "\"the cat finally ate the mouse\",\n",
    "\"the end of the mouse story\"\n",
    "     ]"
   ]
  },
  {
   "cell_type": "code",
   "execution_count": 40,
   "metadata": {
    "tags": []
   },
   "outputs": [
    {
     "name": "stdout",
     "output_type": "stream",
     "text": [
      "  (0, 3)\t0.7071067811865476\n",
      "  (0, 1)\t0.7071067811865476\n",
      "  (1, 2)\t0.7071067811865476\n",
      "  (1, 0)\t0.7071067811865476\n",
      "  (2, 3)\t0.7071067811865476\n",
      "  (2, 1)\t0.7071067811865476\n",
      "  (3, 2)\t0.7071067811865476\n",
      "  (3, 0)\t0.7071067811865476\n"
     ]
    }
   ],
   "source": [
    "tfidf = TfidfVectorizer (min_df=2, max_df=0.5, ngram_range=(1, 2))\n",
    "features = tfidf.fit_transform (docs)\n",
    "print (features)"
   ]
  },
  {
   "cell_type": "markdown",
   "metadata": {},
   "source": [
    "#### Question-2. Compute cosine similarity between 3rd document (\"the mouse ran away from the house\") with all other documents. Which is the most similar document?."
   ]
  },
  {
   "cell_type": "code",
   "execution_count": 41,
   "metadata": {
    "tags": []
   },
   "outputs": [
    {
     "name": "stdout",
     "output_type": "stream",
     "text": [
      "[[1. 0. 1. 0. 0.]]\n"
     ]
    }
   ],
   "source": [
    "doc3 = features [2:3]\n",
    "scores3 = linear_kernel (doc3, features)\n",
    "print (scores3)"
   ]
  },
  {
   "cell_type": "markdown",
   "metadata": {},
   "source": [
    "#### Question-3. Find Top-2 similar documents for the 3rd document based on Cosine similarity values"
   ]
  },
  {
   "cell_type": "code",
   "execution_count": 42,
   "metadata": {
    "tags": []
   },
   "outputs": [
    {
     "name": "stdout",
     "output_type": "stream",
     "text": [
      "[[1. 0.]]\n"
     ]
    }
   ],
   "source": [
    "doc4 =features[0:2]\n",
    "scores4 = linear_kernel (doc3,doc4)\n",
    "print (scores4)"
   ]
  },
  {
   "cell_type": "code",
   "execution_count": null,
   "metadata": {},
   "outputs": [],
   "source": []
  }
 ],
 "metadata": {
  "kernelspec": {
   "display_name": "Python 3 (ipykernel)",
   "language": "python",
   "name": "python3"
  },
  "language_info": {
   "codemirror_mode": {
    "name": "ipython",
    "version": 3
   },
   "file_extension": ".py",
   "mimetype": "text/x-python",
   "name": "python",
   "nbconvert_exporter": "python",
   "pygments_lexer": "ipython3",
   "version": "3.11.5"
  }
 },
 "nbformat": 4,
 "nbformat_minor": 4
}
