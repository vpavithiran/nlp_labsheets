{
 "cells": [
  {
   "cell_type": "code",
   "execution_count": 1,
   "metadata": {
    "tags": []
   },
   "outputs": [],
   "source": [
    "import nltk"
   ]
  },
  {
   "cell_type": "code",
   "execution_count": 2,
   "metadata": {
    "tags": []
   },
   "outputs": [
    {
     "name": "stderr",
     "output_type": "stream",
     "text": [
      "[nltk_data] Downloading package wordnet to\n",
      "[nltk_data]     /Users/pavithiranv/nltk_data...\n",
      "[nltk_data]   Package wordnet is already up-to-date!\n"
     ]
    }
   ],
   "source": [
    "nltk.download('wordnet')\n",
    "text=\"This is Andrew's text, isn't it?\""
   ]
  },
  {
   "cell_type": "code",
   "execution_count": 28,
   "metadata": {
    "tags": []
   },
   "outputs": [
    {
     "name": "stdout",
     "output_type": "stream",
     "text": [
      "6\n",
      "['This', 'is', \"Andrew's\", 'text,', \"isn't\", 'it?']\n"
     ]
    }
   ],
   "source": [
    "tokenizer = nltk.tokenize.WhitespaceTokenizer()\n",
    "tokens = tokenizer.tokenize(text)\n",
    "print(len(tokens))\n",
    "print(tokens)"
   ]
  },
  {
   "cell_type": "code",
   "execution_count": 29,
   "metadata": {
    "tags": []
   },
   "outputs": [
    {
     "name": "stdout",
     "output_type": "stream",
     "text": [
      "10\n",
      "['This', 'is', 'Andrew', \"'s\", 'text', ',', 'is', \"n't\", 'it', '?']\n"
     ]
    }
   ],
   "source": [
    "tokenizer = nltk.tokenize.TreebankWordTokenizer()\n",
    "tokens = tokenizer.tokenize(text)\n",
    "print(len(tokens))\n",
    "print(tokens)"
   ]
  },
  {
   "cell_type": "code",
   "execution_count": 30,
   "metadata": {
    "tags": []
   },
   "outputs": [
    {
     "name": "stdout",
     "output_type": "stream",
     "text": [
      "12\n",
      "['This', 'is', 'Andrew', \"'\", 's', 'text', ',', 'isn', \"'\", 't', 'it', '?']\n"
     ]
    }
   ],
   "source": [
    "tokenizer = nltk.tokenize.WordPunctTokenizer()\n",
    "tokens = tokenizer.tokenize(text)\n",
    "print(len(tokens))\n",
    "print(tokens)"
   ]
  },
  {
   "cell_type": "code",
   "execution_count": 31,
   "metadata": {
    "tags": []
   },
   "outputs": [],
   "source": [
    "f=open(\"gift-of-magi.txt\",\"r\")\n",
    "txt=f.read()"
   ]
  },
  {
   "cell_type": "code",
   "execution_count": 32,
   "metadata": {
    "tags": []
   },
   "outputs": [
    {
     "name": "stdout",
     "output_type": "stream",
     "text": [
      "2517\n"
     ]
    }
   ],
   "source": [
    "tokens1 = tokenizer.tokenize(txt)\n",
    "print(len(tokens1))"
   ]
  },
  {
   "cell_type": "code",
   "execution_count": 33,
   "metadata": {
    "tags": []
   },
   "outputs": [
    {
     "name": "stderr",
     "output_type": "stream",
     "text": [
      "[nltk_data] Downloading package averaged_perceptron_tagger to\n",
      "[nltk_data]     /Users/pavithiranv/nltk_data...\n",
      "[nltk_data]   Package averaged_perceptron_tagger is already up-to-\n",
      "[nltk_data]       date!\n",
      "[nltk_data] Downloading package punkt to\n",
      "[nltk_data]     /Users/pavithiranv/nltk_data...\n",
      "[nltk_data]   Package punkt is already up-to-date!\n"
     ]
    },
    {
     "data": {
      "text/plain": [
       "True"
      ]
     },
     "execution_count": 33,
     "metadata": {},
     "output_type": "execute_result"
    }
   ],
   "source": [
    "nltk.download('averaged_perceptron_tagger')\n",
    "nltk.download('punkt')"
   ]
  },
  {
   "cell_type": "code",
   "execution_count": 34,
   "metadata": {
    "tags": []
   },
   "outputs": [
    {
     "name": "stdout",
     "output_type": "stream",
     "text": [
      "[('The', 'DT'), ('Gift', 'NNP'), ('of', 'IN'), ('the', 'DT'), ('Magi', 'NNP'), ('by', 'IN'), ('O', 'NNP'), ('.', '.'), ('Henry', 'NNP'), ('One', 'CD'), ('dollar', 'NN'), ('and', 'CC'), ('eighty', 'JJ'), ('-', ':'), ('seven', 'CD'), ('cents', 'NNS'), ('.', '.'), ('That', 'DT'), ('was', 'VBD'), ('all', 'DT'), ('.', '.'), ('And', 'CC'), ('sixty', 'JJ'), ('cents', 'NNS'), ('of', 'IN'), ('it', 'PRP'), ('was', 'VBD'), ('in', 'IN'), ('pennies', 'NNS'), ('.', '.'), ('Pennies', 'NNS'), ('saved', 'VBD'), ('one', 'CD'), ('and', 'CC'), ('two', 'CD'), ('at', 'IN'), ('a', 'DT'), ('time', 'NN'), ('by', 'IN'), ('bulldozing', 'VBG'), ('the', 'DT'), ('grocer', 'NN'), ('and', 'CC'), ('the', 'DT'), ('vegetable', 'JJ'), ('man', 'NN'), ('and', 'CC'), ('the', 'DT'), ('butcher', 'NN'), ('until', 'IN'), ('one', 'CD'), (\"'\", \"''\"), ('s', 'JJ'), ('cheeks', 'NNS'), ('burned', 'VBN'), ('with', 'IN'), ('the', 'DT'), ('silent', 'JJ'), ('imputation', 'NN'), ('of', 'IN'), ('parsimony', 'NN'), ('that', 'IN'), ('such', 'JJ'), ('close', 'JJ'), ('dealing', 'VBG'), ('implied', 'VBN'), ('.', '.'), ('Three', 'CD'), ('times', 'NNS'), ('Della', 'NNP'), ('counted', 'VBD'), ('it', 'PRP'), ('.', '.'), ('One', 'CD'), ('dollar', 'NN'), ('and', 'CC'), ('eighty', 'JJ'), ('-', ':'), ('seven', 'CD'), ('cents', 'NNS'), ('.', '.'), ('And', 'CC'), ('the', 'DT'), ('next', 'JJ'), ('day', 'NN'), ('would', 'MD'), ('be', 'VB'), ('Christmas', 'NNP'), ('.', '.'), ('There', 'EX'), ('was', 'VBD'), ('clearly', 'RB'), ('nothing', 'NN'), ('left', 'VBD'), ('to', 'TO'), ('do', 'VB'), ('but', 'CC'), ('flop', 'VB'), ('down', 'RP'), ('on', 'IN'), ('the', 'DT'), ('shabby', 'NN'), ('little', 'JJ'), ('couch', 'JJ'), ('and', 'CC'), ('howl', 'NN'), ('.', '.'), ('So', 'CC'), ('Della', 'NNPS'), ('did', 'VBD'), ('it', 'PRP'), ('.', '.'), ('Which', 'NNP'), ('instigates', 'VBZ'), ('the', 'DT'), ('moral', 'JJ'), ('reflection', 'NN'), ('that', 'IN'), ('life', 'NN'), ('is', 'VBZ'), ('made', 'VBN'), ('up', 'IN'), ('of', 'IN'), ('sobs', 'NN'), (',', ','), ('sniffles', 'NNS'), (',', ','), ('and', 'CC'), ('smiles', 'NNS'), (',', ','), ('with', 'IN'), ('sniffles', 'NNS'), ('predominating', 'VBG'), ('.', '.'), ('While', 'IN'), ('the', 'DT'), ('mistress', 'NN'), ('of', 'IN'), ('the', 'DT'), ('home', 'NN'), ('is', 'VBZ'), ('gradually', 'RB'), ('subsiding', 'VBG'), ('from', 'IN'), ('the', 'DT'), ('first', 'JJ'), ('stage', 'NN'), ('to', 'TO'), ('the', 'DT'), ('second', 'JJ'), (',', ','), ('take', 'VB'), ('a', 'DT'), ('look', 'NN'), ('at', 'IN'), ('the', 'DT'), ('home', 'NN'), ('.', '.'), ('A', 'DT'), ('furnished', 'JJ'), ('flat', 'NN'), ('at', 'IN'), ('$', '$'), ('8', 'CD'), ('per', 'IN'), ('week', 'NN'), ('.', '.'), ('It', 'PRP'), ('did', 'VBD'), ('not', 'RB'), ('exactly', 'RB'), ('beggar', 'JJ'), ('description', 'NN'), (',', ','), ('but', 'CC'), ('it', 'PRP'), ('certainly', 'RB'), ('had', 'VBD'), ('that', 'IN'), ('word', 'NN'), ('on', 'IN'), ('the', 'DT'), ('look', 'NN'), ('-', ':'), ('out', 'IN'), ('for', 'IN'), ('the', 'DT'), ('mendicancy', 'NN'), ('squad', 'NN'), ('.', '.'), ('In', 'IN'), ('the', 'DT'), ('vestibule', 'NN'), ('below', 'IN'), ('was', 'VBD'), ('a', 'DT'), ('letter', 'NN'), ('-', ':'), ('box', 'NN'), ('into', 'IN'), ('which', 'WDT'), ('no', 'DT'), ('letter', 'NN'), ('would', 'MD'), ('go', 'VB'), (',', ','), ('and', 'CC'), ('an', 'DT'), ('electric', 'JJ'), ('button', 'NN'), ('from', 'IN'), ('which', 'WDT'), ('no', 'DT'), ('mortal', 'NN'), ('finger', 'NN'), ('could', 'MD'), ('coax', 'VB'), ('a', 'DT'), ('ring', 'NN'), ('.', '.'), ('Also', 'RB'), ('appertaining', 'VBG'), ('thereunto', 'NN'), ('was', 'VBD'), ('a', 'DT'), ('card', 'NN'), ('bearing', 'VBG'), ('the', 'DT'), ('name', 'NN'), ('\"', 'NNP'), ('Mr', 'NNP'), ('.', '.'), ('James', 'NNP'), ('Dillingham', 'NNP'), ('Young', 'NNP'), ('.\"', 'VBP'), ('The', 'DT'), ('\"', 'NNP'), ('Dillingham', 'NNP'), ('\"', 'NNP'), ('had', 'VBD'), ('been', 'VBN'), ('flung', 'VBN'), ('to', 'TO'), ('the', 'DT'), ('breeze', 'NN'), ('during', 'IN'), ('a', 'DT'), ('former', 'JJ'), ('period', 'NN'), ('of', 'IN'), ('prosperity', 'NN'), ('when', 'WRB'), ('its', 'PRP$'), ('possessor', 'NN'), ('was', 'VBD'), ('being', 'VBG'), ('paid', 'VBN'), ('$', '$'), ('30', 'CD'), ('per', 'IN'), ('week', 'NN'), ('.', '.'), ('Now', 'RB'), (',', ','), ('when', 'WRB'), ('the', 'DT'), ('income', 'NN'), ('was', 'VBD'), ('shrunk', 'VBN'), ('to', 'TO'), ('$', '$'), ('20', 'CD'), (',', ','), ('the', 'DT'), ('letters', 'NNS'), ('of', 'IN'), ('\"', 'NNP'), ('Dillingham', 'NNP'), ('\"', 'NNP'), ('looked', 'VBD'), ('blurred', 'VBN'), (',', ','), ('as', 'IN'), ('though', 'IN'), ('they', 'PRP'), ('were', 'VBD'), ('thinking', 'VBG'), ('seriously', 'RB'), ('of', 'IN'), ('contracting', 'VBG'), ('to', 'TO'), ('a', 'DT'), ('modest', 'JJ'), ('and', 'CC'), ('unassuming', 'JJ'), ('D', 'NNP'), ('.', '.'), ('But', 'CC'), ('whenever', 'WRB'), ('Mr', 'NNP'), ('.', '.'), ('James', 'NNP'), ('Dillingham', 'NNP'), ('Young', 'NNP'), ('came', 'VBD'), ('home', 'NN'), ('and', 'CC'), ('reached', 'VBD'), ('his', 'PRP$'), ('flat', 'JJ'), ('above', 'IN'), ('he', 'PRP'), ('was', 'VBD'), ('called', 'VBN'), ('\"', 'NNP'), ('Jim', 'NNP'), ('\"', 'NNP'), ('and', 'CC'), ('greatly', 'RB'), ('hugged', 'VBN'), ('by', 'IN'), ('Mrs', 'NNP'), ('.', '.'), ('James', 'NNP'), ('Dillingham', 'NNP'), ('Young', 'NNP'), (',', ','), ('already', 'RB'), ('introduced', 'VBN'), ('to', 'TO'), ('you', 'PRP'), ('as', 'IN'), ('Della', 'NNP'), ('.', '.'), ('Which', 'NNP'), ('is', 'VBZ'), ('all', 'DT'), ('very', 'RB'), ('good', 'JJ'), ('.', '.'), ('Della', 'NN'), ('finished', 'VBD'), ('her', 'PRP$'), ('cry', 'NN'), ('and', 'CC'), ('attended', 'VBD'), ('to', 'TO'), ('her', 'PRP$'), ('cheeks', 'NN'), ('with', 'IN'), ('the', 'DT'), ('powder', 'NN'), ('rag', 'NN'), ('.', '.'), ('She', 'PRP'), ('stood', 'VBD'), ('by', 'IN'), ('the', 'DT'), ('window', 'NN'), ('and', 'CC'), ('looked', 'VBD'), ('out', 'RP'), ('dully', 'RB'), ('at', 'IN'), ('a', 'DT'), ('grey', 'JJ'), ('cat', 'NN'), ('walking', 'VBG'), ('a', 'DT'), ('grey', 'JJ'), ('fence', 'NN'), ('in', 'IN'), ('a', 'DT'), ('grey', 'JJ'), ('backyard', 'NN'), ('.', '.'), ('To', 'TO'), ('-', ':'), ('morrow', 'NN'), ('would', 'MD'), ('be', 'VB'), ('Christmas', 'NNP'), ('Day', 'NNP'), (',', ','), ('and', 'CC'), ('she', 'PRP'), ('had', 'VBD'), ('only', 'RB'), ('$', '$'), ('1', 'CD'), ('.', '.'), ('87', 'CD'), ('with', 'IN'), ('which', 'WDT'), ('to', 'TO'), ('buy', 'VB'), ('Jim', 'NNP'), ('a', 'DT'), ('present', 'JJ'), ('.', '.'), ('She', 'PRP'), ('had', 'VBD'), ('been', 'VBN'), ('saving', 'VBG'), ('every', 'DT'), ('penny', 'NN'), ('she', 'PRP'), ('could', 'MD'), ('for', 'IN'), ('months', 'NNS'), (',', ','), ('with', 'IN'), ('this', 'DT'), ('result', 'NN'), ('.', '.'), ('Twenty', 'CD'), ('dollars', 'NNS'), ('a', 'DT'), ('week', 'NN'), ('doesn', 'NN'), (\"'\", \"''\"), ('t', 'NNS'), ('go', 'VBP'), ('far', 'RB'), ('.', '.'), ('Expenses', 'NNS'), ('had', 'VBD'), ('been', 'VBN'), ('greater', 'JJR'), ('than', 'IN'), ('she', 'PRP'), ('had', 'VBD'), ('calculated', 'VBN'), ('.', '.'), ('They', 'PRP'), ('always', 'RB'), ('are', 'VBP'), ('.', '.'), ('Only', 'RB'), ('$', '$'), ('1', 'CD'), ('.', '.'), ('87', 'CD'), ('to', 'TO'), ('buy', 'VB'), ('a', 'DT'), ('present', 'JJ'), ('for', 'IN'), ('Jim', 'NNP'), ('.', '.'), ('Her', 'PRP$'), ('Jim', 'NNP'), ('.', '.'), ('Many', 'PDT'), ('a', 'DT'), ('happy', 'JJ'), ('hour', 'NN'), ('she', 'PRP'), ('had', 'VBD'), ('spent', 'VBN'), ('planning', 'VBG'), ('for', 'IN'), ('something', 'NN'), ('nice', 'JJ'), ('for', 'IN'), ('him', 'PRP'), ('.', '.'), ('Something', 'VBG'), ('fine', 'JJ'), ('and', 'CC'), ('rare', 'JJ'), ('and', 'CC'), ('sterling', 'NN'), ('--', ':'), ('something', 'NN'), ('just', 'RB'), ('a', 'DT'), ('little', 'JJ'), ('bit', 'NN'), ('near', 'IN'), ('to', 'TO'), ('being', 'VBG'), ('worthy', 'JJ'), ('of', 'IN'), ('the', 'DT'), ('honour', 'NN'), ('of', 'IN'), ('being', 'VBG'), ('owned', 'VBN'), ('by', 'IN'), ('Jim', 'NNP'), ('.', '.'), ('There', 'EX'), ('was', 'VBD'), ('a', 'DT'), ('pier', 'JJR'), ('-', ':'), ('glass', 'NN'), ('between', 'IN'), ('the', 'DT'), ('windows', 'NNS'), ('of', 'IN'), ('the', 'DT'), ('room', 'NN'), ('.', '.'), ('Perhaps', 'RB'), ('you', 'PRP'), ('have', 'VBP'), ('seen', 'VBN'), ('a', 'DT'), ('pier', 'JJR'), ('-', ':'), ('glass', 'NN'), ('in', 'IN'), ('an', 'DT'), ('$', '$'), ('8', 'CD'), ('flat', 'JJ'), ('.', '.'), ('A', 'DT'), ('very', 'RB'), ('thin', 'JJ'), ('and', 'CC'), ('very', 'RB'), ('agile', 'JJ'), ('person', 'NN'), ('may', 'MD'), (',', ','), ('by', 'IN'), ('observing', 'VBG'), ('his', 'PRP$'), ('reflection', 'NN'), ('in', 'IN'), ('a', 'DT'), ('rapid', 'JJ'), ('sequence', 'NN'), ('of', 'IN'), ('longitudinal', 'JJ'), ('strips', 'NNS'), (',', ','), ('obtain', 'VB'), ('a', 'DT'), ('fairly', 'RB'), ('accurate', 'JJ'), ('conception', 'NN'), ('of', 'IN'), ('his', 'PRP$'), ('looks', 'NNS'), ('.', '.'), ('Della', 'NNP'), (',', ','), ('being', 'VBG'), ('slender', 'NN'), (',', ','), ('had', 'VBD'), ('mastered', 'VBN'), ('the', 'DT'), ('art', 'NN'), ('.', '.'), ('Suddenly', 'RB'), ('she', 'PRP'), ('whirled', 'VBD'), ('from', 'IN'), ('the', 'DT'), ('window', 'NN'), ('and', 'CC'), ('stood', 'VBD'), ('before', 'IN'), ('the', 'DT'), ('glass', 'NN'), ('.', '.'), ('Her', 'PRP$'), ('eyes', 'NNS'), ('were', 'VBD'), ('shining', 'VBG'), ('brilliantly', 'RB'), (',', ','), ('but', 'CC'), ('her', 'PRP$'), ('face', 'NN'), ('had', 'VBD'), ('lost', 'VBN'), ('its', 'PRP$'), ('colour', 'NN'), ('within', 'IN'), ('twenty', 'JJ'), ('seconds', 'NNS'), ('.', '.'), ('Rapidly', 'RB'), ('she', 'PRP'), ('pulled', 'VBD'), ('down', 'RP'), ('her', 'PRP$'), ('hair', 'NN'), ('and', 'CC'), ('let', 'VB'), ('it', 'PRP'), ('fall', 'VB'), ('to', 'TO'), ('its', 'PRP$'), ('full', 'JJ'), ('length', 'NN'), ('.', '.'), ('Now', 'RB'), (',', ','), ('there', 'EX'), ('were', 'VBD'), ('two', 'CD'), ('possessions', 'NNS'), ('of', 'IN'), ('the', 'DT'), ('James', 'NNP'), ('Dillingham', 'NNP'), ('Youngs', 'NNP'), ('in', 'IN'), ('which', 'WDT'), ('they', 'PRP'), ('both', 'DT'), ('took', 'VBD'), ('a', 'DT'), ('mighty', 'JJ'), ('pride', 'NN'), ('.', '.'), ('One', 'CD'), ('was', 'VBD'), ('Jim', 'NNP'), (\"'\", 'POS'), ('s', 'JJ'), ('gold', 'NN'), ('watch', 'NN'), ('that', 'WDT'), ('had', 'VBD'), ('been', 'VBN'), ('his', 'PRP$'), ('father', 'NN'), (\"'\", 'POS'), ('s', 'NN'), ('and', 'CC'), ('his', 'PRP$'), ('grandfather', 'NN'), (\"'\", \"''\"), ('s', 'NN'), ('.', '.'), ('The', 'DT'), ('other', 'JJ'), ('was', 'VBD'), ('Della', 'NNP'), (\"'\", 'POS'), ('s', 'JJ'), ('hair', 'NN'), ('.', '.'), ('Had', 'VBD'), ('the', 'DT'), ('Queen', 'NNP'), ('of', 'IN'), ('Sheba', 'NNP'), ('lived', 'VBD'), ('in', 'IN'), ('the', 'DT'), ('flat', 'JJ'), ('across', 'IN'), ('the', 'DT'), ('airshaft', 'NN'), (',', ','), ('Della', 'NNP'), ('would', 'MD'), ('have', 'VB'), ('let', 'VB'), ('her', 'PRP'), ('hair', 'VB'), ('hang', 'PRP'), ('out', 'IN'), ('of', 'IN'), ('the', 'DT'), ('window', 'NN'), ('some', 'DT'), ('day', 'NN'), ('to', 'TO'), ('dry', 'VB'), ('just', 'RB'), ('to', 'TO'), ('depreciate', 'VB'), ('Her', 'NNP'), ('Majesty', 'NNP'), (\"'\", 'POS'), ('s', 'NN'), ('jewels', 'NNS'), ('and', 'CC'), ('gifts', 'NNS'), ('.', '.'), ('Had', 'NNP'), ('King', 'NNP'), ('Solomon', 'NNP'), ('been', 'VBN'), ('the', 'DT'), ('janitor', 'NN'), (',', ','), ('with', 'IN'), ('all', 'PDT'), ('his', 'PRP$'), ('treasures', 'NNS'), ('piled', 'VBD'), ('up', 'RP'), ('in', 'IN'), ('the', 'DT'), ('basement', 'NN'), (',', ','), ('Jim', 'NNP'), ('would', 'MD'), ('have', 'VB'), ('pulled', 'VBN'), ('out', 'RP'), ('his', 'PRP$'), ('watch', 'NN'), ('every', 'DT'), ('time', 'NN'), ('he', 'PRP'), ('passed', 'VBD'), (',', ','), ('just', 'RB'), ('to', 'TO'), ('see', 'VB'), ('him', 'PRP'), ('pluck', 'VB'), ('at', 'IN'), ('his', 'PRP$'), ('beard', 'NN'), ('from', 'IN'), ('envy', 'NN'), ('.', '.'), ('So', 'RB'), ('now', 'RB'), ('Della', 'NNP'), (\"'\", 'POS'), ('s', 'NN'), ('beautiful', 'JJ'), ('hair', 'NN'), ('fell', 'VBD'), ('about', 'IN'), ('her', 'PRP'), (',', ','), ('rippling', 'VBG'), ('and', 'CC'), ('shining', 'VBG'), ('like', 'IN'), ('a', 'DT'), ('cascade', 'NN'), ('of', 'IN'), ('brown', 'JJ'), ('waters', 'NNS'), ('.', '.'), ('It', 'PRP'), ('reached', 'VBD'), ('below', 'IN'), ('her', 'PRP$'), ('knee', 'NN'), ('and', 'CC'), ('made', 'VBD'), ('itself', 'PRP'), ('almost', 'RB'), ('a', 'DT'), ('garment', 'NN'), ('for', 'IN'), ('her', 'PRP$'), ('.', '.'), ('And', 'CC'), ('then', 'RB'), ('she', 'PRP'), ('did', 'VBD'), ('it', 'PRP'), ('up', 'RP'), ('again', 'RB'), ('nervously', 'RB'), ('and', 'CC'), ('quickly', 'RB'), ('.', '.'), ('Once', 'IN'), ('she', 'PRP'), ('faltered', 'VBD'), ('for', 'IN'), ('a', 'DT'), ('minute', 'NN'), ('and', 'CC'), ('stood', 'VBD'), ('still', 'RB'), ('while', 'IN'), ('a', 'DT'), ('tear', 'JJ'), ('or', 'CC'), ('two', 'CD'), ('splashed', 'VBN'), ('on', 'IN'), ('the', 'DT'), ('worn', 'JJ'), ('red', 'JJ'), ('carpet', 'NN'), ('.', '.'), ('On', 'IN'), ('went', 'VBD'), ('her', 'PRP$'), ('old', 'JJ'), ('brown', 'JJ'), ('jacket', 'NN'), (';', ':'), ('on', 'IN'), ('went', 'VBD'), ('her', 'PRP$'), ('old', 'JJ'), ('brown', 'JJ'), ('hat', 'NN'), ('.', '.'), ('With', 'IN'), ('a', 'DT'), ('whirl', 'NN'), ('of', 'IN'), ('skirts', 'NNS'), ('and', 'CC'), ('with', 'IN'), ('the', 'DT'), ('brilliant', 'NN'), ('sparkle', 'NN'), ('still', 'RB'), ('in', 'IN'), ('her', 'PRP$'), ('eyes', 'NNS'), (',', ','), ('she', 'PRP'), ('cluttered', 'VBD'), ('out', 'IN'), ('of', 'IN'), ('the', 'DT'), ('door', 'NN'), ('and', 'CC'), ('down', 'IN'), ('the', 'DT'), ('stairs', 'NNS'), ('to', 'TO'), ('the', 'DT'), ('street', 'NN'), ('.', '.'), ('Where', 'WRB'), ('she', 'PRP'), ('stopped', 'VBD'), ('the', 'DT'), ('sign', 'NN'), ('read', 'NN'), (':', ':'), ('\"', 'JJ'), ('Mme', 'NNP'), ('Sofronie', 'NNP'), ('.', '.'), ('Hair', 'NNP'), ('Goods', 'NNP'), ('of', 'IN'), ('All', 'NNP'), ('Kinds', 'NNP'), ('.\"', 'NNP'), ('One', 'CD'), ('Eight', 'NNP'), ('up', 'RB'), ('Della', 'NNP'), ('ran', 'NN'), (',', ','), ('and', 'CC'), ('collected', 'VBD'), ('herself', 'PRP'), (',', ','), ('panting', 'VBG'), ('.', '.'), ('Madame', 'NNP'), (',', ','), ('large', 'JJ'), (',', ','), ('too', 'RB'), ('white', 'JJ'), (',', ','), ('chilly', 'RB'), (',', ','), ('hardly', 'RB'), ('looked', 'VBD'), ('the', 'DT'), ('\"', 'NNP'), ('Sofronie', 'NNP'), ('.\"', 'NNP'), ('\"', 'NNP'), ('Will', 'NNP'), ('you', 'PRP'), ('buy', 'VBP'), ('my', 'PRP$'), ('hair', 'NN'), ('?\"', 'NNP'), ('asked', 'VBD'), ('Della', 'NNP'), ('.', '.'), ('\"', 'NN'), ('I', 'PRP'), ('buy', 'VBP'), ('hair', 'JJ'), (',\"', 'NNP'), ('said', 'VBD'), ('Madame', 'NNP'), ('.', '.'), ('\"', 'NNS'), ('Take', 'VBP'), ('yer', 'NN'), ('hat', 'WP'), ('off', 'IN'), ('and', 'CC'), ('let', 'VB'), (\"'\", \"''\"), ('s', 'NNS'), ('have', 'VBP'), ('a', 'DT'), ('sight', 'NN'), ('at', 'IN'), ('the', 'DT'), ('looks', 'NNS'), ('of', 'IN'), ('it', 'PRP'), ('.\"', 'NNP'), ('Down', 'NNP'), ('rippled', 'VBD'), ('the', 'DT'), ('brown', 'JJ'), ('cascade', 'NN'), ('.', '.'), ('\"', 'JJ'), ('Twenty', 'CD'), ('dollars', 'NNS'), (',\"', 'NNP'), ('said', 'VBD'), ('Madame', 'NNP'), (',', ','), ('lifting', 'VBG'), ('the', 'DT'), ('mass', 'NN'), ('with', 'IN'), ('a', 'DT'), ('practised', 'JJ'), ('hand', 'NN'), ('.', '.'), ('\"', 'CC'), ('Give', 'VB'), ('it', 'PRP'), ('to', 'TO'), ('me', 'PRP'), ('quick', 'JJ'), ('\"', 'NNP'), ('said', 'VBD'), ('Della', 'NNP'), ('.', '.'), ('Oh', 'NNP'), (',', ','), ('and', 'CC'), ('the', 'DT'), ('next', 'JJ'), ('two', 'CD'), ('hours', 'NNS'), ('tripped', 'VBN'), ('by', 'IN'), ('on', 'IN'), ('rosy', 'JJ'), ('wings', 'NNS'), ('.', '.'), ('Forget', 'VB'), ('the', 'DT'), ('hashed', 'JJ'), ('metaphor', 'NN'), ('.', '.'), ('She', 'PRP'), ('was', 'VBD'), ('ransacking', 'VBG'), ('the', 'DT'), ('stores', 'NNS'), ('for', 'IN'), ('Jim', 'NNP'), (\"'\", 'POS'), ('s', 'JJ'), ('present', 'NN'), ('.', '.'), ('She', 'PRP'), ('found', 'VBD'), ('it', 'PRP'), ('at', 'IN'), ('last', 'JJ'), ('.', '.'), ('It', 'PRP'), ('surely', 'RB'), ('had', 'VBD'), ('been', 'VBN'), ('made', 'VBN'), ('for', 'IN'), ('Jim', 'NNP'), ('and', 'CC'), ('no', 'DT'), ('one', 'NN'), ('else', 'RB'), ('.', '.'), ('There', 'EX'), ('was', 'VBD'), ('no', 'DT'), ('other', 'JJ'), ('like', 'IN'), ('it', 'PRP'), ('in', 'IN'), ('any', 'DT'), ('of', 'IN'), ('the', 'DT'), ('stores', 'NNS'), (',', ','), ('and', 'CC'), ('she', 'PRP'), ('had', 'VBD'), ('turned', 'VBN'), ('all', 'DT'), ('of', 'IN'), ('them', 'PRP'), ('inside', 'IN'), ('out', 'IN'), ('.', '.'), ('It', 'PRP'), ('was', 'VBD'), ('a', 'DT'), ('platinum', 'NN'), ('fob', 'NN'), ('chain', 'NN'), ('simple', 'NN'), ('and', 'CC'), ('chaste', 'NN'), ('in', 'IN'), ('design', 'NN'), (',', ','), ('properly', 'RB'), ('proclaiming', 'VBG'), ('its', 'PRP$'), ('value', 'NN'), ('by', 'IN'), ('substance', 'NN'), ('alone', 'RB'), ('and', 'CC'), ('not', 'RB'), ('by', 'IN'), ('meretricious', 'JJ'), ('ornamentation', 'NN'), ('--', ':'), ('as', 'IN'), ('all', 'DT'), ('good', 'JJ'), ('things', 'NNS'), ('should', 'MD'), ('do', 'VB'), ('.', '.'), ('It', 'PRP'), ('was', 'VBD'), ('even', 'RB'), ('worthy', 'JJR'), ('of', 'IN'), ('The', 'DT'), ('Watch', 'NNP'), ('.', '.'), ('As', 'RB'), ('soon', 'RB'), ('as', 'IN'), ('she', 'PRP'), ('saw', 'VBD'), ('it', 'PRP'), ('she', 'PRP'), ('knew', 'VBD'), ('that', 'IN'), ('it', 'PRP'), ('must', 'MD'), ('be', 'VB'), ('Jim', 'NNP'), (\"'\", 'POS'), ('s', 'NN'), ('.', '.'), ('It', 'PRP'), ('was', 'VBD'), ('like', 'IN'), ('him', 'PRP'), ('.', '.'), ('Quietness', 'NN'), ('and', 'CC'), ('value', 'NN'), ('--', ':'), ('the', 'DT'), ('description', 'NN'), ('applied', 'VBN'), ('to', 'TO'), ('both', 'DT'), ('.', '.'), ('Twenty', 'NNP'), ('-', ':'), ('one', 'CD'), ('dollars', 'NNS'), ('they', 'PRP'), ('took', 'VBD'), ('from', 'IN'), ('her', 'PRP$'), ('for', 'IN'), ('it', 'PRP'), (',', ','), ('and', 'CC'), ('she', 'PRP'), ('hurried', 'VBD'), ('home', 'NN'), ('with', 'IN'), ('the', 'DT'), ('78', 'CD'), ('cents', 'NNS'), ('.', '.'), ('With', 'IN'), ('that', 'DT'), ('chain', 'NN'), ('on', 'IN'), ('his', 'PRP$'), ('watch', 'NN'), ('Jim', 'NNP'), ('might', 'MD'), ('be', 'VB'), ('properly', 'RB'), ('anxious', 'JJ'), ('about', 'IN'), ('the', 'DT'), ('time', 'NN'), ('in', 'IN'), ('any', 'DT'), ('company', 'NN'), ('.', '.'), ('Grand', 'NNP'), ('as', 'IN'), ('the', 'DT'), ('watch', 'NN'), ('was', 'VBD'), (',', ','), ('he', 'PRP'), ('sometimes', 'RB'), ('looked', 'VBD'), ('at', 'IN'), ('it', 'PRP'), ('on', 'IN'), ('the', 'DT'), ('sly', 'RB'), ('on', 'IN'), ('account', 'NN'), ('of', 'IN'), ('the', 'DT'), ('old', 'JJ'), ('leather', 'NN'), ('strap', 'NN'), ('that', 'IN'), ('he', 'PRP'), ('used', 'VBD'), ('in', 'IN'), ('place', 'NN'), ('of', 'IN'), ('a', 'DT'), ('chain', 'NN'), ('.', '.'), ('When', 'WRB'), ('Della', 'NNP'), ('reached', 'VBD'), ('home', 'NN'), ('her', 'PRP$'), ('intoxication', 'NN'), ('gave', 'VBD'), ('way', 'NN'), ('a', 'DT'), ('little', 'JJ'), ('to', 'TO'), ('prudence', 'VB'), ('and', 'CC'), ('reason', 'NN'), ('.', '.'), ('She', 'PRP'), ('got', 'VBD'), ('out', 'RP'), ('her', 'PRP$'), ('curling', 'VBG'), ('irons', 'NNS'), ('and', 'CC'), ('lighted', 'VBD'), ('the', 'DT'), ('gas', 'NN'), ('and', 'CC'), ('went', 'VBD'), ('to', 'TO'), ('work', 'VB'), ('repairing', 'VBG'), ('the', 'DT'), ('ravages', 'NNS'), ('made', 'VBN'), ('by', 'IN'), ('generosity', 'NN'), ('added', 'VBN'), ('to', 'TO'), ('love', 'VB'), ('.', '.'), ('Which', 'NNP'), ('is', 'VBZ'), ('always', 'RB'), ('a', 'DT'), ('tremendous', 'JJ'), ('task', 'NN'), ('dear', 'JJ'), ('friends', 'NNS'), ('--', ':'), ('a', 'DT'), ('mammoth', 'JJ'), ('task', 'NN'), ('.', '.'), ('Within', 'IN'), ('forty', 'JJ'), ('minutes', 'NNS'), ('her', 'PRP$'), ('head', 'NN'), ('was', 'VBD'), ('covered', 'VBN'), ('with', 'IN'), ('tiny', 'JJ'), (',', ','), ('close', 'JJ'), ('-', ':'), ('lying', 'VBG'), ('curls', 'NNS'), ('that', 'WDT'), ('made', 'VBD'), ('her', 'PRP'), ('look', 'VB'), ('wonderfully', 'RB'), ('like', 'IN'), ('a', 'DT'), ('truant', 'JJ'), ('schoolboy', 'NN'), ('.', '.'), ('She', 'PRP'), ('looked', 'VBD'), ('at', 'IN'), ('her', 'PRP$'), ('reflection', 'NN'), ('in', 'IN'), ('the', 'DT'), ('mirror', 'NN'), ('long', 'RB'), (',', ','), ('carefully', 'RB'), (',', ','), ('and', 'CC'), ('critically', 'RB'), ('.', '.'), ('\"', 'VB'), ('If', 'IN'), ('Jim', 'NNP'), ('doesn', 'NN'), (\"'\", \"''\"), ('t', 'NN'), ('kill', 'VB'), ('me', 'PRP'), (',\"', 'JJ'), ('she', 'PRP'), ('said', 'VBD'), ('to', 'TO'), ('herself', 'VB'), (',', ','), ('\"', 'FW'), ('before', 'IN'), ('he', 'PRP'), ('takes', 'VBZ'), ('a', 'DT'), ('second', 'JJ'), ('look', 'NN'), ('at', 'IN'), ('me', 'PRP'), (',', ','), ('he', 'PRP'), (\"'\", \"''\"), ('ll', 'JJ'), ('say', 'VBP'), ('I', 'PRP'), ('look', 'VBP'), ('like', 'IN'), ('a', 'DT'), ('Coney', 'NNP'), ('Island', 'NNP'), ('chorus', 'NN'), ('girl', 'NN'), ('.', '.'), ('But', 'CC'), ('what', 'WP'), ('could', 'MD'), ('I', 'PRP'), ('do', 'VBP'), ('--', ':'), ('oh', 'VB'), ('!', '.'), ('what', 'WP'), ('could', 'MD'), ('I', 'PRP'), ('do', 'VBP'), ('with', 'IN'), ('a', 'DT'), ('dollar', 'NN'), ('and', 'CC'), ('eighty', 'JJ'), ('-', ':'), ('seven', 'CD'), ('cents', 'NNS'), ('?\"', 'VBP'), ('At', 'IN'), ('7', 'CD'), ('o', 'NN'), (\"'\", \"''\"), ('clock', 'NN'), ('the', 'DT'), ('coffee', 'NN'), ('was', 'VBD'), ('made', 'VBN'), ('and', 'CC'), ('the', 'DT'), ('frying', 'VBG'), ('-', ':'), ('pan', 'NN'), ('was', 'VBD'), ('on', 'IN'), ('the', 'DT'), ('back', 'NN'), ('of', 'IN'), ('the', 'DT'), ('stove', 'NN'), ('hot', 'JJ'), ('and', 'CC'), ('ready', 'JJ'), ('to', 'TO'), ('cook', 'VB'), ('the', 'DT'), ('chops', 'NNS'), ('.', '.'), ('Jim', 'NNP'), ('was', 'VBD'), ('never', 'RB'), ('late', 'RB'), ('.', '.'), ('Della', 'NNP'), ('doubled', 'VBD'), ('the', 'DT'), ('fob', 'NN'), ('chain', 'NN'), ('in', 'IN'), ('her', 'PRP$'), ('hand', 'NN'), ('and', 'CC'), ('sat', 'NN'), ('on', 'IN'), ('the', 'DT'), ('corner', 'NN'), ('of', 'IN'), ('the', 'DT'), ('table', 'NN'), ('near', 'IN'), ('the', 'DT'), ('door', 'NN'), ('that', 'IN'), ('he', 'PRP'), ('always', 'RB'), ('entered', 'VBD'), ('.', '.'), ('Then', 'RB'), ('she', 'PRP'), ('heard', 'VBD'), ('his', 'PRP$'), ('step', 'NN'), ('on', 'IN'), ('the', 'DT'), ('stair', 'NN'), ('away', 'RB'), ('down', 'RB'), ('on', 'IN'), ('the', 'DT'), ('first', 'JJ'), ('flight', 'NN'), (',', ','), ('and', 'CC'), ('she', 'PRP'), ('turned', 'VBD'), ('white', 'JJ'), ('for', 'IN'), ('just', 'RB'), ('a', 'DT'), ('moment', 'NN'), ('.', '.'), ('She', 'PRP'), ('had', 'VBD'), ('a', 'DT'), ('habit', 'NN'), ('of', 'IN'), ('saying', 'VBG'), ('little', 'JJ'), ('silent', 'JJ'), ('prayers', 'NNS'), ('about', 'IN'), ('the', 'DT'), ('simplest', 'JJS'), ('everyday', 'JJ'), ('things', 'NNS'), (',', ','), ('and', 'CC'), ('now', 'RB'), ('she', 'PRP'), ('whispered', 'VBD'), (':', ':'), ('\"', 'NN'), ('Please', 'NNP'), (',', ','), ('God', 'NNP'), (',', ','), ('make', 'VBP'), ('him', 'PRP'), ('think', 'VB'), ('I', 'PRP'), ('am', 'VBP'), ('still', 'RB'), ('pretty', 'RB'), ('.\"', 'VBZ'), ('The', 'DT'), ('door', 'NN'), ('opened', 'VBD'), ('and', 'CC'), ('Jim', 'NNP'), ('stepped', 'VBD'), ('in', 'IN'), ('and', 'CC'), ('closed', 'VBD'), ('it', 'PRP'), ('.', '.'), ('He', 'PRP'), ('looked', 'VBD'), ('thin', 'JJ'), ('and', 'CC'), ('very', 'RB'), ('serious', 'JJ'), ('.', '.'), ('Poor', 'NNP'), ('fellow', 'NN'), (',', ','), ('he', 'PRP'), ('was', 'VBD'), ('only', 'RB'), ('twenty', 'JJ'), ('-', ':'), ('two', 'CD'), ('--', ':'), ('and', 'CC'), ('to', 'TO'), ('be', 'VB'), ('burdened', 'VBN'), ('with', 'IN'), ('a', 'DT'), ('family', 'NN'), ('!', '.'), ('He', 'PRP'), ('needed', 'VBD'), ('a', 'DT'), ('new', 'JJ'), ('overcoat', 'NN'), ('and', 'CC'), ('he', 'PRP'), ('was', 'VBD'), ('without', 'IN'), ('gloves', 'NNS'), ('.', '.'), ('Jim', 'NNP'), ('stepped', 'VBD'), ('inside', 'IN'), ('the', 'DT'), ('door', 'NN'), (',', ','), ('as', 'RB'), ('immovable', 'JJ'), ('as', 'IN'), ('a', 'DT'), ('setter', 'NN'), ('at', 'IN'), ('the', 'DT'), ('scent', 'NN'), ('of', 'IN'), ('quail', 'NN'), ('.', '.'), ('His', 'PRP$'), ('eyes', 'NNS'), ('were', 'VBD'), ('fixed', 'VBN'), ('upon', 'IN'), ('Della', 'NNP'), (',', ','), ('and', 'CC'), ('there', 'EX'), ('was', 'VBD'), ('an', 'DT'), ('expression', 'NN'), ('in', 'IN'), ('them', 'PRP'), ('that', 'IN'), ('she', 'PRP'), ('could', 'MD'), ('not', 'RB'), ('read', 'VB'), (',', ','), ('and', 'CC'), ('it', 'PRP'), ('terrified', 'VBD'), ('her', 'PRP'), ('.', '.'), ('It', 'PRP'), ('was', 'VBD'), ('not', 'RB'), ('anger', 'JJ'), (',', ','), ('nor', 'CC'), ('surprise', 'NN'), (',', ','), ('nor', 'CC'), ('disapproval', 'NN'), (',', ','), ('nor', 'CC'), ('horror', 'NN'), (',', ','), ('nor', 'CC'), ('any', 'DT'), ('of', 'IN'), ('the', 'DT'), ('sentiments', 'NNS'), ('that', 'IN'), ('she', 'PRP'), ('had', 'VBD'), ('been', 'VBN'), ('prepared', 'VBN'), ('for', 'IN'), ('.', '.'), ('He', 'PRP'), ('simply', 'RB'), ('stared', 'VBD'), ('at', 'IN'), ('her', 'PRP$'), ('fixedly', 'RB'), ('with', 'IN'), ('that', 'DT'), ('peculiar', 'JJ'), ('expression', 'NN'), ('on', 'IN'), ('his', 'PRP$'), ('face', 'NN'), ('.', '.'), ('Della', 'NNP'), ('wriggled', 'VBD'), ('off', 'RP'), ('the', 'DT'), ('table', 'NN'), ('and', 'CC'), ('went', 'VBD'), ('for', 'IN'), ('him', 'PRP'), ('.', '.'), ('\"', 'VB'), ('Jim', 'NNP'), (',', ','), ('darling', 'VBG'), (',\"', 'NN'), ('she', 'PRP'), ('cried', 'VBD'), (',', ','), ('\"', 'NNP'), ('don', 'NN'), (\"'\", \"''\"), ('t', 'JJ'), ('look', 'NN'), ('at', 'IN'), ('me', 'PRP'), ('that', 'DT'), ('way', 'NN'), ('.', '.'), ('I', 'PRP'), ('had', 'VBD'), ('my', 'PRP$'), ('hair', 'NN'), ('cut', 'VBD'), ('off', 'RP'), ('and', 'CC'), ('sold', 'VBD'), ('it', 'PRP'), ('because', 'IN'), ('I', 'PRP'), ('couldn', 'VBP'), (\"'\", \"''\"), ('t', 'NNS'), ('have', 'VBP'), ('lived', 'VBN'), ('through', 'IN'), ('Christmas', 'NNP'), ('without', 'IN'), ('giving', 'VBG'), ('you', 'PRP'), ('a', 'DT'), ('present', 'JJ'), ('.', '.'), ('It', 'PRP'), (\"'\", \"''\"), ('ll', 'JJ'), ('grow', 'VBP'), ('out', 'RP'), ('again', 'RB'), ('--', ':'), ('you', 'PRP'), ('won', 'VBD'), (\"'\", \"''\"), ('t', 'JJ'), ('mind', 'NN'), (',', ','), ('will', 'MD'), ('you', 'PRP'), ('?', '.'), ('I', 'PRP'), ('just', 'RB'), ('had', 'VBD'), ('to', 'TO'), ('do', 'VB'), ('it', 'PRP'), ('.', '.'), ('My', 'NNP'), ('hair', 'NN'), ('grows', 'VBZ'), ('awfully', 'RB'), ('fast', 'JJ'), ('.', '.'), ('Say', 'NNP'), (\"'\", 'POS'), ('Merry', 'NNP'), ('Christmas', 'NNP'), (\"!'\", 'NNP'), ('Jim', 'NNP'), (',', ','), ('and', 'CC'), ('let', 'VB'), (\"'\", \"''\"), ('s', 'JJ'), ('be', 'VB'), ('happy', 'JJ'), ('.', '.'), ('You', 'PRP'), ('don', 'VBP'), (\"'\", \"''\"), ('t', 'NN'), ('know', 'VBP'), ('what', 'WP'), ('a', 'DT'), ('nice', 'JJ'), ('-', ':'), ('what', 'WP'), ('a', 'DT'), ('beautiful', 'NN'), (',', ','), ('nice', 'JJ'), ('gift', 'NN'), ('I', 'PRP'), (\"'\", \"''\"), ('ve', 'NN'), ('got', 'VBD'), ('for', 'IN'), ('you', 'PRP'), ('.\"', 'VBP'), ('\"', 'IN'), ('You', 'PRP'), (\"'\", \"''\"), ('ve', 'JJ'), ('cut', 'VBD'), ('off', 'RP'), ('your', 'PRP$'), ('hair', 'NN'), ('?\"', 'NN'), ('asked', 'VBD'), ('Jim', 'NNP'), (',', ','), ('laboriously', 'RB'), (',', ','), ('as', 'IN'), ('if', 'IN'), ('he', 'PRP'), ('had', 'VBD'), ('not', 'RB'), ('arrived', 'VBN'), ('at', 'IN'), ('that', 'DT'), ('patent', 'NN'), ('fact', 'NN'), ('yet', 'RB'), (',', ','), ('even', 'RB'), ('after', 'IN'), ('the', 'DT'), ('hardest', 'JJS'), ('mental', 'JJ'), ('labour', 'NN'), ('.', '.'), ('\"', 'JJ'), ('Cut', 'NNP'), ('it', 'PRP'), ('off', 'RP'), ('and', 'CC'), ('sold', 'VBD'), ('it', 'PRP'), (',\"', 'NNP'), ('said', 'VBD'), ('Della', 'NNP'), ('.', '.'), ('\"', 'CC'), ('Don', 'NNP'), (\"'\", 'POS'), ('t', 'NN'), ('you', 'PRP'), ('like', 'IN'), ('me', 'PRP'), ('just', 'RB'), ('as', 'RB'), ('well', 'RB'), (',', ','), ('anyhow', 'NN'), ('?', '.'), ('I', 'PRP'), (\"'\", \"''\"), ('m', 'FW'), ('me', 'PRP'), ('without', 'IN'), ('my', 'PRP$'), ('hair', 'NN'), (',', ','), ('ain', 'NN'), (\"'\", \"''\"), ('t', 'NN'), ('I', 'PRP'), ('?\"', 'VBP'), ('Jim', 'NNP'), ('looked', 'VBD'), ('about', 'IN'), ('the', 'DT'), ('room', 'NN'), ('curiously', 'RB'), ('.', '.'), ('\"', 'VB'), ('You', 'PRP'), ('say', 'VBP'), ('your', 'PRP$'), ('hair', 'NN'), ('is', 'VBZ'), ('gone', 'VBN'), ('?\"', 'RB'), ('he', 'PRP'), ('said', 'VBD'), (',', ','), ('with', 'IN'), ('an', 'DT'), ('air', 'NN'), ('almost', 'RB'), ('of', 'IN'), ('idiocy', 'NN'), ('.', '.'), ('\"', 'CC'), ('You', 'PRP'), ('needn', 'VBP'), (\"'\", \"''\"), ('t', 'JJ'), ('look', 'NN'), ('for', 'IN'), ('it', 'PRP'), (',\"', 'NNP'), ('said', 'VBD'), ('Della', 'NNP'), ('.', '.'), ('\"', 'VB'), ('It', 'PRP'), (\"'\", \"''\"), ('s', 'JJ'), ('sold', 'VBN'), (',', ','), ('I', 'PRP'), ('tell', 'VBP'), ('you', 'PRP'), ('--', ':'), ('sold', 'VBN'), ('and', 'CC'), ('gone', 'VBN'), (',', ','), ('too', 'RB'), ('.', '.'), ('It', 'PRP'), (\"'\", \"''\"), ('s', 'JJ'), ('Christmas', 'NNP'), ('Eve', 'NNP'), (',', ','), ('boy', 'NN'), ('.', '.'), ('Be', 'VB'), ('good', 'JJ'), ('to', 'TO'), ('me', 'PRP'), (',', ','), ('for', 'IN'), ('it', 'PRP'), ('went', 'VBD'), ('for', 'IN'), ('you', 'PRP'), ('.', '.'), ('Maybe', 'RB'), ('the', 'DT'), ('hairs', 'NN'), ('of', 'IN'), ('my', 'PRP$'), ('head', 'NN'), ('were', 'VBD'), ('numbered', 'VBN'), (',\"', 'NNP'), ('she', 'PRP'), ('went', 'VBD'), ('on', 'IN'), ('with', 'IN'), ('a', 'DT'), ('sudden', 'JJ'), ('serious', 'JJ'), ('sweetness', 'NN'), (',', ','), ('\"', 'NN'), ('but', 'CC'), ('nobody', 'NN'), ('could', 'MD'), ('ever', 'RB'), ('count', 'VB'), ('my', 'PRP$'), ('love', 'NN'), ('for', 'IN'), ('you', 'PRP'), ('.', '.'), ('Shall', 'VB'), ('I', 'PRP'), ('put', 'VBD'), ('the', 'DT'), ('chops', 'NNS'), ('on', 'IN'), (',', ','), ('Jim', 'NNP'), ('?\"', 'VBZ'), ('Out', 'NNP'), ('of', 'IN'), ('his', 'PRP$'), ('trance', 'NN'), ('Jim', 'NNP'), ('seemed', 'VBD'), ('quickly', 'RB'), ('to', 'TO'), ('wake', 'VB'), ('.', '.'), ('He', 'PRP'), ('enfolded', 'VBD'), ('his', 'PRP$'), ('Della', 'NN'), ('.', '.'), ('For', 'IN'), ('ten', 'JJ'), ('seconds', 'NNS'), ('let', 'VBP'), ('us', 'PRP'), ('regard', 'VB'), ('with', 'IN'), ('discreet', 'NN'), ('scrutiny', 'NN'), ('some', 'DT'), ('inconsequential', 'JJ'), ('object', 'NN'), ('in', 'IN'), ('the', 'DT'), ('other', 'JJ'), ('direction', 'NN'), ('.', '.'), ('Eight', 'CD'), ('dollars', 'NNS'), ('a', 'DT'), ('week', 'NN'), ('or', 'CC'), ('a', 'DT'), ('million', 'CD'), ('a', 'DT'), ('year', 'NN'), ('--', ':'), ('what', 'WP'), ('is', 'VBZ'), ('the', 'DT'), ('difference', 'NN'), ('?', '.'), ('A', 'DT'), ('mathematician', 'NN'), ('or', 'CC'), ('a', 'DT'), ('wit', 'NN'), ('would', 'MD'), ('give', 'VB'), ('you', 'PRP'), ('the', 'DT'), ('wrong', 'JJ'), ('answer', 'NN'), ('.', '.'), ('The', 'DT'), ('magi', 'NN'), ('brought', 'VBD'), ('valuable', 'JJ'), ('gifts', 'NNS'), (',', ','), ('but', 'CC'), ('that', 'DT'), ('was', 'VBD'), ('not', 'RB'), ('among', 'IN'), ('them', 'PRP'), ('.', '.'), ('This', 'DT'), ('dark', 'JJ'), ('assertion', 'NN'), ('will', 'MD'), ('be', 'VB'), ('illuminated', 'VBN'), ('later', 'RB'), ('on', 'IN'), ('.', '.'), ('Jim', 'NNP'), ('drew', 'VBD'), ('a', 'DT'), ('package', 'NN'), ('from', 'IN'), ('his', 'PRP$'), ('overcoat', 'NN'), ('pocket', 'NN'), ('and', 'CC'), ('threw', 'VBD'), ('it', 'PRP'), ('upon', 'IN'), ('the', 'DT'), ('table', 'NN'), ('.', '.'), ('\"', 'CC'), ('Don', 'NNP'), (\"'\", 'POS'), ('t', 'NNS'), ('make', 'VBP'), ('any', 'DT'), ('mistake', 'NN'), (',', ','), ('Dell', 'NNP'), (',\"', 'NNP'), ('he', 'PRP'), ('said', 'VBD'), (',', ','), ('\"', 'NN'), ('about', 'IN'), ('me', 'PRP'), ('.', '.'), ('I', 'PRP'), ('don', 'VBP'), (\"'\", \"''\"), ('t', 'JJ'), ('think', 'VBP'), ('there', 'EX'), (\"'\", \"''\"), ('s', 'NN'), ('anything', 'NN'), ('in', 'IN'), ('the', 'DT'), ('way', 'NN'), ('of', 'IN'), ('a', 'DT'), ('haircut', 'NN'), ('or', 'CC'), ('a', 'DT'), ('shave', 'NN'), ('or', 'CC'), ('a', 'DT'), ('shampoo', 'NN'), ('that', 'WDT'), ('could', 'MD'), ('make', 'VB'), ('me', 'PRP'), ('like', 'IN'), ('my', 'PRP$'), ('girl', 'NN'), ('any', 'DT'), ('less', 'JJR'), ('.', '.'), ('But', 'CC'), ('if', 'IN'), ('you', 'PRP'), (\"'\", 'VBP'), ('ll', 'JJ'), ('unwrap', 'NN'), ('that', 'WDT'), ('package', 'NN'), ('you', 'PRP'), ('may', 'MD'), ('see', 'VB'), ('why', 'WRB'), ('you', 'PRP'), ('had', 'VBD'), ('me', 'PRP'), ('going', 'VBG'), ('a', 'DT'), ('while', 'NN'), ('at', 'IN'), ('first', 'JJ'), ('.\"', 'NNP'), ('White', 'NNP'), ('fingers', 'NNS'), ('and', 'CC'), ('nimble', 'JJ'), ('tore', 'NN'), ('at', 'IN'), ('the', 'DT'), ('string', 'NN'), ('and', 'CC'), ('paper', 'NN'), ('.', '.'), ('And', 'CC'), ('then', 'RB'), ('an', 'DT'), ('ecstatic', 'JJ'), ('scream', 'NN'), ('of', 'IN'), ('joy', 'NN'), (';', ':'), ('and', 'CC'), ('then', 'RB'), (',', ','), ('alas', 'UH'), ('!', '.'), ('a', 'DT'), ('quick', 'JJ'), ('feminine', 'NN'), ('change', 'NN'), ('to', 'TO'), ('hysterical', 'JJ'), ('tears', 'NNS'), ('and', 'CC'), ('wails', 'NNS'), (',', ','), ('necessitating', 'VBG'), ('the', 'DT'), ('immediate', 'JJ'), ('employment', 'NN'), ('of', 'IN'), ('all', 'PDT'), ('the', 'DT'), ('comforting', 'VBG'), ('powers', 'NNS'), ('of', 'IN'), ('the', 'DT'), ('lord', 'NN'), ('of', 'IN'), ('the', 'DT'), ('flat', 'JJ'), ('.', '.'), ('For', 'IN'), ('there', 'EX'), ('lay', 'VBP'), ('The', 'DT'), ('Combs', 'NNP'), ('--', ':'), ('the', 'DT'), ('set', 'NN'), ('of', 'IN'), ('combs', 'NNS'), (',', ','), ('side', 'NN'), ('and', 'CC'), ('back', 'RB'), (',', ','), ('that', 'IN'), ('Della', 'NNP'), ('had', 'VBD'), ('worshipped', 'VBN'), ('for', 'IN'), ('long', 'RB'), ('in', 'IN'), ('a', 'DT'), ('Broadway', 'NNP'), ('window', 'NN'), ('.', '.'), ('Beautiful', 'NNP'), ('combs', 'NN'), (',', ','), ('pure', 'NN'), ('tortoise', 'NN'), ('-', ':'), ('shell', 'NN'), (',', ','), ('with', 'IN'), ('jewelled', 'JJ'), ('rims', 'NNS'), ('--', ':'), ('just', 'RB'), ('the', 'DT'), ('shade', 'NN'), ('to', 'TO'), ('wear', 'VB'), ('in', 'IN'), ('the', 'DT'), ('beautiful', 'NN'), ('vanished', 'VBD'), ('hair', 'NN'), ('.', '.'), ('They', 'PRP'), ('were', 'VBD'), ('expensive', 'JJ'), ('combs', 'NN'), (',', ','), ('she', 'PRP'), ('knew', 'VBD'), (',', ','), ('and', 'CC'), ('her', 'PRP$'), ('heart', 'NN'), ('had', 'VBD'), ('simply', 'RB'), ('craved', 'VBN'), ('and', 'CC'), ('yearned', 'VBN'), ('over', 'IN'), ('them', 'PRP'), ('without', 'IN'), ('the', 'DT'), ('least', 'JJS'), ('hope', 'NN'), ('of', 'IN'), ('possession', 'NN'), ('.', '.'), ('And', 'CC'), ('now', 'RB'), (',', ','), ('they', 'PRP'), ('were', 'VBD'), ('hers', 'NNS'), (',', ','), ('but', 'CC'), ('the', 'DT'), ('tresses', 'NNS'), ('that', 'WDT'), ('should', 'MD'), ('have', 'VB'), ('adorned', 'VBN'), ('the', 'DT'), ('coveted', 'JJ'), ('adornments', 'NNS'), ('were', 'VBD'), ('gone', 'VBN'), ('.', '.'), ('But', 'CC'), ('she', 'PRP'), ('hugged', 'VBD'), ('them', 'PRP'), ('to', 'TO'), ('her', 'PRP$'), ('bosom', 'NN'), (',', ','), ('and', 'CC'), ('at', 'IN'), ('length', 'NN'), ('she', 'PRP'), ('was', 'VBD'), ('able', 'JJ'), ('to', 'TO'), ('look', 'VB'), ('up', 'RP'), ('with', 'IN'), ('dim', 'JJ'), ('eyes', 'NNS'), ('and', 'CC'), ('a', 'DT'), ('smile', 'NN'), ('and', 'CC'), ('say', 'VB'), (':', ':'), ('\"', 'VB'), ('My', 'NNP'), ('hair', 'NN'), ('grows', 'VBZ'), ('so', 'RB'), ('fast', 'RB'), (',', ','), ('Jim', 'NNP'), ('!\"', 'NNP'), ('And', 'CC'), ('then', 'RB'), ('Della', 'NNP'), ('leaped', 'VBD'), ('up', 'RP'), ('like', 'IN'), ('a', 'DT'), ('little', 'JJ'), ('singed', 'JJ'), ('cat', 'NN'), ('and', 'CC'), ('cried', 'VBD'), (',', ','), ('\"', 'NNP'), ('Oh', 'NNP'), (',', ','), ('oh', 'UH'), ('!\"', 'NNP'), ('Jim', 'NNP'), ('had', 'VBD'), ('not', 'RB'), ('yet', 'RB'), ('seen', 'VBN'), ('his', 'PRP$'), ('beautiful', 'JJ'), ('present', 'NN'), ('.', '.'), ('She', 'PRP'), ('held', 'VBD'), ('it', 'PRP'), ('out', 'RP'), ('to', 'TO'), ('him', 'PRP'), ('eagerly', 'RB'), ('upon', 'IN'), ('her', 'PRP$'), ('open', 'JJ'), ('palm', 'NN'), ('.', '.'), ('The', 'DT'), ('dull', 'JJ'), ('precious', 'JJ'), ('metal', 'NN'), ('seemed', 'VBD'), ('to', 'TO'), ('flash', 'VB'), ('with', 'IN'), ('a', 'DT'), ('reflection', 'NN'), ('of', 'IN'), ('her', 'PRP$'), ('bright', 'NN'), ('and', 'CC'), ('ardent', 'NN'), ('spirit', 'NN'), ('.', '.'), ('\"', 'CC'), ('Isn', 'NNP'), (\"'\", 'POS'), ('t', 'NN'), ('it', 'PRP'), ('a', 'DT'), ('dandy', 'NN'), (',', ','), ('Jim', 'NNP'), ('?', '.'), ('I', 'PRP'), ('hunted', 'VBD'), ('all', 'DT'), ('over', 'IN'), ('town', 'NN'), ('to', 'TO'), ('find', 'VB'), ('it', 'PRP'), ('.', '.'), ('You', 'PRP'), (\"'\", \"''\"), ('ll', 'NNS'), ('have', 'VBP'), ('to', 'TO'), ('look', 'VB'), ('at', 'IN'), ('the', 'DT'), ('time', 'NN'), ('a', 'DT'), ('hundred', 'VBN'), ('times', 'NNS'), ('a', 'DT'), ('day', 'NN'), ('now', 'RB'), ('.', '.'), ('Give', 'VB'), ('me', 'PRP'), ('your', 'PRP$'), ('watch', 'NN'), ('.', '.'), ('I', 'PRP'), ('want', 'VBP'), ('to', 'TO'), ('see', 'VB'), ('how', 'WRB'), ('it', 'PRP'), ('looks', 'VBZ'), ('on', 'IN'), ('it', 'PRP'), ('.\"', 'NNP'), ('Instead', 'RB'), ('of', 'IN'), ('obeying', 'VBG'), (',', ','), ('Jim', 'NNP'), ('tumbled', 'VBD'), ('down', 'RB'), ('on', 'IN'), ('the', 'DT'), ('couch', 'JJ'), ('and', 'CC'), ('put', 'VB'), ('his', 'PRP$'), ('hands', 'NNS'), ('under', 'IN'), ('the', 'DT'), ('back', 'NN'), ('of', 'IN'), ('his', 'PRP$'), ('head', 'NN'), ('and', 'CC'), ('smiled', 'VBD'), ('.', '.'), ('\"', 'NN'), ('Dell', 'NNP'), (',\"', 'NNP'), ('said', 'VBD'), ('he', 'PRP'), (',', ','), ('\"', 'VBZ'), ('let', 'NN'), (\"'\", \"''\"), ('s', 'JJ'), ('put', 'VBD'), ('our', 'PRP$'), ('Christmas', 'NNP'), ('presents', 'VBZ'), ('away', 'RB'), ('and', 'CC'), ('keep', 'VB'), (\"'\", \"''\"), ('em', 'FW'), ('a', 'DT'), ('while', 'NN'), ('.', '.'), ('They', 'PRP'), (\"'\", \"''\"), ('re', 'VBP'), ('too', 'RB'), ('nice', 'JJ'), ('to', 'TO'), ('use', 'VB'), ('just', 'RB'), ('at', 'IN'), ('present', 'JJ'), ('.', '.'), ('I', 'PRP'), ('sold', 'VBD'), ('the', 'DT'), ('watch', 'NN'), ('to', 'TO'), ('get', 'VB'), ('the', 'DT'), ('money', 'NN'), ('to', 'TO'), ('buy', 'VB'), ('Your', 'NNP'), ('combs', 'NN'), ('.', '.'), ('And', 'CC'), ('now', 'RB'), ('suppose', 'VBP'), ('you', 'PRP'), ('put', 'VBP'), ('the', 'DT'), ('chops', 'NNS'), ('on', 'IN'), ('.\"', 'PDT'), ('The', 'DT'), ('magi', 'NN'), (',', ','), ('as', 'IN'), ('you', 'PRP'), ('know', 'VBP'), (',', ','), ('were', 'VBD'), ('wise', 'JJ'), ('men', 'NNS'), ('--', ':'), ('wonderfully', 'RB'), ('wise', 'VBP'), ('men', 'NNS'), ('-', ':'), ('who', 'WP'), ('brought', 'VBD'), ('gifts', 'NNS'), ('to', 'TO'), ('the', 'DT'), ('Babe', 'NNP'), ('in', 'IN'), ('the', 'DT'), ('manger', 'NN'), ('.', '.'), ('They', 'PRP'), ('invented', 'VBD'), ('the', 'DT'), ('art', 'NN'), ('of', 'IN'), ('giving', 'VBG'), ('Christmas', 'NNP'), ('presents', 'NNS'), ('.', '.'), ('Being', 'NNP'), ('wise', 'NN'), (',', ','), ('their', 'PRP$'), ('gifts', 'NNS'), ('were', 'VBD'), ('no', 'DT'), ('doubt', 'NN'), ('wise', 'NN'), ('ones', 'NNS'), (',', ','), ('possibly', 'RB'), ('bearing', 'VBG'), ('the', 'DT'), ('privilege', 'NN'), ('of', 'IN'), ('exchange', 'NN'), ('in', 'IN'), ('case', 'NN'), ('of', 'IN'), ('duplication', 'NN'), ('.', '.'), ('And', 'CC'), ('here', 'RB'), ('I', 'PRP'), ('have', 'VBP'), ('lamely', 'RB'), ('related', 'VBN'), ('to', 'TO'), ('you', 'PRP'), ('the', 'DT'), ('uneventful', 'JJ'), ('chronicle', 'NN'), ('of', 'IN'), ('two', 'CD'), ('foolish', 'JJ'), ('children', 'NNS'), ('in', 'IN'), ('a', 'DT'), ('flat', 'JJ'), ('who', 'WP'), ('most', 'JJS'), ('unwisely', 'RB'), ('sacrificed', 'VBN'), ('for', 'IN'), ('each', 'DT'), ('other', 'JJ'), ('the', 'DT'), ('greatest', 'JJS'), ('treasures', 'NNS'), ('of', 'IN'), ('their', 'PRP$'), ('house', 'NN'), ('.', '.'), ('But', 'CC'), ('in', 'IN'), ('a', 'DT'), ('last', 'JJ'), ('word', 'NN'), ('to', 'TO'), ('the', 'DT'), ('wise', 'NN'), ('of', 'IN'), ('these', 'DT'), ('days', 'NNS'), ('let', 'VB'), ('it', 'PRP'), ('be', 'VB'), ('said', 'VBD'), ('that', 'IN'), ('of', 'IN'), ('all', 'DT'), ('who', 'WP'), ('give', 'VBP'), ('gifts', 'NNS'), ('these', 'DT'), ('two', 'CD'), ('were', 'VBD'), ('the', 'DT'), ('wisest', 'JJS'), ('.', '.'), ('Of', 'IN'), ('all', 'DT'), ('who', 'WP'), ('give', 'VBP'), ('and', 'CC'), ('receive', 'VBP'), ('gifts', 'NNS'), (',', ','), ('such', 'JJ'), ('as', 'IN'), ('they', 'PRP'), ('are', 'VBP'), ('wisest', 'JJS'), ('.', '.'), ('Everywhere', 'RB'), ('they', 'PRP'), ('are', 'VBP'), ('wisest', 'JJS'), ('.', '.'), ('They', 'PRP'), ('are', 'VBP'), ('the', 'DT'), ('magi', 'NN'), ('.', '.')]\n"
     ]
    }
   ],
   "source": [
    "wordtypes=(nltk.pos_tag (tokens1))\n",
    "print(wordtypes)"
   ]
  },
  {
   "cell_type": "code",
   "execution_count": 35,
   "metadata": {
    "tags": []
   },
   "outputs": [
    {
     "name": "stdout",
     "output_type": "stream",
     "text": [
      "[('.', 139), ('the', 109), (',', 95), ('and', 75), ('a', 65), ('of', 51), ('to', 41), (\"'\", 38), ('\"', 34), ('it', 29), ('was', 27), ('Jim', 26), ('she', 25), ('in', 24), ('her', 24), ('had', 21), ('that', 20), ('Della', 20), ('for', 20), ('at', 19)]\n"
     ]
    },
    {
     "data": {
      "text/plain": [
       "833"
      ]
     },
     "execution_count": 35,
     "metadata": {},
     "output_type": "execute_result"
    }
   ],
   "source": [
    "fdist = nltk.FreqDist(tokens1)\n",
    "print(fdist.most_common(20))\n",
    "len(fdist.items())"
   ]
  },
  {
   "cell_type": "code",
   "execution_count": 36,
   "metadata": {
    "tags": []
   },
   "outputs": [
    {
     "data": {
      "text/plain": [
       "FreqDist({'Dillingham': 6, 'reflection': 4, 'description': 2, 'wonderfully': 2, 'expression': 2, 'bulldozing': 1, 'imputation': 1, 'instigates': 1, 'predominating': 1, 'mendicancy': 1, ...})"
      ]
     },
     "execution_count": 36,
     "metadata": {},
     "output_type": "execute_result"
    }
   ],
   "source": [
    "word=[w for w in tokens1 if len(w)>=10]\n",
    "freq=nltk.FreqDist(word)\n",
    "freq"
   ]
  },
  {
   "cell_type": "code",
   "execution_count": 37,
   "metadata": {
    "tags": []
   },
   "outputs": [
    {
     "name": "stdout",
     "output_type": "stream",
     "text": [
      "reflection 4\n",
      "description 2\n",
      "Dillingham 6\n",
      "wonderfully 2\n",
      "expression 2\n"
     ]
    }
   ],
   "source": [
    "for i,j in freq.items():\n",
    "    if len(i)>=10 and j>1:\n",
    "        print(i,j)"
   ]
  },
  {
   "cell_type": "code",
   "execution_count": 38,
   "metadata": {
    "tags": []
   },
   "outputs": [],
   "source": [
    "f=open('austen-emma.txt','r')\n",
    "etxt=f.read()\n",
    "f.close()"
   ]
  },
  {
   "cell_type": "code",
   "execution_count": 39,
   "metadata": {
    "tags": []
   },
   "outputs": [
    {
     "data": {
      "text/plain": [
       "'e deficiencies, the wishes,\\nthe hopes, the confidence, the predictions of the small band\\nof true friends who witnessed the ceremony, were fully answered\\nin the perfect happiness of the union.\\n\\n\\nFINIS\\n'"
      ]
     },
     "execution_count": 39,
     "metadata": {},
     "output_type": "execute_result"
    }
   ],
   "source": [
    "etxt[-200:]"
   ]
  },
  {
   "cell_type": "code",
   "execution_count": 40,
   "metadata": {
    "tags": []
   },
   "outputs": [
    {
     "data": {
      "text/plain": [
       "['of',\n",
       " 'true',\n",
       " 'friends',\n",
       " 'who',\n",
       " 'witnessed',\n",
       " 'the',\n",
       " 'ceremony',\n",
       " ',',\n",
       " 'were',\n",
       " 'fully',\n",
       " 'answered',\n",
       " 'in',\n",
       " 'the',\n",
       " 'perfect',\n",
       " 'happiness',\n",
       " 'of',\n",
       " 'the',\n",
       " 'union',\n",
       " '.',\n",
       " 'finis']"
      ]
     },
     "execution_count": 40,
     "metadata": {},
     "output_type": "execute_result"
    }
   ],
   "source": [
    "etoks = nltk.word_tokenize(etxt.lower())\n",
    "etoks[-20:]"
   ]
  },
  {
   "cell_type": "code",
   "execution_count": 41,
   "metadata": {
    "tags": []
   },
   "outputs": [
    {
     "data": {
      "text/plain": [
       "191781"
      ]
     },
     "execution_count": 41,
     "metadata": {},
     "output_type": "execute_result"
    }
   ],
   "source": [
    "len(etoks)"
   ]
  },
  {
   "cell_type": "code",
   "execution_count": 42,
   "metadata": {
    "tags": []
   },
   "outputs": [
    {
     "data": {
      "text/plain": [
       "['younger',\n",
       " 'youngest',\n",
       " 'your',\n",
       " 'yours',\n",
       " 'yourself',\n",
       " 'yourself.',\n",
       " 'youth',\n",
       " 'youthful',\n",
       " 'zeal',\n",
       " 'zigzags']"
      ]
     },
     "execution_count": 42,
     "metadata": {},
     "output_type": "execute_result"
    }
   ],
   "source": [
    "etypes = sorted(set(etoks))\n",
    "etypes[-10:]"
   ]
  },
  {
   "cell_type": "code",
   "execution_count": 43,
   "metadata": {
    "tags": []
   },
   "outputs": [
    {
     "data": {
      "text/plain": [
       "7944"
      ]
     },
     "execution_count": 43,
     "metadata": {},
     "output_type": "execute_result"
    }
   ],
   "source": [
    "len(etypes)"
   ]
  },
  {
   "cell_type": "code",
   "execution_count": 44,
   "metadata": {
    "tags": []
   },
   "outputs": [
    {
     "data": {
      "text/plain": [
       "24"
      ]
     },
     "execution_count": 44,
     "metadata": {},
     "output_type": "execute_result"
    }
   ],
   "source": [
    "efreq=nltk.FreqDist(etoks)\n",
    "efreq['beautiful']"
   ]
  },
  {
   "cell_type": "code",
   "execution_count": 45,
   "metadata": {
    "tags": []
   },
   "outputs": [
    {
     "data": {
      "text/plain": [
       "['unexceptionable',\n",
       " 'unsuitable',\n",
       " 'unreasonable',\n",
       " 'unreasonable',\n",
       " 'uncomfortable',\n",
       " 'unfavourable',\n",
       " 'unexceptionable',\n",
       " 'unexceptionable',\n",
       " 'uncomfortable',\n",
       " 'unpersuadable',\n",
       " 'unavoidable',\n",
       " 'unreasonable',\n",
       " 'uncomfortable',\n",
       " 'unsuitable',\n",
       " 'unmanageable',\n",
       " 'unexceptionable',\n",
       " 'unreasonable',\n",
       " 'unobjectionable',\n",
       " 'unpersuadable',\n",
       " 'unsuitable',\n",
       " 'unreasonable',\n",
       " 'uncomfortable',\n",
       " 'unexceptionable',\n",
       " 'unpardonable',\n",
       " 'unmanageable',\n",
       " 'unanswerable',\n",
       " 'unfavourable',\n",
       " 'unpersuadable',\n",
       " 'unaccountable',\n",
       " 'undesirable',\n",
       " 'unable',\n",
       " 'unable',\n",
       " 'unpardonable',\n",
       " 'unexceptionable',\n",
       " 'unreasonable',\n",
       " 'unreasonable',\n",
       " 'uncomfortable',\n",
       " 'unreasonable',\n",
       " 'unpardonable',\n",
       " 'unaccountable',\n",
       " 'unexceptionable',\n",
       " 'unreasonable',\n",
       " 'unaccountable']"
      ]
     },
     "execution_count": 45,
     "metadata": {},
     "output_type": "execute_result"
    }
   ],
   "source": [
    "[word for word in etoks if word.startswith(\"un\") & word.endswith(\"able\")] "
   ]
  },
  {
   "cell_type": "code",
   "execution_count": 50,
   "metadata": {
    "tags": []
   },
   "outputs": [
    {
     "data": {
      "text/plain": [
       "['companionableness',\n",
       " 'misunderstanding',\n",
       " 'incomprehensible',\n",
       " 'undistinguishing',\n",
       " 'unceremoniousness',\n",
       " 'Disingenuousness',\n",
       " 'disagreeableness',\n",
       " 'misunderstandings',\n",
       " 'misunderstandings',\n",
       " 'misunderstandings',\n",
       " 'misunderstandings',\n",
       " 'disinterestedness',\n",
       " 'unseasonableness']"
      ]
     },
     "execution_count": 50,
     "metadata": {},
     "output_type": "execute_result"
    }
   ],
   "source": [
    "tokenizer = nltk.tokenize.WordPunctTokenizer() \n",
    "token = tokenizer.tokenize(etxt) \n",
    "[word for word in token if len(word)>15] "
   ]
  },
  {
   "cell_type": "code",
   "execution_count": 51,
   "metadata": {
    "tags": []
   },
   "outputs": [
    {
     "data": {
      "text/plain": [
       "3.755268231589122"
      ]
     },
     "execution_count": 51,
     "metadata": {},
     "output_type": "execute_result"
    }
   ],
   "source": [
    "sum(len (word) for word in token)/len (token)"
   ]
  },
  {
   "cell_type": "code",
   "execution_count": 52,
   "metadata": {
    "tags": []
   },
   "outputs": [
    {
     "name": "stdout",
     "output_type": "stream",
     "text": [
      "Emma 865\n",
      "by 558\n",
      "Jane 301\n",
      "I 3178\n",
      "Woodhouse 313\n",
      ", 11454\n",
      "and 4672\n",
      "with 1187\n",
      "a 3004\n",
      "to 5183\n",
      "some 248\n",
      "of 4279\n",
      "the 4844\n",
      "; 2199\n",
      "had 1606\n",
      "- 574\n",
      "one 413\n",
      "in 2118\n",
      "very 1151\n",
      "little 354\n",
      "or 490\n",
      "her 2381\n",
      ". 6928\n",
      "She 562\n",
      "was 2385\n",
      "most 243\n",
      "father 207\n",
      "' 1007\n",
      "s 933\n",
      "been 759\n",
      "his 1088\n",
      "from 535\n",
      "too 253\n",
      "for 1321\n",
      "have 1301\n",
      "more 464\n",
      "than 415\n",
      "an 452\n",
      "as 1387\n",
      "who 281\n",
      "Miss 592\n",
      "Mr 1153\n",
      "but 1148\n",
      "it 2128\n",
      "before 243\n",
      "any 651\n",
      "being 356\n",
      "now 273\n",
      "they 392\n",
      "what 434\n",
      "she 1778\n",
      "own 301\n",
      "The 357\n",
      "were 591\n",
      "much 478\n",
      "think 380\n",
      "well 315\n",
      "herself 279\n",
      "which 552\n",
      "at 997\n",
      "so 924\n",
      "that 1730\n",
      "did 335\n",
      "not 2101\n",
      "-- 1382\n",
      "all 835\n",
      ".-- 685\n",
      "It 400\n",
      "first 209\n",
      "on 677\n",
      "this 418\n",
      "thought 226\n",
      "no 616\n",
      "only 327\n",
      "every 398\n",
      "Weston 439\n",
      "man 233\n",
      "there 420\n",
      "always 235\n",
      "would 815\n",
      "be 1970\n",
      "how 263\n",
      "soon 221\n",
      "their 297\n",
      "other 220\n",
      "such 440\n",
      "could 825\n",
      "never 347\n",
      "them 432\n",
      "great 263\n",
      "must 564\n",
      "Mrs 699\n",
      "he 1365\n",
      "He 441\n",
      "without 211\n",
      "him 758\n",
      "time 272\n",
      "again 219\n",
      "when 312\n",
      "thing 398\n",
      "if 375\n",
      "say 308\n",
      "said 484\n",
      "\" 2004\n",
      "!-- 338\n",
      "is 1220\n",
      "you 1677\n",
      "know 337\n",
      "good 340\n",
      "my 619\n",
      "might 322\n",
      "?\" 230\n",
      "But 293\n",
      "And 224\n",
      "dear 217\n",
      ".\" 1138\n",
      "we 260\n",
      "shall 212\n",
      "see 220\n",
      "! 549\n",
      "am 422\n",
      "your 337\n",
      "sure 204\n",
      "will 559\n",
      "are 447\n",
      "You 303\n",
      "may 213\n",
      "me 564\n",
      "do 580\n",
      "about 246\n",
      "Knightley 389\n",
      "out 212\n",
      "quite 269\n",
      ",\" 421\n",
      "has 243\n",
      "should 366\n",
      "can 270\n",
      "nothing 237\n",
      "Elton 385\n",
      "Churchill 223\n",
      "Frank 208\n",
      "Harriet 506\n",
      "Fairfax 241\n"
     ]
    }
   ],
   "source": [
    "f = nltk.FreqDist (token)\n",
    "for i,j in f.items(): \n",
    "    if j > 200: \n",
    "        print(i,j)"
   ]
  },
  {
   "cell_type": "code",
   "execution_count": 54,
   "metadata": {
    "tags": []
   },
   "outputs": [
    {
     "data": {
      "text/plain": [
       "FreqDist({(',', 'and'): 1879, ('Mr', '.'): 1153, (\"'\", 's'): 932, (';', 'and'): 866, ('.\"', '\"'): 757, ('Mrs', '.'): 699, ('to', 'be'): 595, ('.', 'I'): 570, (',', 'I'): 568, ('of', 'the'): 556, ...})"
      ]
     },
     "execution_count": 54,
     "metadata": {},
     "output_type": "execute_result"
    }
   ],
   "source": [
    "e2grams = list(nltk.bigrams (token)) \n",
    "e2gramfd = nltk.FreqDist(e2grams) \n",
    "e2gramfd"
   ]
  },
  {
   "cell_type": "code",
   "execution_count": 55,
   "metadata": {
    "tags": []
   },
   "outputs": [
    {
     "data": {
      "text/plain": [
       "FreqDist({('who', 'witnessed'): 1, ('witnessed', 'the'): 1, ('the', 'ceremony'): 1, ('were', 'fully'): 1, ('fully', 'answered'): 1, ('answered', 'in'): 1, ('the', 'perfect'): 1, ('the', 'union'): 1, ('union', '.'): 1, ('.', 'FINIS'): 1})"
      ]
     },
     "execution_count": 55,
     "metadata": {},
     "output_type": "execute_result"
    }
   ],
   "source": [
    "nltk.FreqDist(dict(e2gramfd.most_common()[-10:]))"
   ]
  },
  {
   "cell_type": "code",
   "execution_count": 56,
   "metadata": {
    "tags": []
   },
   "outputs": [
    {
     "data": {
      "text/plain": [
       "[(('to', 'be'), 562),\n",
       " (('of', 'the'), 556),\n",
       " (('in', 'the'), 431),\n",
       " (('I', 'am'), 302),\n",
       " (('had', 'been'), 299),\n",
       " (('could', 'not'), 270),\n",
       " (('it', 'was'), 253),\n",
       " (('she', 'had'), 242),\n",
       " (('to', 'the'), 236),\n",
       " (('have', 'been'), 233),\n",
       " (('of', 'her'), 230),\n",
       " (('I', 'have'), 214),\n",
       " (('and', 'the'), 208),\n",
       " (('would', 'be'), 208),\n",
       " (('she', 'was'), 206),\n",
       " (('do', 'not'), 196),\n",
       " (('of', 'his'), 182),\n",
       " (('that', 'she'), 178),\n",
       " (('to', 'have'), 176),\n",
       " (('such', 'a'), 176)]"
      ]
     },
     "execution_count": 56,
     "metadata": {},
     "output_type": "execute_result"
    }
   ],
   "source": [
    "tokenizer = nltk.tokenize. WhitespaceTokenizer() \n",
    "tokens =tokenizer.tokenize(etxt) \n",
    "e2grams = list(nltk.bigrams (tokens))\n",
    "e2gramfd = nltk.FreqDist(e2grams) \n",
    "e2gramfd.most_common (20) "
   ]
  },
  {
   "cell_type": "code",
   "execution_count": 57,
   "metadata": {
    "tags": []
   },
   "outputs": [
    {
     "name": "stdout",
     "output_type": "stream",
     "text": [
      "('so', 'happy') 3\n"
     ]
    }
   ],
   "source": [
    "for i, j in e2gramfd.items(): \n",
    "    if i == ('so', 'happy'): \n",
    "        print(i,j)"
   ]
  },
  {
   "cell_type": "code",
   "execution_count": 58,
   "metadata": {
    "tags": []
   },
   "outputs": [],
   "source": [
    "import re \n",
    "from collections import Counter "
   ]
  },
  {
   "cell_type": "code",
   "execution_count": 59,
   "metadata": {
    "tags": []
   },
   "outputs": [
    {
     "name": "stdout",
     "output_type": "stream",
     "text": [
      "Counter({('so much',): 95, ('so very',): 76, ('so well',): 30, ('so many',): 27, ('so long',): 27, ('so little',): 20, ('so far',): 17, ('so I',): 14, ('so kind',): 13, ('so good',): 12, ('so often',): 10, ('so soon',): 9, ('so great',): 8, ('so to',): 7, ('so fond',): 7, ('so she',): 7, ('so it',): 6, ('so anxious',): 6, ('so as',): 6, ('so you',): 6, ('so truly',): 6, ('so completely',): 5, ('so obliging',): 5, ('so extremely',): 5, ('so entirely',): 4, ('so happy',): 4, ('so interesting',): 4, ('so fast',): 4, ('so near',): 4, ('so pleased',): 4, ('so few',): 4, ('so that',): 4, ('so strong',): 4, ('so liberal',): 4, ('so miserable',): 4, ('so happily',): 3, ('so proper',): 3, ('so pleasantly',): 3, ('so superior',): 3, ('so warmly',): 3, ('so bad',): 3, ('so odd',): 3, ('so ill',): 3, ('so delighted',): 3, ('so particularly',): 3, ('so easily',): 3, ('so on',): 3, ('so attentive',): 3, ('so fortunate',): 3, ('so glad',): 3, ('so shocked',): 3, ('so at',): 3, ('so obliged',): 2, ('so perfectly',): 2, ('so dear',): 2, ('so busy',): 2, ('so did',): 2, ('so forth',): 2, ('so totally',): 2, ('so remarkably',): 2, ('so plainly',): 2, ('so charming',): 2, ('so surprized',): 2, ('so early',): 2, ('so too',): 2, ('so easy',): 2, ('so decidedly',): 2, ('so absolutely',): 2, ('so particular',): 2, ('so deceived',): 2, ('so palpably',): 2, ('so clever',): 2, ('so short',): 2, ('so cold',): 2, ('so high',): 2, ('so happened',): 2, ('so full',): 2, ('so thoroughly',): 2, ('so equal',): 2, ('so off',): 2, ('so naturally',): 2, ('so afraid',): 2, ('so deep',): 2, ('so kindly',): 2, ('so pale',): 2, ('so noble',): 2, ('so lovely',): 2, ('so mad',): 2, ('so nearly',): 2, ('so sorry',): 2, ('so cheerful',): 2, ('so unfeeling',): 2, ('so ready',): 2, ('so unperceived',): 1, ('so mild',): 1, ('so constantly',): 1, ('so comfortably',): 1, ('so avowed',): 1, ('so deservedly',): 1, ('so convenient',): 1, ('so just',): 1, ('so apparent',): 1, ('so sorrowful',): 1, ('so spent',): 1, ('so artlessly',): 1, ('so plain',): 1, ('so firmly',): 1, ('so genteel',): 1, ('so _then_',): 1, ('so brilliant',): 1, ('so seldom',): 1, ('so nervous',): 1, ('so indeed',): 1, ('so pack',): 1, ('so doubtful',): 1, ('so with',): 1, ('so contemptible',): 1, ('so slightingly',): 1, ('so by',): 1, ('so loudly',): 1, ('so materially',): 1, ('so hard',): 1, ('so delightful',): 1, ('so pointed',): 1, ('so equalled',): 1, ('so evidently',): 1, ('so immediately',): 1, ('so sought',): 1, ('so excellent',): 1, ('so prettily',): 1, ('so extreme',): 1, ('so wonder',): 1, ('so always',): 1, ('so silly',): 1, ('so satisfied',): 1, ('so smiling',): 1, ('so prosing',): 1, ('so undistinguishing',): 1, ('so apt',): 1, ('so dreadful',): 1, ('so respected',): 1, ('so tenderly',): 1, ('so grieved',): 1, ('so shocking',): 1, ('so conceited',): 1, ('so before',): 1, ('so prevalent',): 1, ('so heavy',): 1, ('so swiftly',): 1, ('so spoken',): 1, ('so or',): 1, ('so overcharged',): 1, ('so pleasant',): 1, ('so fenced',): 1, ('so hospitable',): 1, ('so interested',): 1, ('so sanguine',): 1, ('so sure',): 1, ('so careless',): 1, ('so rapidly',): 1, ('so frequent',): 1, ('so sensible',): 1, ('so misled',): 1, ('so blind',): 1, ('so complaisant',): 1, ('so misinterpreted',): 1, ('so active',): 1, ('so pointedly',): 1, ('so striking',): 1, ('so sudden',): 1, ('so industriously',): 1, ('so partial',): 1, ('so natural',): 1, ('so inevitable',): 1, ('so lately',): 1, ('so beautifully',): 1, ('so distinct',): 1, ('so considerate',): 1, ('so light',): 1, ('so intimate',): 1, ('so magnified',): 1, ('so cautious',): 1, ('so confined',): 1, ('so wish',): 1, ('so he',): 1, ('so glorious',): 1, ('so quick',): 1, ('so sweetly',): 1, ('so inseparably',): 1, ('so deserving',): 1, ('so disappointed',): 1, ('so ended',): 1, ('so sluggish',): 1, ('so amiable',): 1, ('so quiet',): 1, ('so idolized',): 1, ('so cried',): 1, ('so acceptable',): 1, ('so properly',): 1, ('so reasonable',): 1, ('so delightfully',): 1, ('so rich',): 1, ('so warm',): 1, ('so large',): 1, ('so handsomely',): 1, ('so abundant',): 1, ('so outree',): 1, ('so thoughtful',): 1, ('so must',): 1, ('so effectually',): 1, ('so beautiful',): 1, ('so Patty',): 1, ('so honoured',): 1, ('so close',): 1, ('so imprudent',): 1, ('so limited',): 1, ('so from',): 1, ('so amusing',): 1, ('so indifferent',): 1, ('so indignant',): 1, ('so said',): 1, ('so right',): 1, ('so wretched',): 1, ('so now',): 1, ('so occupied',): 1, ('so unhappy',): 1, ('so highly',): 1, ('so generally',): 1, ('so exactly',): 1, ('so double',): 1, ('so secluded',): 1, ('so regular',): 1, ('so determined',): 1, ('so motherly',): 1, ('so the',): 1, ('so glibly',): 1, ('so calculated',): 1, ('so thrown',): 1, ('so exclusively',): 1, ('so disgustingly',): 1, ('so needlessly',): 1, ('so does',): 1, ('so resolutely',): 1, ('so would',): 1, ('so infinitely',): 1, ('so fluently',): 1, ('so they',): 1, ('so impatient',): 1, ('so briskly',): 1, ('so vigorously',): 1, ('so young',): 1, ('so hardened',): 1, ('so gratified',): 1, ('so received',): 1, ('so then',): 1, ('so and',): 1, ('so gratefully',): 1, ('so found',): 1, ('so placed',): 1, ('so lain',): 1, ('so his',): 1, ('so arranged',): 1, ('so moving',): 1, ('so walking',): 1, ('so when',): 1, ('so favourable',): 1, ('so late',): 1, ('so silent',): 1, ('so dull',): 1, ('so irksome',): 1, ('so agitated',): 1, ('so brutal',): 1, ('so cruel',): 1, ('so depressed',): 1, ('so no',): 1, ('so justly',): 1, ('so astonished',): 1, ('so will',): 1, ('so simple',): 1, ('so dignified',): 1, ('so suddenly',): 1, ('so a',): 1, ('so herself',): 1, ('so peremptorily',): 1, ('so uneasy',): 1, ('so wonderful',): 1, ('so _very_',): 1, ('so expressly',): 1, ('so angry',): 1, ('so anxiously',): 1, ('so strange',): 1, ('so stoutly',): 1, ('so mistake',): 1, ('so mistaken',): 1, ('so dreadfully',): 1, ('so voluntarily',): 1, ('so satisfactory',): 1, ('so disinterested',): 1, ('so foolishly',): 1, ('so ingeniously',): 1, ('so entreated',): 1, ('so like',): 1, ('so cordially',): 1, ('so essential',): 1, ('so designedly',): 1, ('so hasty',): 1, ('so richly',): 1, ('so grateful',): 1, ('so tenaciously',): 1, ('so feeling',): 1, ('so engaging',): 1, ('so engaged',): 1, ('so hot',): 1, ('so useful',): 1, ('so attached',): 1, ('so peculiarly',): 1, ('so singularly',): 1, ('so taken',): 1, ('so recently',): 1, ('so fresh',): 1, ('so hateful',): 1, ('so heartily',): 1, ('so steady',): 1, ('so complete',): 1, ('so in',): 1, ('so suffered',): 1})\n"
     ]
    }
   ],
   "source": [
    "words = re.findall(r'so+ \\w+', open('austen-emma.txt').read()) \n",
    "ab = Counter(zip(words))\n",
    "print(ab)"
   ]
  },
  {
   "cell_type": "code",
   "execution_count": 60,
   "metadata": {
    "tags": []
   },
   "outputs": [
    {
     "data": {
      "text/plain": [
       "FreqDist({('the', 'ceremony,', 'were'): 1, ('ceremony,', 'were', 'fully'): 1, ('were', 'fully', 'answered'): 1, ('fully', 'answered', 'in'): 1, ('answered', 'in', 'the'): 1, ('in', 'the', 'perfect'): 1, ('the', 'perfect', 'happiness'): 1, ('perfect', 'happiness', 'of'): 1, ('of', 'the', 'union.'): 1, ('the', 'union.', 'FINIS'): 1})"
      ]
     },
     "execution_count": 60,
     "metadata": {},
     "output_type": "execute_result"
    }
   ],
   "source": [
    "e3grams = list(nltk.trigrams(tokens)) \n",
    "e3gramfd = nltk.FreqDist(e3grams) \n",
    "nltk.FreqDist(dict(e3gramfd.most_common()[-10:]))"
   ]
  },
  {
   "cell_type": "code",
   "execution_count": 61,
   "metadata": {
    "tags": []
   },
   "outputs": [
    {
     "data": {
      "text/plain": [
       "[(('I', 'do', 'not'), 94),\n",
       " (('I', 'am', 'sure'), 75),\n",
       " (('would', 'have', 'been'), 55),\n",
       " (('a', 'great', 'deal'), 55),\n",
       " (('she', 'could', 'not'), 49),\n",
       " (('could', 'not', 'be'), 45),\n",
       " (('she', 'had', 'been'), 44),\n",
       " (('it', 'would', 'be'), 43),\n",
       " (('do', 'not', 'know'), 43),\n",
       " (('Mr.', 'and', 'Mrs.'), 37)]"
      ]
     },
     "execution_count": 61,
     "metadata": {},
     "output_type": "execute_result"
    }
   ],
   "source": [
    "e3gramfd.most_common(10)"
   ]
  },
  {
   "cell_type": "code",
   "execution_count": 62,
   "metadata": {
    "tags": []
   },
   "outputs": [
    {
     "name": "stdout",
     "output_type": "stream",
     "text": [
      "[]\n"
     ]
    }
   ],
   "source": [
    "words1 = re.findall(r'so happy to \\w+', open('austen-emma.txt').read()) \n",
    "print(words1)"
   ]
  }
 ],
 "metadata": {
  "kernelspec": {
   "display_name": "Python 3 (ipykernel)",
   "language": "python",
   "name": "python3"
  },
  "language_info": {
   "codemirror_mode": {
    "name": "ipython",
    "version": 3
   },
   "file_extension": ".py",
   "mimetype": "text/x-python",
   "name": "python",
   "nbconvert_exporter": "python",
   "pygments_lexer": "ipython3",
   "version": "3.11.5"
  }
 },
 "nbformat": 4,
 "nbformat_minor": 4
}
