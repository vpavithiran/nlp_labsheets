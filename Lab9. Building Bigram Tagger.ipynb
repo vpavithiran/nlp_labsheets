{
 "cells": [
  {
   "cell_type": "markdown",
   "metadata": {},
   "source": [
    "### Exercise 1"
   ]
  },
  {
   "cell_type": "code",
   "execution_count": 1,
   "metadata": {
    "tags": []
   },
   "outputs": [
    {
     "data": {
      "text/plain": [
       "[('And', 'CONJ'),\n",
       " ('now', 'ADV'),\n",
       " ('for', 'ADP'),\n",
       " ('something', 'NOUN'),\n",
       " ('completely', 'ADV'),\n",
       " ('different', 'ADJ')]"
      ]
     },
     "execution_count": 1,
     "metadata": {},
     "output_type": "execute_result"
    }
   ],
   "source": [
    "import nltk\n",
    "from nltk.tokenize import sent_tokenize, word_tokenize\n",
    "from nltk.tag import pos_tag\n",
    "\n",
    "text = word_tokenize('And now for something completely different')\n",
    "nltk.pos_tag(text,tagset='universal')"
   ]
  },
  {
   "cell_type": "code",
   "execution_count": 2,
   "metadata": {
    "tags": []
   },
   "outputs": [
    {
     "name": "stderr",
     "output_type": "stream",
     "text": [
      "[nltk_data] Downloading package brown to\n",
      "[nltk_data]     /Users/pavithiranv/nltk_data...\n",
      "[nltk_data]   Package brown is already up-to-date!\n"
     ]
    },
    {
     "data": {
      "text/plain": [
       "True"
      ]
     },
     "execution_count": 2,
     "metadata": {},
     "output_type": "execute_result"
    }
   ],
   "source": [
    "import nltk\n",
    "nltk.download('brown')"
   ]
  },
  {
   "cell_type": "markdown",
   "metadata": {},
   "source": [
    "### Exercise2"
   ]
  },
  {
   "cell_type": "code",
   "execution_count": 3,
   "metadata": {
    "tags": []
   },
   "outputs": [],
   "source": [
    "from nltk.corpus import brown\n",
    "tagsen = brown.tagged_sents()"
   ]
  },
  {
   "cell_type": "code",
   "execution_count": 4,
   "metadata": {
    "tags": []
   },
   "outputs": [
    {
     "data": {
      "text/plain": [
       "[('I', 'PPSS'),\n",
       " ('was', 'BEDZ'),\n",
       " ('loaded', 'VBN'),\n",
       " ('with', 'IN'),\n",
       " ('suds', 'NNS'),\n",
       " ('when', 'WRB'),\n",
       " ('I', 'PPSS'),\n",
       " ('ran', 'VBD'),\n",
       " ('away', 'RB'),\n",
       " (',', ','),\n",
       " ('and', 'CC'),\n",
       " ('I', 'PPSS'),\n",
       " (\"haven't\", 'HV*'),\n",
       " ('had', 'HVN'),\n",
       " ('a', 'AT'),\n",
       " ('chance', 'NN'),\n",
       " ('to', 'TO'),\n",
       " ('wash', 'VB'),\n",
       " ('it', 'PPO'),\n",
       " ('off', 'RP'),\n",
       " ('.', '.')]"
      ]
     },
     "execution_count": 4,
     "metadata": {},
     "output_type": "execute_result"
    }
   ],
   "source": [
    "br_train = tagsen[0:50000]\n",
    "br_test  = tagsen[50000:]\n",
    "br_test[0]"
   ]
  },
  {
   "cell_type": "markdown",
   "metadata": {},
   "source": [
    "### step2"
   ]
  },
  {
   "cell_type": "code",
   "execution_count": 5,
   "metadata": {
    "tags": []
   },
   "outputs": [],
   "source": [
    "from nltk import DefaultTagger\n",
    "\n",
    "t0 = nltk.DefaultTagger('NN')\n",
    "t1 = nltk.UnigramTagger(br_train,backoff = t0)\n",
    "t2 = nltk.BigramTagger(br_train,backoff = t1)"
   ]
  },
  {
   "cell_type": "markdown",
   "metadata": {},
   "source": [
    "### step3"
   ]
  },
  {
   "cell_type": "code",
   "execution_count": 6,
   "metadata": {
    "tags": []
   },
   "outputs": [
    {
     "data": {
      "text/plain": [
       "0.9111006662708622"
      ]
     },
     "execution_count": 6,
     "metadata": {},
     "output_type": "execute_result"
    }
   ],
   "source": [
    "t2.accuracy(br_test)"
   ]
  },
  {
   "cell_type": "markdown",
   "metadata": {},
   "source": [
    "### step4"
   ]
  },
  {
   "cell_type": "code",
   "execution_count": 7,
   "metadata": {
    "tags": []
   },
   "outputs": [
    {
     "data": {
      "text/plain": [
       "1039920"
      ]
     },
     "execution_count": 7,
     "metadata": {},
     "output_type": "execute_result"
    }
   ],
   "source": [
    "to_train = [len(l) for l in br_train]\n",
    "sum(to_train) "
   ]
  },
  {
   "cell_type": "code",
   "execution_count": 8,
   "metadata": {
    "tags": []
   },
   "outputs": [
    {
     "data": {
      "text/plain": [
       "121272"
      ]
     },
     "execution_count": 8,
     "metadata": {},
     "output_type": "execute_result"
    }
   ],
   "source": [
    "to_test = [len(l) for l in br_test]\n",
    "sum(to_test)"
   ]
  },
  {
   "cell_type": "code",
   "execution_count": 11,
   "metadata": {
    "tags": []
   },
   "outputs": [
    {
     "data": {
      "text/plain": [
       "0.8897849462365591"
      ]
     },
     "execution_count": 11,
     "metadata": {},
     "output_type": "execute_result"
    }
   ],
   "source": [
    "t1.accuracy(br_test)"
   ]
  },
  {
   "cell_type": "code",
   "execution_count": 10,
   "metadata": {},
   "outputs": [
    {
     "data": {
      "text/plain": [
       "0.9111006662708622"
      ]
     },
     "execution_count": 10,
     "metadata": {},
     "output_type": "execute_result"
    }
   ],
   "source": [
    "t2.accuracy(br_test)"
   ]
  },
  {
   "cell_type": "code",
   "execution_count": 12,
   "metadata": {
    "tags": []
   },
   "outputs": [
    {
     "name": "stdout",
     "output_type": "stream",
     "text": [
      "[('The', 'AT'), ('Fulton', 'NP-TL'), ('County', 'NN-TL'), ('Grand', 'JJ-TL'), ('Jury', 'NN-TL'), ('said', 'VBD'), ('Friday', 'NR'), ('an', 'AT'), ('investigation', 'NN'), ('of', 'IN'), (\"Atlanta's\", 'NP$'), ('recent', 'JJ'), ('primary', 'NN'), ('election', 'NN'), ('produced', 'VBD'), ('``', '``'), ('no', 'AT'), ('evidence', 'NN'), (\"''\", \"''\"), ('that', 'CS'), ('any', 'DTI'), ('irregularities', 'NNS'), ('took', 'VBD'), ('place', 'NN'), ('.', '.')]\n"
     ]
    }
   ],
   "source": [
    "print(br_train[0])"
   ]
  },
  {
   "cell_type": "code",
   "execution_count": 13,
   "metadata": {
    "tags": []
   },
   "outputs": [
    {
     "name": "stdout",
     "output_type": "stream",
     "text": [
      "[('``', '``'), ('I', 'PPSS'), ('told', 'VBD'), ('him', 'PPO'), ('who', 'WPS'), ('I', 'PPSS'), ('was', 'BEDZ'), ('and', 'CC'), ('he', 'PPS'), ('was', 'BEDZ'), ('quite', 'QL'), ('cold', 'JJ'), ('.', '.')]\n"
     ]
    }
   ],
   "source": [
    "print(br_train[1277])"
   ]
  },
  {
   "cell_type": "code",
   "execution_count": 14,
   "metadata": {
    "tags": []
   },
   "outputs": [
    {
     "name": "stdout",
     "output_type": "stream",
     "text": [
      "('cold', 'JJ')\n"
     ]
    }
   ],
   "source": [
    "print(br_train[1277][11])"
   ]
  },
  {
   "cell_type": "code",
   "execution_count": 15,
   "metadata": {
    "tags": []
   },
   "outputs": [],
   "source": [
    "br_train_flat = [(word,tag) for sent in br_train for (word,tag) in sent]"
   ]
  },
  {
   "cell_type": "code",
   "execution_count": 16,
   "metadata": {
    "tags": []
   },
   "outputs": [
    {
     "name": "stdout",
     "output_type": "stream",
     "text": [
      "[('The', 'AT'), ('Fulton', 'NP-TL'), ('County', 'NN-TL'), ('Grand', 'JJ-TL'), ('Jury', 'NN-TL'), ('said', 'VBD'), ('Friday', 'NR'), ('an', 'AT'), ('investigation', 'NN'), ('of', 'IN'), (\"Atlanta's\", 'NP$'), ('recent', 'JJ'), ('primary', 'NN'), ('election', 'NN'), ('produced', 'VBD'), ('``', '``'), ('no', 'AT'), ('evidence', 'NN'), (\"''\", \"''\"), ('that', 'CS'), ('any', 'DTI'), ('irregularities', 'NNS'), ('took', 'VBD'), ('place', 'NN'), ('.', '.'), ('The', 'AT'), ('jury', 'NN'), ('further', 'RBR'), ('said', 'VBD'), ('in', 'IN'), ('term-end', 'NN'), ('presentments', 'NNS'), ('that', 'CS'), ('the', 'AT'), ('City', 'NN-TL'), ('Executive', 'JJ-TL'), ('Committee', 'NN-TL'), (',', ','), ('which', 'WDT'), ('had', 'HVD')]\n"
     ]
    }
   ],
   "source": [
    "print(br_train_flat[:40])"
   ]
  },
  {
   "cell_type": "code",
   "execution_count": 17,
   "metadata": {
    "tags": []
   },
   "outputs": [
    {
     "name": "stdout",
     "output_type": "stream",
     "text": [
      "('election', 'NN')\n"
     ]
    }
   ],
   "source": [
    "print(br_train_flat[13])"
   ]
  },
  {
   "cell_type": "code",
   "execution_count": 18,
   "metadata": {
    "tags": []
   },
   "outputs": [
    {
     "data": {
      "text/plain": [
       "FreqDist({'JJ': 110, 'NN': 8, 'RB': 2})"
      ]
     },
     "execution_count": 18,
     "metadata": {},
     "output_type": "execute_result"
    }
   ],
   "source": [
    "nltk.ConditionalFreqDist(br_train_flat)['cold']"
   ]
  },
  {
   "cell_type": "code",
   "execution_count": 19,
   "metadata": {
    "tags": []
   },
   "outputs": [
    {
     "data": {
      "text/plain": [
       "['AT',\n",
       " 'IN',\n",
       " 'CC',\n",
       " 'QL',\n",
       " 'BEDZ',\n",
       " 'JJ',\n",
       " ',',\n",
       " 'DT',\n",
       " 'PP$',\n",
       " 'RP',\n",
       " '``',\n",
       " 'NN',\n",
       " 'VBN',\n",
       " 'VBD',\n",
       " 'CS',\n",
       " 'BEZ',\n",
       " 'DOZ',\n",
       " 'RB',\n",
       " 'PPSS',\n",
       " 'BE',\n",
       " 'VB',\n",
       " 'VBZ',\n",
       " 'NP$',\n",
       " 'BEDZ*',\n",
       " '--',\n",
       " 'DTI',\n",
       " 'WRB',\n",
       " 'BED']"
      ]
     },
     "execution_count": 19,
     "metadata": {},
     "output_type": "execute_result"
    }
   ],
   "source": [
    "br_train_2grams = list(nltk.ngrams(br_train_flat, 2))\n",
    "br_train_cold = [a[1] for (a,b) in br_train_2grams if b[0] == 'cold']\n",
    "fdist = nltk.FreqDist(br_train_cold)\n",
    "[tag for (tag, _) in fdist.most_common()]"
   ]
  },
  {
   "cell_type": "code",
   "execution_count": 21,
   "metadata": {
    "tags": []
   },
   "outputs": [
    {
     "data": {
      "text/plain": [
       "[('Fulton/NP-TL', 'AT'),\n",
       " ('County/NN-TL', 'NP-TL'),\n",
       " ('Grand/JJ-TL', 'NN-TL'),\n",
       " ('Jury/NN-TL', 'JJ-TL'),\n",
       " ('said/VBD', 'NN-TL'),\n",
       " ('Friday/NR', 'VBD'),\n",
       " ('an/AT', 'NR'),\n",
       " ('investigation/NN', 'AT'),\n",
       " ('of/IN', 'NN'),\n",
       " (\"Atlanta's/NP$\", 'IN')]"
      ]
     },
     "execution_count": 21,
     "metadata": {},
     "output_type": "execute_result"
    }
   ],
   "source": [
    "[(w2+\"/\"+t2, t1) for ((w1,t1),(w2,t2)) in br_train_2grams][:10]"
   ]
  },
  {
   "cell_type": "code",
   "execution_count": 22,
   "metadata": {
    "tags": []
   },
   "outputs": [
    {
     "data": {
      "text/plain": [
       "[('AT', 4), ('JJ', 2), (',', 1), ('DT', 1)]"
      ]
     },
     "execution_count": 22,
     "metadata": {},
     "output_type": "execute_result"
    }
   ],
   "source": [
    "br_pre_cfd = nltk.ConditionalFreqDist([(w2+\"/\"+t2, t1) for ((w1,t1),(w2,t2)) in br_train_2grams])\n",
    "br_pre_cfd['cold/NN'].most_common()"
   ]
  },
  {
   "cell_type": "code",
   "execution_count": 23,
   "metadata": {
    "tags": []
   },
   "outputs": [
    {
     "data": {
      "text/plain": [
       "[('AT', 38),\n",
       " ('IN', 14),\n",
       " ('CC', 8),\n",
       " ('QL', 7),\n",
       " ('BEDZ', 7),\n",
       " ('JJ', 4),\n",
       " ('DT', 3),\n",
       " (',', 3),\n",
       " ('PP$', 3),\n",
       " ('``', 2),\n",
       " ('NN', 2),\n",
       " ('VBN', 2),\n",
       " ('VBD', 2),\n",
       " ('CS', 1),\n",
       " ('BEZ', 1),\n",
       " ('DOZ', 1),\n",
       " ('RB', 1),\n",
       " ('PPSS', 1),\n",
       " ('BE', 1),\n",
       " ('VB', 1),\n",
       " ('VBZ', 1),\n",
       " ('NP$', 1),\n",
       " ('BEDZ*', 1),\n",
       " ('--', 1),\n",
       " ('RP', 1),\n",
       " ('DTI', 1),\n",
       " ('WRB', 1),\n",
       " ('BED', 1)]"
      ]
     },
     "execution_count": 23,
     "metadata": {},
     "output_type": "execute_result"
    }
   ],
   "source": [
    "br_pre_cfd['cold/JJ'].most_common()"
   ]
  },
  {
   "cell_type": "code",
   "execution_count": 24,
   "metadata": {
    "tags": []
   },
   "outputs": [
    {
     "data": {
      "text/plain": [
       "[('I', 'PPSS'), ('was', 'BEDZ'), ('very', 'QL'), ('cold', 'JJ')]"
      ]
     },
     "execution_count": 24,
     "metadata": {},
     "output_type": "execute_result"
    }
   ],
   "source": [
    "bi_tag = nltk.BigramTagger(br_train)\n",
    "bi_tag.tag(word_tokenize('I was very cold'))"
   ]
  },
  {
   "cell_type": "code",
   "execution_count": 25,
   "metadata": {
    "tags": []
   },
   "outputs": [
    {
     "data": {
      "text/plain": [
       "[('I', 'PPSS'), ('had', 'HVD'), ('a', 'AT'), ('cold', 'JJ')]"
      ]
     },
     "execution_count": 25,
     "metadata": {},
     "output_type": "execute_result"
    }
   ],
   "source": [
    "bi_tag.tag(word_tokenize('I had a cold'))"
   ]
  },
  {
   "cell_type": "code",
   "execution_count": 26,
   "metadata": {
    "tags": []
   },
   "outputs": [
    {
     "data": {
      "text/plain": [
       "[('I', 'PPSS'), ('had', 'HVD'), ('a', 'AT'), ('severe', 'JJ'), ('cold', 'JJ')]"
      ]
     },
     "execution_count": 26,
     "metadata": {},
     "output_type": "execute_result"
    }
   ],
   "source": [
    "bi_tag.tag(word_tokenize('I had a severe cold'))"
   ]
  },
  {
   "cell_type": "code",
   "execution_count": 27,
   "metadata": {
    "tags": []
   },
   "outputs": [
    {
     "data": {
      "text/plain": [
       "[('January', None),\n",
       " ('was', None),\n",
       " ('a', None),\n",
       " ('cold', None),\n",
       " ('month', None)]"
      ]
     },
     "execution_count": 27,
     "metadata": {},
     "output_type": "execute_result"
    }
   ],
   "source": [
    "bi_tag.tag(word_tokenize('January was a cold month'))"
   ]
  },
  {
   "cell_type": "code",
   "execution_count": 28,
   "metadata": {
    "tags": []
   },
   "outputs": [
    {
     "data": {
      "text/plain": [
       "0.7991528194476498"
      ]
     },
     "execution_count": 28,
     "metadata": {},
     "output_type": "execute_result"
    }
   ],
   "source": [
    "bi_tag.accuracy(br_train)"
   ]
  },
  {
   "cell_type": "code",
   "execution_count": 29,
   "metadata": {
    "tags": []
   },
   "outputs": [
    {
     "data": {
      "text/plain": [
       "[('I', 'PPSS'), ('faild', None), ('to', None), ('do', None), ('so', None)]"
      ]
     },
     "execution_count": 29,
     "metadata": {},
     "output_type": "execute_result"
    }
   ],
   "source": [
    "bi_tag.tag(word_tokenize('I faild to do so'))"
   ]
  },
  {
   "cell_type": "code",
   "execution_count": 30,
   "metadata": {
    "tags": []
   },
   "outputs": [
    {
     "data": {
      "text/plain": [
       "[('I', 'PPSS'),\n",
       " ('was', 'BEDZ'),\n",
       " ('happy', 'JJ'),\n",
       " (',', ','),\n",
       " ('but', 'CC'),\n",
       " ('so', 'RB'),\n",
       " ('was', 'BEDZ'),\n",
       " ('my', 'PP$'),\n",
       " ('enemy', 'NN')]"
      ]
     },
     "execution_count": 30,
     "metadata": {},
     "output_type": "execute_result"
    }
   ],
   "source": [
    "bi_tag.tag(word_tokenize('I was happy, but so was my enemy'))"
   ]
  },
  {
   "cell_type": "code",
   "execution_count": 31,
   "metadata": {
    "tags": []
   },
   "outputs": [
    {
     "data": {
      "text/plain": [
       "[('So', 'RB'),\n",
       " (',', ','),\n",
       " ('how', 'WRB'),\n",
       " ('was', 'BEDZ'),\n",
       " ('the', 'AT'),\n",
       " ('exam', None)]"
      ]
     },
     "execution_count": 31,
     "metadata": {},
     "output_type": "execute_result"
    }
   ],
   "source": [
    "bi_tag.tag(word_tokenize('So, how was the exam'))"
   ]
  },
  {
   "cell_type": "code",
   "execution_count": 32,
   "metadata": {
    "tags": []
   },
   "outputs": [
    {
     "data": {
      "text/plain": [
       "[('The', 'AT'),\n",
       " ('students', 'NNS'),\n",
       " ('came', 'VBD'),\n",
       " ('in', 'IN'),\n",
       " ('early', 'JJ'),\n",
       " ('so', 'CS'),\n",
       " ('they', 'PPSS'),\n",
       " ('can', 'MD'),\n",
       " ('get', 'VB'),\n",
       " ('good', 'JJ'),\n",
       " ('seats', 'NNS')]"
      ]
     },
     "execution_count": 32,
     "metadata": {},
     "output_type": "execute_result"
    }
   ],
   "source": [
    "bi_tag.tag(word_tokenize('The students came in early so they can get good seats'))"
   ]
  },
  {
   "cell_type": "code",
   "execution_count": 33,
   "metadata": {
    "tags": []
   },
   "outputs": [
    {
     "data": {
      "text/plain": [
       "[('She', 'PPS'),\n",
       " ('failed', 'VBD'),\n",
       " ('the', 'AT'),\n",
       " ('exam', None),\n",
       " (',', None),\n",
       " ('so', None),\n",
       " ('she', None),\n",
       " ('must', None),\n",
       " ('take', None),\n",
       " ('it', None),\n",
       " ('again', None)]"
      ]
     },
     "execution_count": 33,
     "metadata": {},
     "output_type": "execute_result"
    }
   ],
   "source": [
    "bi_tag.tag(word_tokenize('She failed the exam, so she must take it again'))"
   ]
  },
  {
   "cell_type": "code",
   "execution_count": 34,
   "metadata": {
    "tags": []
   },
   "outputs": [
    {
     "data": {
      "text/plain": [
       "[('That', 'DT'), ('was', 'BEDZ'), ('so', 'QL'), ('incredible', 'JJ')]"
      ]
     },
     "execution_count": 34,
     "metadata": {},
     "output_type": "execute_result"
    }
   ],
   "source": [
    "bi_tag.tag(word_tokenize('That was so incredible'))"
   ]
  },
  {
   "cell_type": "code",
   "execution_count": 35,
   "metadata": {
    "tags": []
   },
   "outputs": [
    {
     "data": {
      "text/plain": [
       "[('Wow', None), (',', None), ('so', None), ('incredible', None)]"
      ]
     },
     "execution_count": 35,
     "metadata": {},
     "output_type": "execute_result"
    }
   ],
   "source": [
    "bi_tag.tag(word_tokenize('Wow, so incredible'))"
   ]
  },
  {
   "cell_type": "code",
   "execution_count": null,
   "metadata": {},
   "outputs": [],
   "source": []
  }
 ],
 "metadata": {
  "kernelspec": {
   "display_name": "Python 3 (ipykernel)",
   "language": "python",
   "name": "python3"
  },
  "language_info": {
   "codemirror_mode": {
    "name": "ipython",
    "version": 3
   },
   "file_extension": ".py",
   "mimetype": "text/x-python",
   "name": "python",
   "nbconvert_exporter": "python",
   "pygments_lexer": "ipython3",
   "version": "3.11.5"
  }
 },
 "nbformat": 4,
 "nbformat_minor": 4
}
