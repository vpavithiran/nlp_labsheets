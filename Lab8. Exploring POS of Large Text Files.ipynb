{
 "cells": [
  {
   "cell_type": "markdown",
   "metadata": {},
   "source": [
    "### Open any movie file"
   ]
  },
  {
   "cell_type": "code",
   "execution_count": 2,
   "metadata": {
    "scrolled": true,
    "tags": []
   },
   "outputs": [
    {
     "name": "stdout",
     "output_type": "stream",
     "text": [
      "At age 75, Akira Kurosawa, Japan's greatest living director, created one more magnificent work that will surely stand the test of time. In RAN, Kurosawa turned to Shakespeare for inspiration--as he had in THRONE OF BLOOD nearly 30 years before--and chose to film a Japanese adaptation of\n",
      "\n",
      "\"King Lear.\" Set in 16th-century Japan, RAN (the Japanese character for fury, revolt, and madness--chaos) begins as Hidetora Ichimonji (Tatsuya Nakadai), an aging warlord who has acquired power through 50 years of ruthless bloodshed, announces his intention to divide his kingdom among his three\n",
      "\n",
      "sons, each of whom will live at one of three outlying castles. While the elder sons thank him for the honor, the youngest calls his father senile and mad, noting--prophetically--that it will only be a matter of time until the ambitious brothers begin battling for possession of the whole domain. In\n",
      "\n",
      "the process, Hidetora and his kingdom are consigned to a tragic and spectacular end. For more than 10 years, Kurosawa wanted desperately to make RAN, and, on the strength of KAGEMUSHA's success, he was finally able to obtain funding for this, the most expensive film ever made in Japan (though the\n",
      "\n",
      "$11 million budget is small by Hollywood standards). Partly shot at two of that country's most revered landmarks (the ancient castles at Himeji and Kumamoto; the third castle was constructed of plastic and wood on the slopes of Mount Fuji), RAN is a visually stunning epic, containing some of the\n",
      "\n",
      "most beautiful, colorful, breathtaking imagery ever committed to celluloid. As he grew older, Kurosawa began to shoot his films in a more traditionally Japanese style (static takes, little camera movement, no flamboyant editing). Here, especially in the battle scenes, he adopts a detached,\n",
      "\n",
      "impassive camera, heightening the tragedy by giving the audience a godlike but powerless perspective on all the madness and folly unfolding onscreen. At the same time, Kurosawa infuses the film with deep human emotion, aided by uniformly superb performances. The work of a mature artist in complete\n",
      "\n",
      "control of his medium, RAN is a true cinematic masterwork of sight, sound, intelligence, and--most important--passion. \n",
      "\n"
     ]
    }
   ],
   "source": [
    "with open('Movies/Ran.txt','r') as f:\n",
    "    txt = f.read()\n",
    "    print(txt,'\\n')"
   ]
  },
  {
   "cell_type": "code",
   "execution_count": 3,
   "metadata": {
    "tags": []
   },
   "outputs": [
    {
     "name": "stderr",
     "output_type": "stream",
     "text": [
      "[nltk_data] Downloading package punkt to\n",
      "[nltk_data]     /Users/pavithiranv/nltk_data...\n",
      "[nltk_data]   Package punkt is already up-to-date!\n"
     ]
    },
    {
     "data": {
      "text/plain": [
       "True"
      ]
     },
     "execution_count": 3,
     "metadata": {},
     "output_type": "execute_result"
    }
   ],
   "source": [
    "import nltk\n",
    "nltk.download('punkt')"
   ]
  },
  {
   "cell_type": "markdown",
   "metadata": {},
   "source": [
    "### How many sentences in the file?"
   ]
  },
  {
   "cell_type": "code",
   "execution_count": 4,
   "metadata": {
    "tags": []
   },
   "outputs": [
    {
     "name": "stdout",
     "output_type": "stream",
     "text": [
      "11\n"
     ]
    }
   ],
   "source": [
    "from nltk.tokenize import sent_tokenize, word_tokenize\n",
    "print(len(sent_tokenize(txt)))"
   ]
  },
  {
   "cell_type": "markdown",
   "metadata": {},
   "source": [
    "### How many word in the file?"
   ]
  },
  {
   "cell_type": "code",
   "execution_count": 5,
   "metadata": {
    "tags": []
   },
   "outputs": [
    {
     "name": "stdout",
     "output_type": "stream",
     "text": [
      "426\n"
     ]
    }
   ],
   "source": [
    "print(len(word_tokenize(txt)))"
   ]
  },
  {
   "cell_type": "markdown",
   "metadata": {},
   "source": [
    "### What are the top 10 words and their counts?"
   ]
  },
  {
   "cell_type": "code",
   "execution_count": 6,
   "metadata": {
    "tags": []
   },
   "outputs": [
    {
     "data": {
      "text/plain": [
       "[(',', 35),\n",
       " ('the', 21),\n",
       " ('of', 15),\n",
       " ('.', 11),\n",
       " ('and', 10),\n",
       " ('a', 9),\n",
       " ('to', 8),\n",
       " ('--', 7),\n",
       " ('his', 7),\n",
       " ('in', 6)]"
      ]
     },
     "execution_count": 6,
     "metadata": {},
     "output_type": "execute_result"
    }
   ],
   "source": [
    "nltk.FreqDist(word_tokenize(txt)).most_common(10)"
   ]
  },
  {
   "cell_type": "code",
   "execution_count": 7,
   "metadata": {
    "tags": []
   },
   "outputs": [
    {
     "name": "stderr",
     "output_type": "stream",
     "text": [
      "[nltk_data] Downloading package averaged_perceptron_tagger to\n",
      "[nltk_data]     /Users/pavithiranv/nltk_data...\n",
      "[nltk_data]   Package averaged_perceptron_tagger is already up-to-\n",
      "[nltk_data]       date!\n"
     ]
    },
    {
     "data": {
      "text/plain": [
       "True"
      ]
     },
     "execution_count": 7,
     "metadata": {},
     "output_type": "execute_result"
    }
   ],
   "source": [
    "import nltk\n",
    "nltk.download('averaged_perceptron_tagger')"
   ]
  },
  {
   "cell_type": "code",
   "execution_count": 8,
   "metadata": {
    "tags": []
   },
   "outputs": [
    {
     "name": "stderr",
     "output_type": "stream",
     "text": [
      "[nltk_data] Downloading package universal_tagset to\n",
      "[nltk_data]     /Users/pavithiranv/nltk_data...\n",
      "[nltk_data]   Package universal_tagset is already up-to-date!\n"
     ]
    },
    {
     "data": {
      "text/plain": [
       "True"
      ]
     },
     "execution_count": 8,
     "metadata": {},
     "output_type": "execute_result"
    }
   ],
   "source": [
    "import nltk\n",
    "nltk.download('universal_tagset')"
   ]
  },
  {
   "cell_type": "code",
   "execution_count": 9,
   "metadata": {
    "tags": []
   },
   "outputs": [
    {
     "name": "stderr",
     "output_type": "stream",
     "text": [
      "[nltk_data] Downloading package stopwords to\n",
      "[nltk_data]     /Users/pavithiranv/nltk_data...\n",
      "[nltk_data]   Package stopwords is already up-to-date!\n"
     ]
    },
    {
     "data": {
      "text/plain": [
       "True"
      ]
     },
     "execution_count": 9,
     "metadata": {},
     "output_type": "execute_result"
    }
   ],
   "source": [
    "import nltk\n",
    "nltk.download('stopwords')"
   ]
  },
  {
   "cell_type": "markdown",
   "metadata": {},
   "source": [
    "### How many different POS tags are represented in this file?"
   ]
  },
  {
   "cell_type": "code",
   "execution_count": 10,
   "metadata": {
    "tags": []
   },
   "outputs": [
    {
     "data": {
      "text/plain": [
       "35"
      ]
     },
     "execution_count": 10,
     "metadata": {},
     "output_type": "execute_result"
    }
   ],
   "source": [
    "from nltk.tag import pos_tag\n",
    "from nltk.corpus import stopwords\n",
    "\n",
    "tag = []\n",
    "d_tags = []\n",
    "words = [w for w in txt if not w in set(stopwords.words('english'))] \n",
    "tagged = nltk.pos_tag(word_tokenize(txt))\n",
    "for i in tagged:\n",
    "    (word,pos)=i\n",
    "    tag.append(pos)\n",
    "    for j in tag:\n",
    "        if j not in d_tags:\n",
    "            d_tags.append(j)\n",
    "len(d_tags)"
   ]
  },
  {
   "cell_type": "markdown",
   "metadata": {},
   "source": [
    "### What are the top most pos tags and their counts?"
   ]
  },
  {
   "cell_type": "code",
   "execution_count": 11,
   "metadata": {
    "tags": []
   },
   "outputs": [
    {
     "data": {
      "text/plain": [
       "[((',', ','), 35),\n",
       " (('the', 'DT'), 21),\n",
       " (('of', 'IN'), 15),\n",
       " (('.', '.'), 11),\n",
       " (('and', 'CC'), 10),\n",
       " (('a', 'DT'), 9),\n",
       " (('to', 'TO'), 8),\n",
       " (('--', ':'), 7),\n",
       " (('his', 'PRP$'), 7),\n",
       " (('in', 'IN'), 6)]"
      ]
     },
     "execution_count": 11,
     "metadata": {},
     "output_type": "execute_result"
    }
   ],
   "source": [
    "nltk.FreqDist(tagged).most_common(10)"
   ]
  },
  {
   "cell_type": "markdown",
   "metadata": {},
   "source": [
    "### How many nouns,verbs,adjectives,adverbs in the file?"
   ]
  },
  {
   "cell_type": "code",
   "execution_count": 12,
   "metadata": {
    "tags": []
   },
   "outputs": [
    {
     "name": "stdout",
     "output_type": "stream",
     "text": [
      "91 nouns in the file\n",
      "36 verbs in the file\n",
      "36 adjectives in the file\n",
      "15 adverbs in the file\n"
     ]
    }
   ],
   "source": [
    "noun=[]\n",
    "verb=[]\n",
    "adj=[]\n",
    "adv=[]\n",
    "for i in nltk.FreqDist(tagged).keys():\n",
    "    (word,pos)=i\n",
    "    if pos == 'NN' or pos == 'NNS' or pos == 'NNP' or pos == 'NNPS':\n",
    "        noun.append(i)\n",
    "    elif pos == 'VB' or pos == 'VBD' or pos == 'VBN' or pos == 'VBP' or pos == 'VBZ':\n",
    "        verb.append(i)\n",
    "    elif pos == 'JJ' or pos == 'JJR' or pos == 'JJS':\n",
    "        adj.append(i)\n",
    "    elif pos == 'RB' or pos == 'RBR' or pos == 'RBS' or pos == 'BP':\n",
    "        adv.append(i)\n",
    "print(len(noun),'nouns in the file')\n",
    "print(len(verb),'verbs in the file')\n",
    "print(len(adj),'adjectives in the file')\n",
    "print(len(adv),'adverbs in the file')\n"
   ]
  },
  {
   "cell_type": "markdown",
   "metadata": {},
   "source": [
    "### What is the most frequent adverb?"
   ]
  },
  {
   "cell_type": "code",
   "execution_count": 13,
   "metadata": {
    "tags": []
   },
   "outputs": [
    {
     "data": {
      "text/plain": [
       "[(('surely', 'RB'), 1),\n",
       " (('nearly', 'RB'), 1),\n",
       " (('before', 'RB'), 1),\n",
       " (('prophetically', 'RB'), 1),\n",
       " (('only', 'RB'), 1),\n",
       " (('desperately', 'RB'), 1),\n",
       " (('finally', 'RB'), 1),\n",
       " (('most', 'RBS'), 1),\n",
       " (('ever', 'RB'), 1),\n",
       " (('Partly', 'RB'), 1)]"
      ]
     },
     "execution_count": 13,
     "metadata": {},
     "output_type": "execute_result"
    }
   ],
   "source": [
    "nltk.FreqDist(adv).most_common(10)"
   ]
  },
  {
   "cell_type": "markdown",
   "metadata": {},
   "source": [
    "### What is the most frequent adjective?"
   ]
  },
  {
   "cell_type": "code",
   "execution_count": 14,
   "metadata": {
    "scrolled": true,
    "tags": []
   },
   "outputs": [
    {
     "data": {
      "text/plain": [
       "[(('greatest', 'JJS'), 1),\n",
       " (('more', 'JJR'), 1),\n",
       " (('magnificent', 'JJ'), 1),\n",
       " (('Japanese', 'JJ'), 1),\n",
       " (('16th-century', 'JJ'), 1),\n",
       " (('youngest', 'JJS'), 1),\n",
       " (('ambitious', 'JJ'), 1),\n",
       " (('whole', 'JJ'), 1),\n",
       " (('tragic', 'JJ'), 1),\n",
       " (('spectacular', 'JJ'), 1)]"
      ]
     },
     "execution_count": 14,
     "metadata": {},
     "output_type": "execute_result"
    }
   ],
   "source": [
    "nltk.FreqDist(adj).most_common(10)"
   ]
  },
  {
   "cell_type": "code",
   "execution_count": null,
   "metadata": {},
   "outputs": [],
   "source": []
  }
 ],
 "metadata": {
  "kernelspec": {
   "display_name": "Python 3 (ipykernel)",
   "language": "python",
   "name": "python3"
  },
  "language_info": {
   "codemirror_mode": {
    "name": "ipython",
    "version": 3
   },
   "file_extension": ".py",
   "mimetype": "text/x-python",
   "name": "python",
   "nbconvert_exporter": "python",
   "pygments_lexer": "ipython3",
   "version": "3.11.5"
  }
 },
 "nbformat": 4,
 "nbformat_minor": 4
}
