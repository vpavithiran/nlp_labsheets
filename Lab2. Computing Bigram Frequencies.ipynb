{
 "cells": [
  {
   "cell_type": "markdown",
   "metadata": {},
   "source": [
    "# Lab2. Computing Bigram Frequencies\n"
   ]
  },
  {
   "cell_type": "code",
   "execution_count": 62,
   "metadata": {
    "tags": []
   },
   "outputs": [
    {
     "data": {
      "text/plain": [
       "['0Uplink verified\\t523545\\n',\n",
       " '0km to\\t116103\\n',\n",
       " '1000s of\\t939476\\n',\n",
       " '100s of\\t539389\\n',\n",
       " '100th anniversary\\t158621\\n',\n",
       " '10am to\\t376141\\n',\n",
       " '10th and\\t183715\\n',\n",
       " '10th anniversary\\t242830\\n',\n",
       " '10th century\\t117755\\n',\n",
       " '10th grade\\t174046\\n']"
      ]
     },
     "execution_count": 62,
     "metadata": {},
     "output_type": "execute_result"
    }
   ],
   "source": [
    "f=open('count_2w.txt',encoding='utf-8')\n",
    "lines=f.readlines()\n",
    "lines[:10]"
   ]
  },
  {
   "cell_type": "code",
   "execution_count": 2,
   "metadata": {
    "tags": []
   },
   "outputs": [
    {
     "data": {
      "text/plain": [
       "'0Uplink verified\\t523545\\n'"
      ]
     },
     "execution_count": 2,
     "metadata": {},
     "output_type": "execute_result"
    }
   ],
   "source": [
    "mini = lines[:10]\n",
    "mini[0]"
   ]
  },
  {
   "cell_type": "code",
   "execution_count": 3,
   "metadata": {
    "tags": []
   },
   "outputs": [
    {
     "data": {
      "text/plain": [
       "['0Uplink', 'verified', '523545']"
      ]
     },
     "execution_count": 3,
     "metadata": {},
     "output_type": "execute_result"
    }
   ],
   "source": [
    "mini[0].split()"
   ]
  },
  {
   "cell_type": "code",
   "execution_count": 4,
   "metadata": {
    "tags": []
   },
   "outputs": [
    {
     "data": {
      "text/plain": [
       "[(('0Uplink', 'verified'), 523545),\n",
       " (('0km', 'to'), 116103),\n",
       " (('1000s', 'of'), 939476),\n",
       " (('100s', 'of'), 539389),\n",
       " (('100th', 'anniversary'), 158621),\n",
       " (('10am', 'to'), 376141),\n",
       " (('10th', 'and'), 183715),\n",
       " (('10th', 'anniversary'), 242830),\n",
       " (('10th', 'century'), 117755),\n",
       " (('10th', 'grade'), 174046)]"
      ]
     },
     "execution_count": 4,
     "metadata": {},
     "output_type": "execute_result"
    }
   ],
   "source": [
    "mini_list =[]\n",
    "for m in mini:\n",
    "    (w1,w2,count)=m.split()\n",
    "    count=int(count)\n",
    "    mini_list.append((((w1,w2),count)))\n",
    "mini_list"
   ]
  },
  {
   "cell_type": "code",
   "execution_count": 5,
   "metadata": {
    "tags": []
   },
   "outputs": [
    {
     "data": {
      "text/plain": [
       "(('0Uplink', 'verified'), 523545)"
      ]
     },
     "execution_count": 5,
     "metadata": {},
     "output_type": "execute_result"
    }
   ],
   "source": [
    "mini_list[0]"
   ]
  },
  {
   "cell_type": "code",
   "execution_count": 6,
   "metadata": {
    "tags": []
   },
   "outputs": [],
   "source": [
    "import nltk\n",
    "\n",
    "goog2w_fd=nltk.FreqDist()\n",
    "for i in lines:\n",
    "    w1,w2,count=i.split()\n",
    "    goog2w_fd[(w1,w2)]=count\n",
    "    "
   ]
  },
  {
   "cell_type": "code",
   "execution_count": 7,
   "metadata": {
    "tags": []
   },
   "outputs": [
    {
     "data": {
      "text/plain": [
       "'2766332391'"
      ]
     },
     "execution_count": 7,
     "metadata": {},
     "output_type": "execute_result"
    }
   ],
   "source": [
    "goog2w_fd[('of','the')]"
   ]
  },
  {
   "cell_type": "code",
   "execution_count": 8,
   "metadata": {
    "tags": []
   },
   "outputs": [
    {
     "data": {
      "text/plain": [
       "'612472'"
      ]
     },
     "execution_count": 8,
     "metadata": {},
     "output_type": "execute_result"
    }
   ],
   "source": [
    "goog2w_fd[('so','beautiful')]"
   ]
  },
  {
   "cell_type": "code",
   "execution_count": 9,
   "metadata": {
    "tags": []
   },
   "outputs": [
    {
     "data": {
      "text/plain": [
       "[(('You', 'think'), '999988'),\n",
       " (('a', 'middle'), '999987'),\n",
       " (('his', 'wife'), '9999448'),\n",
       " (('traditional', 'and'), '999927'),\n",
       " (('Ask', 'your'), '999907'),\n",
       " (('towards', 'the'), '9998989'),\n",
       " (('<S>', 'central'), '999848'),\n",
       " (('no', 'man'), '999833'),\n",
       " (('committee', 'members'), '999819'),\n",
       " (('each', 'country'), '999818')]"
      ]
     },
     "execution_count": 9,
     "metadata": {},
     "output_type": "execute_result"
    }
   ],
   "source": [
    "goog2w_fd.most_common(10)"
   ]
  },
  {
   "cell_type": "code",
   "execution_count": 63,
   "metadata": {
    "tags": []
   },
   "outputs": [
    {
     "data": {
      "text/plain": [
       "[(('so', 'a'), 1565933),\n",
       " (('so', 'afraid'), 181401),\n",
       " (('so', 'after'), 400665),\n",
       " (('so', 'again'), 197409),\n",
       " (('so', 'ago'), 226156),\n",
       " (('so', 'all'), 894606),\n",
       " (('so', 'already'), 101152),\n",
       " (('so', 'also'), 233562),\n",
       " (('so', 'am'), 206896),\n",
       " (('so', 'amazing'), 165724)]"
      ]
     },
     "execution_count": 63,
     "metadata": {},
     "output_type": "execute_result"
    }
   ],
   "source": [
    "so_list =[]\n",
    "for m in lines:\n",
    "    (w1,w2,count)=m.split()\n",
    "    count=int(count)\n",
    "    if w1=='so':\n",
    "        so_list.append((((w1,w2),count)))\n",
    "so_list[:10]"
   ]
  },
  {
   "cell_type": "code",
   "execution_count": 11,
   "metadata": {
    "tags": []
   },
   "outputs": [
    {
     "data": {
      "text/plain": [
       "0.0"
      ]
     },
     "execution_count": 11,
     "metadata": {},
     "output_type": "execute_result"
    }
   ],
   "source": [
    "bigrams = [(s1, s2) for s1, s2 in zip(lines, lines[1:])]\n",
    "number_of_bigrams = len(bigrams)\n",
    "bg_count = bigrams.count(('she', 'was','not','afraid'))\n",
    "bg_count/number_of_bigrams"
   ]
  },
  {
   "cell_type": "code",
   "execution_count": 64,
   "metadata": {
    "tags": []
   },
   "outputs": [
    {
     "data": {
      "text/plain": [
       "[('0Uplink verified\\t523545\\n', '0km to\\t116103\\n'),\n",
       " ('0km to\\t116103\\n', '1000s of\\t939476\\n'),\n",
       " ('1000s of\\t939476\\n', '100s of\\t539389\\n'),\n",
       " ('100s of\\t539389\\n', '100th anniversary\\t158621\\n'),\n",
       " ('100th anniversary\\t158621\\n', '10am to\\t376141\\n'),\n",
       " ('10am to\\t376141\\n', '10th and\\t183715\\n'),\n",
       " ('10th and\\t183715\\n', '10th anniversary\\t242830\\n'),\n",
       " ('10th anniversary\\t242830\\n', '10th century\\t117755\\n'),\n",
       " ('10th century\\t117755\\n', '10th grade\\t174046\\n'),\n",
       " ('10th grade\\t174046\\n', '10th in\\t107194\\n')]"
      ]
     },
     "execution_count": 64,
     "metadata": {},
     "output_type": "execute_result"
    }
   ],
   "source": [
    "bigrams[:10]"
   ]
  },
  {
   "cell_type": "code",
   "execution_count": 13,
   "metadata": {
    "tags": []
   },
   "outputs": [],
   "source": [
    "import pickle\n",
    "with open('goog2w_list.pkl','wb') as goog2w_list:\n",
    "    pickle.dump(goog2w_fd,goog2w_list,protocol=pickle.HIGHEST_PROTOCOL)"
   ]
  },
  {
   "cell_type": "code",
   "execution_count": 14,
   "metadata": {
    "tags": []
   },
   "outputs": [
    {
     "data": {
      "text/plain": [
       "<_io.BufferedWriter name='goog2w_list.pkl'>"
      ]
     },
     "execution_count": 14,
     "metadata": {},
     "output_type": "execute_result"
    }
   ],
   "source": [
    "goog2w_list"
   ]
  },
  {
   "cell_type": "code",
   "execution_count": 15,
   "metadata": {
    "tags": []
   },
   "outputs": [
    {
     "data": {
      "text/plain": [
       "FreqDist({('You', 'think'): '999988', ('a', 'middle'): '999987', ('his', 'wife'): '9999448', ('traditional', 'and'): '999927', ('Ask', 'your'): '999907', ('towards', 'the'): '9998989', ('<S>', 'central'): '999848', ('no', 'man'): '999833', ('committee', 'members'): '999819', ('each', 'country'): '999818', ...})"
      ]
     },
     "execution_count": 15,
     "metadata": {},
     "output_type": "execute_result"
    }
   ],
   "source": [
    "goog2w_fd"
   ]
  },
  {
   "cell_type": "code",
   "execution_count": 22,
   "metadata": {
    "tags": []
   },
   "outputs": [],
   "source": [
    "with open('austen-emma.txt','r')as fe:\n",
    "    ae=fe.read(600)"
   ]
  },
  {
   "cell_type": "code",
   "execution_count": 23,
   "metadata": {
    "tags": []
   },
   "outputs": [],
   "source": [
    "with open('austen-persuasion.txt','r')as fp:\n",
    "    ap=fp.read(900)"
   ]
  },
  {
   "cell_type": "code",
   "execution_count": 24,
   "metadata": {
    "tags": []
   },
   "outputs": [],
   "source": [
    "with open('austen-sense.txt','r')as fe:\n",
    "    ase=fe.read(1000)"
   ]
  },
  {
   "cell_type": "code",
   "execution_count": 25,
   "metadata": {
    "tags": []
   },
   "outputs": [],
   "source": [
    "from nltk.tokenize import sent_tokenize\n",
    "from nltk.tokenize import word_tokenize"
   ]
  },
  {
   "cell_type": "code",
   "execution_count": 26,
   "metadata": {
    "tags": []
   },
   "outputs": [
    {
     "data": {
      "text/plain": [
       "['[Emma by Jane Austen 1816]\\n\\nVOLUME I\\n\\nCHAPTER I\\n\\n\\nEmma Woodhouse, handsome, clever, and rich, with a comfortable home\\nand happy disposition, seemed to unite some of the best blessings\\nof existence; and had lived nearly twenty-one years in the world\\nwith very little to distress or vex her.',\n",
       " \"She was the youngest of the two daughters of a most affectionate,\\nindulgent father; and had, in consequence of her sister's marriage,\\nbeen mistress of his house from a very early period.\",\n",
       " 'Her mother\\nhad died too long ago for her to have more than an indistinct\\nremembrance of her caresses; and her place had b']"
      ]
     },
     "execution_count": 26,
     "metadata": {},
     "output_type": "execute_result"
    }
   ],
   "source": [
    "sent_tokenize(ae)"
   ]
  },
  {
   "cell_type": "code",
   "execution_count": 27,
   "metadata": {
    "tags": []
   },
   "outputs": [
    {
     "data": {
      "text/plain": [
       "['[Persuasion by Jane Austen 1818]\\n\\n\\nChapter 1\\n\\n\\nSir Walter Elliot, of Kellynch Hall, in Somersetshire, was a man who,\\nfor his own amusement, never took up any book but the Baronetage;\\nthere he found occupation for an idle hour, and consolation in a\\ndistressed one; there his faculties were roused into admiration and\\nrespect, by contemplating the limited remnant of the earliest patents;\\nthere any unwelcome sensations, arising from domestic affairs\\nchanged naturally into pity and contempt as he turned over\\nthe almost endless creations of the last century; and there,\\nif every other leaf were powerless, he could read his own history\\nwith an interest which never failed.',\n",
       " 'This was the page at which\\nthe favourite volume always opened:\\n\\n           \"ELLIOT OF KELLYNCH HALL.',\n",
       " '\"Walter Elliot, born March 1, 1760, married, July 15, 1784, Elizabeth,\\ndaughter of James Stevenson, Esq.',\n",
       " 'of South Park, in th']"
      ]
     },
     "execution_count": 27,
     "metadata": {},
     "output_type": "execute_result"
    }
   ],
   "source": [
    "sent_tokenize(ap)"
   ]
  },
  {
   "cell_type": "code",
   "execution_count": 28,
   "metadata": {
    "tags": []
   },
   "outputs": [
    {
     "data": {
      "text/plain": [
       "['[Sense and Sensibility by Jane Austen 1811]\\n\\nCHAPTER 1\\n\\n\\nThe family of Dashwood had long been settled in Sussex.',\n",
       " 'Their estate was large, and their residence was at Norland Park,\\nin the centre of their property, where, for many generations,\\nthey had lived in so respectable a manner as to engage\\nthe general good opinion of their surrounding acquaintance.',\n",
       " 'The late owner of this estate was a single man, who lived\\nto a very advanced age, and who for many years of his life,\\nhad a constant companion and housekeeper in his sister.',\n",
       " 'But her death, which happened ten years before his own,\\nproduced a great alteration in his home; for to supply\\nher loss, he invited and received into his house the family\\nof his nephew Mr. Henry Dashwood, the legal inheritor\\nof the Norland estate, and the person to whom he intended\\nto bequeath it.',\n",
       " \"In the society of his nephew and niece,\\nand their children, the old Gentleman's days were\\ncomfortably spent.\",\n",
       " 'His attachment to them all increased.',\n",
       " 'The constant attention']"
      ]
     },
     "execution_count": 28,
     "metadata": {},
     "output_type": "execute_result"
    }
   ],
   "source": [
    "sent_tokenize(ase)"
   ]
  },
  {
   "cell_type": "code",
   "execution_count": 29,
   "metadata": {
    "tags": []
   },
   "outputs": [
    {
     "data": {
      "text/plain": [
       "3"
      ]
     },
     "execution_count": 29,
     "metadata": {},
     "output_type": "execute_result"
    }
   ],
   "source": [
    "len(sent_tokenize(ae))"
   ]
  },
  {
   "cell_type": "code",
   "execution_count": 30,
   "metadata": {
    "tags": []
   },
   "outputs": [
    {
     "data": {
      "text/plain": [
       "4"
      ]
     },
     "execution_count": 30,
     "metadata": {},
     "output_type": "execute_result"
    }
   ],
   "source": [
    "len(sent_tokenize(ap))"
   ]
  },
  {
   "cell_type": "code",
   "execution_count": 31,
   "metadata": {
    "tags": []
   },
   "outputs": [
    {
     "data": {
      "text/plain": [
       "7"
      ]
     },
     "execution_count": 31,
     "metadata": {},
     "output_type": "execute_result"
    }
   ],
   "source": [
    "len(sent_tokenize(ase))"
   ]
  },
  {
   "cell_type": "code",
   "execution_count": 65,
   "metadata": {
    "tags": []
   },
   "outputs": [
    {
     "data": {
      "text/plain": [
       "['[', 'Emma', 'by', 'Jane', 'Austen', '1816', ']', 'VOLUME', 'I', 'CHAPTER']"
      ]
     },
     "execution_count": 65,
     "metadata": {},
     "output_type": "execute_result"
    }
   ],
   "source": [
    "word_tokenize(ae)[:10]"
   ]
  },
  {
   "cell_type": "code",
   "execution_count": 66,
   "metadata": {
    "tags": []
   },
   "outputs": [
    {
     "data": {
      "text/plain": [
       "['[', 'Persuasion', 'by', 'Jane', 'Austen', '1818', ']', 'Chapter', '1', 'Sir']"
      ]
     },
     "execution_count": 66,
     "metadata": {},
     "output_type": "execute_result"
    }
   ],
   "source": [
    "word_tokenize(ap)[:10]"
   ]
  },
  {
   "cell_type": "code",
   "execution_count": 67,
   "metadata": {
    "tags": []
   },
   "outputs": [
    {
     "data": {
      "text/plain": [
       "['[',\n",
       " 'Sense',\n",
       " 'and',\n",
       " 'Sensibility',\n",
       " 'by',\n",
       " 'Jane',\n",
       " 'Austen',\n",
       " '1811',\n",
       " ']',\n",
       " 'CHAPTER']"
      ]
     },
     "execution_count": 67,
     "metadata": {},
     "output_type": "execute_result"
    }
   ],
   "source": [
    "word_tokenize(ase)[:10]"
   ]
  },
  {
   "cell_type": "code",
   "execution_count": 35,
   "metadata": {
    "tags": []
   },
   "outputs": [
    {
     "data": {
      "text/plain": [
       "FreqDist({',': 8, 'of': 7, 'and': 5, 'her': 5, 'the': 4, 'had': 4, 'a': 3, 'to': 3, ';': 3, 'Emma': 2, ...})"
      ]
     },
     "execution_count": 35,
     "metadata": {},
     "output_type": "execute_result"
    }
   ],
   "source": [
    "nltk.FreqDist(word_tokenize(ae))"
   ]
  },
  {
   "cell_type": "code",
   "execution_count": 36,
   "metadata": {
    "tags": []
   },
   "outputs": [
    {
     "data": {
      "text/plain": [
       "FreqDist({',': 19, 'the': 7, 'of': 5, ';': 4, 'there': 4, 'and': 4, 'in': 3, 'his': 3, 'he': 3, '.': 3, ...})"
      ]
     },
     "execution_count": 36,
     "metadata": {},
     "output_type": "execute_result"
    }
   ],
   "source": [
    "nltk.FreqDist(word_tokenize(ap))"
   ]
  },
  {
   "cell_type": "code",
   "execution_count": 37,
   "metadata": {
    "tags": []
   },
   "outputs": [
    {
     "data": {
      "text/plain": [
       "FreqDist({',': 15, 'and': 8, 'of': 8, 'the': 8, 'his': 7, '.': 6, 'to': 6, 'in': 5, 'a': 5, 'their': 4, ...})"
      ]
     },
     "execution_count": 37,
     "metadata": {},
     "output_type": "execute_result"
    }
   ],
   "source": [
    "nltk.FreqDist(word_tokenize(ase))"
   ]
  },
  {
   "cell_type": "code",
   "execution_count": 38,
   "metadata": {
    "tags": []
   },
   "outputs": [
    {
     "data": {
      "text/plain": [
       "[(',', 8),\n",
       " ('of', 7),\n",
       " ('and', 5),\n",
       " ('her', 5),\n",
       " ('the', 4),\n",
       " ('had', 4),\n",
       " ('a', 3),\n",
       " ('to', 3),\n",
       " (';', 3),\n",
       " ('Emma', 2),\n",
       " ('I', 2),\n",
       " ('with', 2),\n",
       " ('in', 2),\n",
       " ('very', 2),\n",
       " ('.', 2),\n",
       " ('[', 1),\n",
       " ('by', 1),\n",
       " ('Jane', 1),\n",
       " ('Austen', 1),\n",
       " ('1816', 1),\n",
       " (']', 1),\n",
       " ('VOLUME', 1),\n",
       " ('CHAPTER', 1),\n",
       " ('Woodhouse', 1),\n",
       " ('handsome', 1),\n",
       " ('clever', 1),\n",
       " ('rich', 1),\n",
       " ('comfortable', 1),\n",
       " ('home', 1),\n",
       " ('happy', 1),\n",
       " ('disposition', 1),\n",
       " ('seemed', 1),\n",
       " ('unite', 1),\n",
       " ('some', 1),\n",
       " ('best', 1),\n",
       " ('blessings', 1),\n",
       " ('existence', 1),\n",
       " ('lived', 1),\n",
       " ('nearly', 1),\n",
       " ('twenty-one', 1),\n",
       " ('years', 1),\n",
       " ('world', 1),\n",
       " ('little', 1),\n",
       " ('distress', 1),\n",
       " ('or', 1),\n",
       " ('vex', 1),\n",
       " ('She', 1),\n",
       " ('was', 1),\n",
       " ('youngest', 1),\n",
       " ('two', 1)]"
      ]
     },
     "execution_count": 38,
     "metadata": {},
     "output_type": "execute_result"
    }
   ],
   "source": [
    "nltk.FreqDist(word_tokenize(ae)).most_common(50)"
   ]
  },
  {
   "cell_type": "code",
   "execution_count": 39,
   "metadata": {
    "tags": []
   },
   "outputs": [
    {
     "data": {
      "text/plain": [
       "[(',', 19),\n",
       " ('the', 7),\n",
       " ('of', 5),\n",
       " (';', 4),\n",
       " ('there', 4),\n",
       " ('and', 4),\n",
       " ('in', 3),\n",
       " ('his', 3),\n",
       " ('he', 3),\n",
       " ('.', 3),\n",
       " ('by', 2),\n",
       " ('1', 2),\n",
       " ('Walter', 2),\n",
       " ('Elliot', 2),\n",
       " ('was', 2),\n",
       " ('a', 2),\n",
       " ('for', 2),\n",
       " ('own', 2),\n",
       " ('never', 2),\n",
       " ('any', 2),\n",
       " ('an', 2),\n",
       " ('were', 2),\n",
       " ('into', 2),\n",
       " ('which', 2),\n",
       " ('``', 2),\n",
       " ('[', 1),\n",
       " ('Persuasion', 1),\n",
       " ('Jane', 1),\n",
       " ('Austen', 1),\n",
       " ('1818', 1),\n",
       " (']', 1),\n",
       " ('Chapter', 1),\n",
       " ('Sir', 1),\n",
       " ('Kellynch', 1),\n",
       " ('Hall', 1),\n",
       " ('Somersetshire', 1),\n",
       " ('man', 1),\n",
       " ('who', 1),\n",
       " ('amusement', 1),\n",
       " ('took', 1),\n",
       " ('up', 1),\n",
       " ('book', 1),\n",
       " ('but', 1),\n",
       " ('Baronetage', 1),\n",
       " ('found', 1),\n",
       " ('occupation', 1),\n",
       " ('idle', 1),\n",
       " ('hour', 1),\n",
       " ('consolation', 1),\n",
       " ('distressed', 1)]"
      ]
     },
     "execution_count": 39,
     "metadata": {},
     "output_type": "execute_result"
    }
   ],
   "source": [
    "nltk.FreqDist(word_tokenize(ap)).most_common(50)"
   ]
  },
  {
   "cell_type": "code",
   "execution_count": 40,
   "metadata": {
    "tags": []
   },
   "outputs": [
    {
     "data": {
      "text/plain": [
       "[(',', 15),\n",
       " ('and', 8),\n",
       " ('of', 8),\n",
       " ('the', 8),\n",
       " ('his', 7),\n",
       " ('.', 6),\n",
       " ('to', 6),\n",
       " ('in', 5),\n",
       " ('a', 5),\n",
       " ('their', 4),\n",
       " ('The', 3),\n",
       " ('had', 3),\n",
       " ('estate', 3),\n",
       " ('was', 3),\n",
       " ('for', 3),\n",
       " ('family', 2),\n",
       " ('Dashwood', 2),\n",
       " ('Norland', 2),\n",
       " ('many', 2),\n",
       " ('lived', 2),\n",
       " ('who', 2),\n",
       " ('years', 2),\n",
       " ('constant', 2),\n",
       " ('her', 2),\n",
       " ('he', 2),\n",
       " ('nephew', 2),\n",
       " ('[', 1),\n",
       " ('Sense', 1),\n",
       " ('Sensibility', 1),\n",
       " ('by', 1),\n",
       " ('Jane', 1),\n",
       " ('Austen', 1),\n",
       " ('1811', 1),\n",
       " (']', 1),\n",
       " ('CHAPTER', 1),\n",
       " ('1', 1),\n",
       " ('long', 1),\n",
       " ('been', 1),\n",
       " ('settled', 1),\n",
       " ('Sussex', 1),\n",
       " ('Their', 1),\n",
       " ('large', 1),\n",
       " ('residence', 1),\n",
       " ('at', 1),\n",
       " ('Park', 1),\n",
       " ('centre', 1),\n",
       " ('property', 1),\n",
       " ('where', 1),\n",
       " ('generations', 1),\n",
       " ('they', 1)]"
      ]
     },
     "execution_count": 40,
     "metadata": {},
     "output_type": "execute_result"
    }
   ],
   "source": [
    "nltk.FreqDist(word_tokenize(ase)).most_common(50)"
   ]
  },
  {
   "cell_type": "code",
   "execution_count": 41,
   "metadata": {
    "tags": []
   },
   "outputs": [
    {
     "name": "stdout",
     "output_type": "stream",
     "text": [
      "[Emma by Jane Austen 1816]\n",
      "\n",
      "VOLUME I\n",
      "\n",
      "CHAPTER I\n",
      "\n",
      "\n",
      "Emma Woodhouse, handsome, clever, and rich, with a comfortable home\n",
      "and happy disposition, seemed to unite some of the best blessings\n",
      "of existence; and had lived nearly twenty-one years in the world\n",
      "with very little to distress or vex her.\n",
      "\n",
      "She was the youngest of the two daughters of a most affectionate,\n",
      "indulgent father; and had, in consequence of her sister's marriage,\n",
      "been mistress of his house from a very early period.  Her mother\n",
      "had died t\n"
     ]
    }
   ],
   "source": [
    "with open(\"austen-emma.txt\") as fn:\n",
    "    nov=fn.read(500)\n",
    "    print(nov)"
   ]
  },
  {
   "cell_type": "code",
   "execution_count": 42,
   "metadata": {
    "tags": []
   },
   "outputs": [
    {
     "name": "stdout",
     "output_type": "stream",
     "text": [
      "['[Emma', 'by', 'Jane', 'Austen', '1816]', 'VOLUME', 'I', 'CHAPTER', 'I', 'Emma', 'Woodhouse,', 'handsome,', 'clever,', 'and', 'rich,', 'with', 'a', 'comfortable', 'home', 'and', 'happy', 'disposition,', 'seemed', 'to', 'unite', 'some', 'of', 'the', 'best', 'blessings', 'of', 'existence;', 'and', 'had', 'lived', 'nearly', 'twenty-one', 'years', 'in', 'the', 'world', 'with', 'very', 'little', 'to', 'distress', 'or', 'vex', 'her.', 'She', 'was', 'the', 'youngest', 'of', 'the', 'two', 'daughters', 'of', 'a', 'most', 'affectionate,', 'indulgent', 'father;', 'and', 'had,', 'in', 'consequence', 'of', 'her', \"sister's\", 'marriage,', 'been', 'mistress', 'of', 'his', 'house', 'from', 'a', 'very', 'early', 'period.', 'Her', 'mother', 'had', 'died', 't']\n"
     ]
    }
   ],
   "source": [
    "tokenizer=nltk.tokenize.WhitespaceTokenizer()\n",
    "tok=tokenizer.tokenize(nov)\n",
    "print(tok)"
   ]
  },
  {
   "cell_type": "code",
   "execution_count": 43,
   "metadata": {
    "tags": []
   },
   "outputs": [
    {
     "name": "stdout",
     "output_type": "stream",
     "text": [
      "['[emma', 'by', 'jane', 'austen', '1816]', 'volume', 'i', 'chapter', 'i', 'emma', 'woodhouse,', 'handsome,', 'clever,', 'and', 'rich,', 'with', 'a', 'comfortable', 'home', 'and', 'happy', 'disposition,', 'seemed', 'to', 'unite', 'some', 'of', 'the', 'best', 'blessings', 'of', 'existence;', 'and', 'had', 'lived', 'nearly', 'twenty-one', 'years', 'in', 'the', 'world', 'with', 'very', 'little', 'to', 'distress', 'or', 'vex', 'her.', 'she', 'was', 'the', 'youngest', 'of', 'the', 'two', 'daughters', 'of', 'a', 'most', 'affectionate,', 'indulgent', 'father;', 'and', 'had,', 'in', 'consequence', 'of', 'her', \"sister's\", 'marriage,', 'been', 'mistress', 'of', 'his', 'house', 'from', 'a', 'very', 'early', 'period.', 'her', 'mother', 'had', 'died', 't']\n"
     ]
    }
   ],
   "source": [
    "tokenizer=nltk.tokenize.WhitespaceTokenizer()\n",
    "a_tok=tokenizer.tokenize(nov.lower())\n",
    "print(a_tok)"
   ]
  },
  {
   "cell_type": "code",
   "execution_count": 44,
   "metadata": {
    "tags": []
   },
   "outputs": [
    {
     "data": {
      "text/plain": [
       "FreqDist({('of', 'the'): 2, ('[Emma', 'by'): 1, ('by', 'Jane'): 1, ('Jane', 'Austen'): 1, ('Austen', '1816]'): 1, ('1816]', 'VOLUME'): 1, ('VOLUME', 'I'): 1, ('I', 'CHAPTER'): 1, ('CHAPTER', 'I'): 1, ('I', 'Emma'): 1, ...})"
      ]
     },
     "execution_count": 44,
     "metadata": {},
     "output_type": "execute_result"
    }
   ],
   "source": [
    "b2=list(nltk.bigrams(tok))\n",
    "b2fd=nltk.FreqDist(b2)\n",
    "b2fd"
   ]
  },
  {
   "cell_type": "code",
   "execution_count": 45,
   "metadata": {
    "tags": []
   },
   "outputs": [],
   "source": [
    "import re\n",
    "from collections import Counter"
   ]
  },
  {
   "cell_type": "code",
   "execution_count": 70,
   "metadata": {
    "tags": []
   },
   "outputs": [
    {
     "name": "stdout",
     "output_type": "stream",
     "text": [
      "Counter({('so much',): 95, ('so very',): 76, ('so well',): 30, ('so many',): 27, ('so long',): 27, ('so little',): 20, ('so far',): 17, ('so I',): 14, ('so kind',): 13, ('so good',): 12, ('so often',): 10, ('so soon',): 9, ('so great',): 8, ('so to',): 7, ('so fond',): 7, ('so she',): 7, ('so it',): 6, ('so anxious',): 6, ('so as',): 6, ('so you',): 6, ('so truly',): 6, ('so completely',): 5, ('so obliging',): 5, ('so extremely',): 5, ('so entirely',): 4, ('so happy',): 4, ('so interesting',): 4, ('so fast',): 4, ('so near',): 4, ('so pleased',): 4, ('so few',): 4, ('so that',): 4, ('so strong',): 4, ('so liberal',): 4, ('so miserable',): 4, ('so happily',): 3, ('so proper',): 3, ('so pleasantly',): 3, ('so superior',): 3, ('so warmly',): 3, ('so bad',): 3, ('so odd',): 3, ('so ill',): 3, ('so delighted',): 3, ('so particularly',): 3, ('so easily',): 3, ('so on',): 3, ('so attentive',): 3, ('so fortunate',): 3, ('so glad',): 3, ('so shocked',): 3, ('so at',): 3, ('so obliged',): 2, ('so perfectly',): 2, ('so dear',): 2, ('so busy',): 2, ('so did',): 2, ('so forth',): 2, ('so totally',): 2, ('so remarkably',): 2, ('so plainly',): 2, ('so charming',): 2, ('so surprized',): 2, ('so early',): 2, ('so too',): 2, ('so easy',): 2, ('so decidedly',): 2, ('so absolutely',): 2, ('so particular',): 2, ('so deceived',): 2, ('so palpably',): 2, ('so clever',): 2, ('so short',): 2, ('so cold',): 2, ('so high',): 2, ('so happened',): 2, ('so full',): 2, ('so thoroughly',): 2, ('so equal',): 2, ('so off',): 2, ('so naturally',): 2, ('so afraid',): 2, ('so deep',): 2, ('so kindly',): 2, ('so pale',): 2, ('so noble',): 2, ('so lovely',): 2, ('so mad',): 2, ('so nearly',): 2, ('so sorry',): 2, ('so cheerful',): 2, ('so unfeeling',): 2, ('so ready',): 2, ('so unperceived',): 1, ('so mild',): 1, ('so constantly',): 1, ('so comfortably',): 1, ('so avowed',): 1, ('so deservedly',): 1, ('so convenient',): 1, ('so just',): 1, ('so apparent',): 1, ('so sorrowful',): 1, ('so spent',): 1, ('so artlessly',): 1, ('so plain',): 1, ('so firmly',): 1, ('so genteel',): 1, ('so _then_',): 1, ('so brilliant',): 1, ('so seldom',): 1, ('so nervous',): 1, ('so indeed',): 1, ('so pack',): 1, ('so doubtful',): 1, ('so with',): 1, ('so contemptible',): 1, ('so slightingly',): 1, ('so by',): 1, ('so loudly',): 1, ('so materially',): 1, ('so hard',): 1, ('so delightful',): 1, ('so pointed',): 1, ('so equalled',): 1, ('so evidently',): 1, ('so immediately',): 1, ('so sought',): 1, ('so excellent',): 1, ('so prettily',): 1, ('so extreme',): 1, ('so wonder',): 1, ('so always',): 1, ('so silly',): 1, ('so satisfied',): 1, ('so smiling',): 1, ('so prosing',): 1, ('so undistinguishing',): 1, ('so apt',): 1, ('so dreadful',): 1, ('so respected',): 1, ('so tenderly',): 1, ('so grieved',): 1, ('so shocking',): 1, ('so conceited',): 1, ('so before',): 1, ('so prevalent',): 1, ('so heavy',): 1, ('so swiftly',): 1, ('so spoken',): 1, ('so or',): 1, ('so overcharged',): 1, ('so pleasant',): 1, ('so fenced',): 1, ('so hospitable',): 1, ('so interested',): 1, ('so sanguine',): 1, ('so sure',): 1, ('so careless',): 1, ('so rapidly',): 1, ('so frequent',): 1, ('so sensible',): 1, ('so misled',): 1, ('so blind',): 1, ('so complaisant',): 1, ('so misinterpreted',): 1, ('so active',): 1, ('so pointedly',): 1, ('so striking',): 1, ('so sudden',): 1, ('so industriously',): 1, ('so partial',): 1, ('so natural',): 1, ('so inevitable',): 1, ('so lately',): 1, ('so beautifully',): 1, ('so distinct',): 1, ('so considerate',): 1, ('so light',): 1, ('so intimate',): 1, ('so magnified',): 1, ('so cautious',): 1, ('so confined',): 1, ('so wish',): 1, ('so he',): 1, ('so glorious',): 1, ('so quick',): 1, ('so sweetly',): 1, ('so inseparably',): 1, ('so deserving',): 1, ('so disappointed',): 1, ('so ended',): 1, ('so sluggish',): 1, ('so amiable',): 1, ('so quiet',): 1, ('so idolized',): 1, ('so cried',): 1, ('so acceptable',): 1, ('so properly',): 1, ('so reasonable',): 1, ('so delightfully',): 1, ('so rich',): 1, ('so warm',): 1, ('so large',): 1, ('so handsomely',): 1, ('so abundant',): 1, ('so outree',): 1, ('so thoughtful',): 1, ('so must',): 1, ('so effectually',): 1, ('so beautiful',): 1, ('so Patty',): 1, ('so honoured',): 1, ('so close',): 1, ('so imprudent',): 1, ('so limited',): 1, ('so from',): 1, ('so amusing',): 1, ('so indifferent',): 1, ('so indignant',): 1, ('so said',): 1, ('so right',): 1, ('so wretched',): 1, ('so now',): 1, ('so occupied',): 1, ('so unhappy',): 1, ('so highly',): 1, ('so generally',): 1, ('so exactly',): 1, ('so double',): 1, ('so secluded',): 1, ('so regular',): 1, ('so determined',): 1, ('so motherly',): 1, ('so the',): 1, ('so glibly',): 1, ('so calculated',): 1, ('so thrown',): 1, ('so exclusively',): 1, ('so disgustingly',): 1, ('so needlessly',): 1, ('so does',): 1, ('so resolutely',): 1, ('so would',): 1, ('so infinitely',): 1, ('so fluently',): 1, ('so they',): 1, ('so impatient',): 1, ('so briskly',): 1, ('so vigorously',): 1, ('so young',): 1, ('so hardened',): 1, ('so gratified',): 1, ('so received',): 1, ('so then',): 1, ('so and',): 1, ('so gratefully',): 1, ('so found',): 1, ('so placed',): 1, ('so lain',): 1, ('so his',): 1, ('so arranged',): 1, ('so moving',): 1, ('so walking',): 1, ('so when',): 1, ('so favourable',): 1, ('so late',): 1, ('so silent',): 1, ('so dull',): 1, ('so irksome',): 1, ('so agitated',): 1, ('so brutal',): 1, ('so cruel',): 1, ('so depressed',): 1, ('so no',): 1, ('so justly',): 1, ('so astonished',): 1, ('so will',): 1, ('so simple',): 1, ('so dignified',): 1, ('so suddenly',): 1, ('so a',): 1, ('so herself',): 1, ('so peremptorily',): 1, ('so uneasy',): 1, ('so wonderful',): 1, ('so _very_',): 1, ('so expressly',): 1, ('so angry',): 1, ('so anxiously',): 1, ('so strange',): 1, ('so stoutly',): 1, ('so mistake',): 1, ('so mistaken',): 1, ('so dreadfully',): 1, ('so voluntarily',): 1, ('so satisfactory',): 1, ('so disinterested',): 1, ('so foolishly',): 1, ('so ingeniously',): 1, ('so entreated',): 1, ('so like',): 1, ('so cordially',): 1, ('so essential',): 1, ('so designedly',): 1, ('so hasty',): 1, ('so richly',): 1, ('so grateful',): 1, ('so tenaciously',): 1, ('so feeling',): 1, ('so engaging',): 1, ('so engaged',): 1, ('so hot',): 1, ('so useful',): 1, ('so attached',): 1, ('so peculiarly',): 1, ('so singularly',): 1, ('so taken',): 1, ('so recently',): 1, ('so fresh',): 1, ('so hateful',): 1, ('so heartily',): 1, ('so steady',): 1, ('so complete',): 1, ('so in',): 1, ('so suffered',): 1})\n"
     ]
    }
   ],
   "source": [
    "words=re.findall(r'so+ \\w+',open('austen-emma.txt').read())\n",
    "ab=Counter(zip(words))\n",
    "print(ab)"
   ]
  },
  {
   "cell_type": "code",
   "execution_count": 47,
   "metadata": {
    "tags": []
   },
   "outputs": [
    {
     "data": {
      "text/plain": [
       "FreqDist({'of': 6, 'and': 4, 'the': 4, 'a': 3, 'i': 2, 'with': 2, 'to': 2, 'had': 2, 'in': 2, 'very': 2, ...})"
      ]
     },
     "execution_count": 47,
     "metadata": {},
     "output_type": "execute_result"
    }
   ],
   "source": [
    "a_tokfd=nltk.FreqDist(a_tok)\n",
    "a_tokfd"
   ]
  },
  {
   "cell_type": "code",
   "execution_count": 71,
   "metadata": {
    "tags": []
   },
   "outputs": [
    {
     "data": {
      "text/plain": [
       "[('[emma', 'by'),\n",
       " ('by', 'jane'),\n",
       " ('jane', 'austen'),\n",
       " ('austen', '1816]'),\n",
       " ('1816]', 'volume'),\n",
       " ('volume', 'i'),\n",
       " ('i', 'chapter'),\n",
       " ('chapter', 'i'),\n",
       " ('i', 'emma'),\n",
       " ('emma', 'woodhouse,')]"
      ]
     },
     "execution_count": 71,
     "metadata": {},
     "output_type": "execute_result"
    }
   ],
   "source": [
    "a_bigrams=list(nltk.bigrams(a_tok))\n",
    "a_bigrams[:10]"
   ]
  },
  {
   "cell_type": "code",
   "execution_count": 49,
   "metadata": {
    "tags": []
   },
   "outputs": [
    {
     "data": {
      "text/plain": [
       "FreqDist({('of', 'the'): 2, ('[emma', 'by'): 1, ('by', 'jane'): 1, ('jane', 'austen'): 1, ('austen', '1816]'): 1, ('1816]', 'volume'): 1, ('volume', 'i'): 1, ('i', 'chapter'): 1, ('chapter', 'i'): 1, ('i', 'emma'): 1, ...})"
      ]
     },
     "execution_count": 49,
     "metadata": {},
     "output_type": "execute_result"
    }
   ],
   "source": [
    "a_bigramfd=nltk.FreqDist(a_bigrams)\n",
    "a_bigramfd"
   ]
  },
  {
   "cell_type": "code",
   "execution_count": 50,
   "metadata": {
    "tags": []
   },
   "outputs": [],
   "source": [
    "from nltk.probability import ConditionalFreqDist\n",
    "from nltk.tokenize import word_tokenize"
   ]
  },
  {
   "cell_type": "code",
   "execution_count": 51,
   "metadata": {
    "tags": []
   },
   "outputs": [
    {
     "data": {
      "text/plain": [
       "{('of', 'the'): 2,\n",
       " ('[emma', 'by'): 1,\n",
       " ('by', 'jane'): 1,\n",
       " ('jane', 'austen'): 1,\n",
       " ('austen', '1816]'): 1,\n",
       " ('1816]', 'volume'): 1,\n",
       " ('volume', 'i'): 1,\n",
       " ('i', 'chapter'): 1,\n",
       " ('chapter', 'i'): 1,\n",
       " ('i', 'emma'): 1,\n",
       " ('emma', 'woodhouse,'): 1,\n",
       " ('woodhouse,', 'handsome,'): 1,\n",
       " ('handsome,', 'clever,'): 1,\n",
       " ('clever,', 'and'): 1,\n",
       " ('and', 'rich,'): 1,\n",
       " ('rich,', 'with'): 1,\n",
       " ('with', 'a'): 1,\n",
       " ('a', 'comfortable'): 1,\n",
       " ('comfortable', 'home'): 1,\n",
       " ('home', 'and'): 1}"
      ]
     },
     "execution_count": 51,
     "metadata": {},
     "output_type": "execute_result"
    }
   ],
   "source": [
    "v=a_bigramfd.most_common(20)\n",
    "m=dict(v)\n",
    "m"
   ]
  },
  {
   "cell_type": "code",
   "execution_count": 52,
   "metadata": {
    "tags": []
   },
   "outputs": [
    {
     "data": {
      "text/html": [
       "<div>\n",
       "<style scoped>\n",
       "    .dataframe tbody tr th:only-of-type {\n",
       "        vertical-align: middle;\n",
       "    }\n",
       "\n",
       "    .dataframe tbody tr th {\n",
       "        vertical-align: top;\n",
       "    }\n",
       "\n",
       "    .dataframe thead th {\n",
       "        text-align: right;\n",
       "    }\n",
       "</style>\n",
       "<table border=\"1\" class=\"dataframe\">\n",
       "  <thead>\n",
       "    <tr style=\"text-align: right;\">\n",
       "      <th></th>\n",
       "      <th>single</th>\n",
       "      <th>count</th>\n",
       "    </tr>\n",
       "  </thead>\n",
       "  <tbody>\n",
       "    <tr>\n",
       "      <th>0</th>\n",
       "      <td>(of, the)</td>\n",
       "      <td>2</td>\n",
       "    </tr>\n",
       "    <tr>\n",
       "      <th>1</th>\n",
       "      <td>([emma, by)</td>\n",
       "      <td>1</td>\n",
       "    </tr>\n",
       "    <tr>\n",
       "      <th>2</th>\n",
       "      <td>(by, jane)</td>\n",
       "      <td>1</td>\n",
       "    </tr>\n",
       "    <tr>\n",
       "      <th>3</th>\n",
       "      <td>(jane, austen)</td>\n",
       "      <td>1</td>\n",
       "    </tr>\n",
       "    <tr>\n",
       "      <th>4</th>\n",
       "      <td>(austen, 1816])</td>\n",
       "      <td>1</td>\n",
       "    </tr>\n",
       "    <tr>\n",
       "      <th>5</th>\n",
       "      <td>(1816], volume)</td>\n",
       "      <td>1</td>\n",
       "    </tr>\n",
       "    <tr>\n",
       "      <th>6</th>\n",
       "      <td>(volume, i)</td>\n",
       "      <td>1</td>\n",
       "    </tr>\n",
       "    <tr>\n",
       "      <th>7</th>\n",
       "      <td>(i, chapter)</td>\n",
       "      <td>1</td>\n",
       "    </tr>\n",
       "    <tr>\n",
       "      <th>8</th>\n",
       "      <td>(chapter, i)</td>\n",
       "      <td>1</td>\n",
       "    </tr>\n",
       "    <tr>\n",
       "      <th>9</th>\n",
       "      <td>(i, emma)</td>\n",
       "      <td>1</td>\n",
       "    </tr>\n",
       "    <tr>\n",
       "      <th>10</th>\n",
       "      <td>(emma, woodhouse,)</td>\n",
       "      <td>1</td>\n",
       "    </tr>\n",
       "    <tr>\n",
       "      <th>11</th>\n",
       "      <td>(woodhouse,, handsome,)</td>\n",
       "      <td>1</td>\n",
       "    </tr>\n",
       "    <tr>\n",
       "      <th>12</th>\n",
       "      <td>(handsome,, clever,)</td>\n",
       "      <td>1</td>\n",
       "    </tr>\n",
       "    <tr>\n",
       "      <th>13</th>\n",
       "      <td>(clever,, and)</td>\n",
       "      <td>1</td>\n",
       "    </tr>\n",
       "    <tr>\n",
       "      <th>14</th>\n",
       "      <td>(and, rich,)</td>\n",
       "      <td>1</td>\n",
       "    </tr>\n",
       "    <tr>\n",
       "      <th>15</th>\n",
       "      <td>(rich,, with)</td>\n",
       "      <td>1</td>\n",
       "    </tr>\n",
       "    <tr>\n",
       "      <th>16</th>\n",
       "      <td>(with, a)</td>\n",
       "      <td>1</td>\n",
       "    </tr>\n",
       "    <tr>\n",
       "      <th>17</th>\n",
       "      <td>(a, comfortable)</td>\n",
       "      <td>1</td>\n",
       "    </tr>\n",
       "    <tr>\n",
       "      <th>18</th>\n",
       "      <td>(comfortable, home)</td>\n",
       "      <td>1</td>\n",
       "    </tr>\n",
       "    <tr>\n",
       "      <th>19</th>\n",
       "      <td>(home, and)</td>\n",
       "      <td>1</td>\n",
       "    </tr>\n",
       "  </tbody>\n",
       "</table>\n",
       "</div>"
      ],
      "text/plain": [
       "                     single  count\n",
       "0                 (of, the)      2\n",
       "1               ([emma, by)      1\n",
       "2                (by, jane)      1\n",
       "3            (jane, austen)      1\n",
       "4           (austen, 1816])      1\n",
       "5           (1816], volume)      1\n",
       "6               (volume, i)      1\n",
       "7              (i, chapter)      1\n",
       "8              (chapter, i)      1\n",
       "9                 (i, emma)      1\n",
       "10       (emma, woodhouse,)      1\n",
       "11  (woodhouse,, handsome,)      1\n",
       "12     (handsome,, clever,)      1\n",
       "13           (clever,, and)      1\n",
       "14             (and, rich,)      1\n",
       "15            (rich,, with)      1\n",
       "16                (with, a)      1\n",
       "17         (a, comfortable)      1\n",
       "18      (comfortable, home)      1\n",
       "19              (home, and)      1"
      ]
     },
     "execution_count": 52,
     "metadata": {},
     "output_type": "execute_result"
    }
   ],
   "source": [
    "import pandas as pd\n",
    "df=pd.DataFrame(list(m.items()))\n",
    "df.columns=['single','count']\n",
    "df"
   ]
  },
  {
   "cell_type": "code",
   "execution_count": 53,
   "metadata": {
    "tags": []
   },
   "outputs": [
    {
     "data": {
      "image/png": "[encoded data removed]",
      "text/plain": [
       "<Figure size 640x480 with 1 Axes>"
      ]
     },
     "metadata": {},
     "output_type": "display_data"
    }
   ],
   "source": [
    "import matplotlib.pyplot as plt\n",
    "df.plot(kind='line',x='single',y='count')\n",
    "plt.show()"
   ]
  },
  {
   "cell_type": "code",
   "execution_count": 54,
   "metadata": {
    "tags": []
   },
   "outputs": [
    {
     "data": {
      "text/html": [
       "<div>\n",
       "<style scoped>\n",
       "    .dataframe tbody tr th:only-of-type {\n",
       "        vertical-align: middle;\n",
       "    }\n",
       "\n",
       "    .dataframe tbody tr th {\n",
       "        vertical-align: top;\n",
       "    }\n",
       "\n",
       "    .dataframe thead th {\n",
       "        text-align: right;\n",
       "    }\n",
       "</style>\n",
       "<table border=\"1\" class=\"dataframe\">\n",
       "  <thead>\n",
       "    <tr style=\"text-align: right;\">\n",
       "      <th></th>\n",
       "      <th>bigram</th>\n",
       "      <th>count</th>\n",
       "    </tr>\n",
       "  </thead>\n",
       "  <tbody>\n",
       "    <tr>\n",
       "      <th>0</th>\n",
       "      <td>(of, the)</td>\n",
       "      <td>2</td>\n",
       "    </tr>\n",
       "    <tr>\n",
       "      <th>1</th>\n",
       "      <td>([emma, by)</td>\n",
       "      <td>1</td>\n",
       "    </tr>\n",
       "    <tr>\n",
       "      <th>2</th>\n",
       "      <td>(by, jane)</td>\n",
       "      <td>1</td>\n",
       "    </tr>\n",
       "    <tr>\n",
       "      <th>3</th>\n",
       "      <td>(jane, austen)</td>\n",
       "      <td>1</td>\n",
       "    </tr>\n",
       "    <tr>\n",
       "      <th>4</th>\n",
       "      <td>(austen, 1816])</td>\n",
       "      <td>1</td>\n",
       "    </tr>\n",
       "    <tr>\n",
       "      <th>5</th>\n",
       "      <td>(1816], volume)</td>\n",
       "      <td>1</td>\n",
       "    </tr>\n",
       "    <tr>\n",
       "      <th>6</th>\n",
       "      <td>(volume, i)</td>\n",
       "      <td>1</td>\n",
       "    </tr>\n",
       "    <tr>\n",
       "      <th>7</th>\n",
       "      <td>(i, chapter)</td>\n",
       "      <td>1</td>\n",
       "    </tr>\n",
       "    <tr>\n",
       "      <th>8</th>\n",
       "      <td>(chapter, i)</td>\n",
       "      <td>1</td>\n",
       "    </tr>\n",
       "    <tr>\n",
       "      <th>9</th>\n",
       "      <td>(i, emma)</td>\n",
       "      <td>1</td>\n",
       "    </tr>\n",
       "    <tr>\n",
       "      <th>10</th>\n",
       "      <td>(emma, woodhouse,)</td>\n",
       "      <td>1</td>\n",
       "    </tr>\n",
       "    <tr>\n",
       "      <th>11</th>\n",
       "      <td>(woodhouse,, handsome,)</td>\n",
       "      <td>1</td>\n",
       "    </tr>\n",
       "    <tr>\n",
       "      <th>12</th>\n",
       "      <td>(handsome,, clever,)</td>\n",
       "      <td>1</td>\n",
       "    </tr>\n",
       "    <tr>\n",
       "      <th>13</th>\n",
       "      <td>(clever,, and)</td>\n",
       "      <td>1</td>\n",
       "    </tr>\n",
       "    <tr>\n",
       "      <th>14</th>\n",
       "      <td>(and, rich,)</td>\n",
       "      <td>1</td>\n",
       "    </tr>\n",
       "    <tr>\n",
       "      <th>15</th>\n",
       "      <td>(rich,, with)</td>\n",
       "      <td>1</td>\n",
       "    </tr>\n",
       "    <tr>\n",
       "      <th>16</th>\n",
       "      <td>(with, a)</td>\n",
       "      <td>1</td>\n",
       "    </tr>\n",
       "    <tr>\n",
       "      <th>17</th>\n",
       "      <td>(a, comfortable)</td>\n",
       "      <td>1</td>\n",
       "    </tr>\n",
       "    <tr>\n",
       "      <th>18</th>\n",
       "      <td>(comfortable, home)</td>\n",
       "      <td>1</td>\n",
       "    </tr>\n",
       "    <tr>\n",
       "      <th>19</th>\n",
       "      <td>(home, and)</td>\n",
       "      <td>1</td>\n",
       "    </tr>\n",
       "  </tbody>\n",
       "</table>\n",
       "</div>"
      ],
      "text/plain": [
       "                     bigram  count\n",
       "0                 (of, the)      2\n",
       "1               ([emma, by)      1\n",
       "2                (by, jane)      1\n",
       "3            (jane, austen)      1\n",
       "4           (austen, 1816])      1\n",
       "5           (1816], volume)      1\n",
       "6               (volume, i)      1\n",
       "7              (i, chapter)      1\n",
       "8              (chapter, i)      1\n",
       "9                 (i, emma)      1\n",
       "10       (emma, woodhouse,)      1\n",
       "11  (woodhouse,, handsome,)      1\n",
       "12     (handsome,, clever,)      1\n",
       "13           (clever,, and)      1\n",
       "14             (and, rich,)      1\n",
       "15            (rich,, with)      1\n",
       "16                (with, a)      1\n",
       "17         (a, comfortable)      1\n",
       "18      (comfortable, home)      1\n",
       "19              (home, and)      1"
      ]
     },
     "execution_count": 54,
     "metadata": {},
     "output_type": "execute_result"
    }
   ],
   "source": [
    "df2=pd.DataFrame(list(m.items()))\n",
    "df2.columns=['bigram','count']\n",
    "df2"
   ]
  },
  {
   "cell_type": "code",
   "execution_count": 55,
   "metadata": {
    "tags": []
   },
   "outputs": [
    {
     "data": {
      "image/png": "[encoded data removed]",
      "text/plain": [
       "<Figure size 640x480 with 1 Axes>"
      ]
     },
     "metadata": {},
     "output_type": "display_data"
    }
   ],
   "source": [
    "df2.plot(kind='line',x='bigram',y='count')\n",
    "plt.show()"
   ]
  },
  {
   "cell_type": "code",
   "execution_count": 56,
   "metadata": {
    "tags": []
   },
   "outputs": [
    {
     "name": "stdout",
     "output_type": "stream",
     "text": [
      "0\n",
      "66\n",
      "0.0\n"
     ]
    }
   ],
   "source": [
    "so_count=a_tokfd['so']\n",
    "print(so_count)\n",
    "tot=len(a_tokfd)\n",
    "print(tot)\n",
    "rel_freq=so_count/tot\n",
    "print(rel_freq)"
   ]
  },
  {
   "cell_type": "code",
   "execution_count": 57,
   "metadata": {
    "tags": []
   },
   "outputs": [
    {
     "data": {
      "text/plain": [
       "[(('so much',), 95),\n",
       " (('so very',), 76),\n",
       " (('so well',), 30),\n",
       " (('so many',), 27),\n",
       " (('so long',), 27),\n",
       " (('so little',), 20),\n",
       " (('so far',), 17),\n",
       " (('so I',), 14),\n",
       " (('so kind',), 13),\n",
       " (('so good',), 12),\n",
       " (('so often',), 10),\n",
       " (('so soon',), 9),\n",
       " (('so great',), 8),\n",
       " (('so to',), 7),\n",
       " (('so fond',), 7),\n",
       " (('so she',), 7),\n",
       " (('so it',), 6),\n",
       " (('so anxious',), 6),\n",
       " (('so as',), 6),\n",
       " (('so you',), 6)]"
      ]
     },
     "execution_count": 57,
     "metadata": {},
     "output_type": "execute_result"
    }
   ],
   "source": [
    "ab.most_common(20)"
   ]
  },
  {
   "cell_type": "code",
   "execution_count": 73,
   "metadata": {
    "tags": []
   },
   "outputs": [
    {
     "data": {
      "text/plain": [
       "{('so unperceived',): 1,\n",
       " ('so far',): 17,\n",
       " ('so obliged',): 2,\n",
       " ('so mild',): 1,\n",
       " ('so much',): 95,\n",
       " ('so to',): 7,\n",
       " ('so well',): 30,\n",
       " ('so happily',): 3,\n",
       " ('so many',): 27,\n",
       " ('so long',): 27,\n",
       " ('so perfectly',): 2,\n",
       " ('so constantly',): 1,\n",
       " ('so entirely',): 4,\n",
       " ('so comfortably',): 1,\n",
       " ('so very',): 76,\n",
       " ('so kind',): 13,\n",
       " ('so avowed',): 1,\n",
       " ('so dear',): 2,\n",
       " ('so deservedly',): 1,\n",
       " ('so little',): 20,\n",
       " ('so convenient',): 1,\n",
       " ('so just',): 1,\n",
       " ('so apparent',): 1,\n",
       " ('so sorrowful',): 1,\n",
       " ('so often',): 10,\n",
       " ('so spent',): 1,\n",
       " ('so proper',): 3,\n",
       " ('so pleasantly',): 3,\n",
       " ('so artlessly',): 1,\n",
       " ('so superior',): 3,\n",
       " ('so busy',): 2,\n",
       " ('so great',): 8,\n",
       " ('so did',): 2,\n",
       " ('so fond',): 7,\n",
       " ('so plain',): 1,\n",
       " ('so forth',): 2,\n",
       " ('so it',): 6,\n",
       " ('so firmly',): 1,\n",
       " ('so totally',): 2,\n",
       " ('so genteel',): 1,\n",
       " ('so remarkably',): 2,\n",
       " ('so plainly',): 2,\n",
       " ('so _then_',): 1,\n",
       " ('so brilliant',): 1,\n",
       " ('so seldom',): 1,\n",
       " ('so happy',): 4,\n",
       " ('so warmly',): 3,\n",
       " ('so charming',): 2,\n",
       " ('so nervous',): 1,\n",
       " ('so I',): 14,\n",
       " ('so interesting',): 4,\n",
       " ('so good',): 12,\n",
       " ('so indeed',): 1,\n",
       " ('so pack',): 1,\n",
       " ('so surprized',): 2,\n",
       " ('so doubtful',): 1,\n",
       " ('so with',): 1,\n",
       " ('so completely',): 5,\n",
       " ('so anxious',): 6,\n",
       " ('so early',): 2,\n",
       " ('so contemptible',): 1,\n",
       " ('so slightingly',): 1,\n",
       " ('so by',): 1,\n",
       " ('so too',): 2,\n",
       " ('so easy',): 2,\n",
       " ('so fast',): 4,\n",
       " ('so decidedly',): 2,\n",
       " ('so bad',): 3,\n",
       " ('so loudly',): 1,\n",
       " ('so absolutely',): 2,\n",
       " ('so materially',): 1,\n",
       " ('so hard',): 1,\n",
       " ('so delightful',): 1,\n",
       " ('so pointed',): 1,\n",
       " ('so particular',): 2,\n",
       " ('so deceived',): 2,\n",
       " ('so equalled',): 1,\n",
       " ('so evidently',): 1,\n",
       " ('so palpably',): 2,\n",
       " ('so immediately',): 1,\n",
       " ('so sought',): 1,\n",
       " ('so excellent',): 1,\n",
       " ('so as',): 6,\n",
       " ('so prettily',): 1,\n",
       " ('so clever',): 2,\n",
       " ('so soon',): 9,\n",
       " ('so obliging',): 5,\n",
       " ('so extreme',): 1,\n",
       " ('so wonder',): 1,\n",
       " ('so you',): 6,\n",
       " ('so odd',): 3,\n",
       " ('so truly',): 6,\n",
       " ('so always',): 1,\n",
       " ('so silly',): 1,\n",
       " ('so satisfied',): 1,\n",
       " ('so smiling',): 1,\n",
       " ('so prosing',): 1,\n",
       " ('so undistinguishing',): 1,\n",
       " ('so apt',): 1,\n",
       " ('so dreadful',): 1,\n",
       " ('so near',): 4,\n",
       " ('so ill',): 3,\n",
       " ('so respected',): 1,\n",
       " ('so tenderly',): 1,\n",
       " ('so short',): 2,\n",
       " ('so grieved',): 1,\n",
       " ('so shocking',): 1,\n",
       " ('so conceited',): 1,\n",
       " ('so before',): 1,\n",
       " ('so pleased',): 4,\n",
       " ('so prevalent',): 1,\n",
       " ('so heavy',): 1,\n",
       " ('so swiftly',): 1,\n",
       " ('so cold',): 2,\n",
       " ('so spoken',): 1,\n",
       " ('so high',): 2,\n",
       " ('so or',): 1,\n",
       " ('so overcharged',): 1,\n",
       " ('so pleasant',): 1,\n",
       " ('so fenced',): 1,\n",
       " ('so hospitable',): 1,\n",
       " ('so interested',): 1,\n",
       " ('so delighted',): 3,\n",
       " ('so happened',): 2,\n",
       " ('so few',): 4,\n",
       " ('so sanguine',): 1,\n",
       " ('so sure',): 1,\n",
       " ('so careless',): 1,\n",
       " ('so rapidly',): 1,\n",
       " ('so that',): 4,\n",
       " ('so frequent',): 1,\n",
       " ('so sensible',): 1,\n",
       " ('so particularly',): 3,\n",
       " ('so misled',): 1,\n",
       " ('so easily',): 3,\n",
       " ('so blind',): 1,\n",
       " ('so complaisant',): 1,\n",
       " ('so full',): 2,\n",
       " ('so misinterpreted',): 1,\n",
       " ('so active',): 1,\n",
       " ('so thoroughly',): 2,\n",
       " ('so pointedly',): 1,\n",
       " ('so striking',): 1,\n",
       " ('so sudden',): 1,\n",
       " ('so industriously',): 1,\n",
       " ('so partial',): 1,\n",
       " ('so natural',): 1,\n",
       " ('so inevitable',): 1,\n",
       " ('so equal',): 2,\n",
       " ('so strong',): 4,\n",
       " ('so on',): 3,\n",
       " ('so she',): 7,\n",
       " ('so lately',): 1,\n",
       " ('so beautifully',): 1,\n",
       " ('so distinct',): 1,\n",
       " ('so considerate',): 1,\n",
       " ('so light',): 1,\n",
       " ('so off',): 2,\n",
       " ('so liberal',): 4,\n",
       " ('so intimate',): 1,\n",
       " ('so magnified',): 1,\n",
       " ('so naturally',): 2,\n",
       " ('so cautious',): 1,\n",
       " ('so attentive',): 3,\n",
       " ('so confined',): 1,\n",
       " ('so afraid',): 2,\n",
       " ('so fortunate',): 3,\n",
       " ('so deep',): 2,\n",
       " ('so miserable',): 4,\n",
       " ('so wish',): 1,\n",
       " ('so he',): 1,\n",
       " ('so kindly',): 2,\n",
       " ('so glorious',): 1,\n",
       " ('so quick',): 1,\n",
       " ('so sweetly',): 1,\n",
       " ('so inseparably',): 1,\n",
       " ('so deserving',): 1,\n",
       " ('so disappointed',): 1,\n",
       " ('so ended',): 1,\n",
       " ('so sluggish',): 1,\n",
       " ('so amiable',): 1,\n",
       " ('so quiet',): 1,\n",
       " ('so pale',): 2,\n",
       " ('so idolized',): 1,\n",
       " ('so cried',): 1,\n",
       " ('so acceptable',): 1,\n",
       " ('so properly',): 1,\n",
       " ('so reasonable',): 1,\n",
       " ('so delightfully',): 1,\n",
       " ('so rich',): 1,\n",
       " ('so warm',): 1,\n",
       " ('so noble',): 2,\n",
       " ('so large',): 1,\n",
       " ('so lovely',): 2,\n",
       " ('so handsomely',): 1,\n",
       " ('so abundant',): 1,\n",
       " ('so outree',): 1,\n",
       " ('so thoughtful',): 1,\n",
       " ('so mad',): 2,\n",
       " ('so must',): 1,\n",
       " ('so effectually',): 1,\n",
       " ('so beautiful',): 1,\n",
       " ('so glad',): 3,\n",
       " ('so nearly',): 2,\n",
       " ('so Patty',): 1,\n",
       " ('so honoured',): 1,\n",
       " ('so sorry',): 2,\n",
       " ('so shocked',): 3,\n",
       " ('so close',): 1,\n",
       " ('so imprudent',): 1,\n",
       " ('so limited',): 1,\n",
       " ('so from',): 1,\n",
       " ('so amusing',): 1,\n",
       " ('so extremely',): 5,\n",
       " ('so indifferent',): 1,\n",
       " ('so indignant',): 1,\n",
       " ('so said',): 1,\n",
       " ('so right',): 1,\n",
       " ('so wretched',): 1,\n",
       " ('so now',): 1,\n",
       " ('so occupied',): 1,\n",
       " ('so unhappy',): 1,\n",
       " ('so highly',): 1,\n",
       " ('so generally',): 1,\n",
       " ('so exactly',): 1,\n",
       " ('so double',): 1,\n",
       " ('so cheerful',): 2,\n",
       " ('so secluded',): 1,\n",
       " ('so regular',): 1,\n",
       " ('so determined',): 1,\n",
       " ('so motherly',): 1,\n",
       " ('so the',): 1,\n",
       " ('so glibly',): 1,\n",
       " ('so calculated',): 1,\n",
       " ('so thrown',): 1,\n",
       " ('so exclusively',): 1,\n",
       " ('so disgustingly',): 1,\n",
       " ('so at',): 3,\n",
       " ('so needlessly',): 1,\n",
       " ('so does',): 1,\n",
       " ('so resolutely',): 1,\n",
       " ('so would',): 1,\n",
       " ('so infinitely',): 1,\n",
       " ('so fluently',): 1,\n",
       " ('so they',): 1,\n",
       " ('so impatient',): 1,\n",
       " ('so briskly',): 1,\n",
       " ('so vigorously',): 1,\n",
       " ('so young',): 1,\n",
       " ('so hardened',): 1,\n",
       " ('so gratified',): 1,\n",
       " ('so received',): 1,\n",
       " ('so then',): 1,\n",
       " ('so and',): 1,\n",
       " ('so gratefully',): 1,\n",
       " ('so found',): 1,\n",
       " ('so placed',): 1,\n",
       " ('so lain',): 1,\n",
       " ('so his',): 1,\n",
       " ('so arranged',): 1,\n",
       " ('so moving',): 1,\n",
       " ('so walking',): 1,\n",
       " ('so when',): 1,\n",
       " ('so favourable',): 1,\n",
       " ('so late',): 1,\n",
       " ('so silent',): 1,\n",
       " ('so dull',): 1,\n",
       " ('so unfeeling',): 2,\n",
       " ('so irksome',): 1,\n",
       " ('so agitated',): 1,\n",
       " ('so brutal',): 1,\n",
       " ('so cruel',): 1,\n",
       " ('so depressed',): 1,\n",
       " ('so no',): 1,\n",
       " ('so justly',): 1,\n",
       " ('so astonished',): 1,\n",
       " ('so will',): 1,\n",
       " ('so simple',): 1,\n",
       " ('so dignified',): 1,\n",
       " ('so suddenly',): 1,\n",
       " ('so a',): 1,\n",
       " ('so herself',): 1,\n",
       " ('so peremptorily',): 1,\n",
       " ('so uneasy',): 1,\n",
       " ('so wonderful',): 1,\n",
       " ('so _very_',): 1,\n",
       " ('so expressly',): 1,\n",
       " ('so angry',): 1,\n",
       " ('so anxiously',): 1,\n",
       " ('so strange',): 1,\n",
       " ('so stoutly',): 1,\n",
       " ('so mistake',): 1,\n",
       " ('so mistaken',): 1,\n",
       " ('so dreadfully',): 1,\n",
       " ('so voluntarily',): 1,\n",
       " ('so satisfactory',): 1,\n",
       " ('so disinterested',): 1,\n",
       " ('so foolishly',): 1,\n",
       " ('so ingeniously',): 1,\n",
       " ('so entreated',): 1,\n",
       " ('so like',): 1,\n",
       " ('so cordially',): 1,\n",
       " ('so essential',): 1,\n",
       " ('so designedly',): 1,\n",
       " ('so hasty',): 1,\n",
       " ('so richly',): 1,\n",
       " ('so grateful',): 1,\n",
       " ('so tenaciously',): 1,\n",
       " ('so feeling',): 1,\n",
       " ('so engaging',): 1,\n",
       " ('so engaged',): 1,\n",
       " ('so hot',): 1,\n",
       " ('so useful',): 1,\n",
       " ('so ready',): 2,\n",
       " ('so attached',): 1,\n",
       " ('so peculiarly',): 1,\n",
       " ('so singularly',): 1,\n",
       " ('so taken',): 1,\n",
       " ('so recently',): 1,\n",
       " ('so fresh',): 1,\n",
       " ('so hateful',): 1,\n",
       " ('so heartily',): 1,\n",
       " ('so steady',): 1,\n",
       " ('so complete',): 1,\n",
       " ('so in',): 1,\n",
       " ('so suffered',): 1}"
      ]
     },
     "execution_count": 73,
     "metadata": {},
     "output_type": "execute_result"
    }
   ],
   "source": [
    "ab_dict=dict(ab)\n",
    "ab_dict"
   ]
  },
  {
   "cell_type": "code",
   "execution_count": 59,
   "metadata": {
    "tags": []
   },
   "outputs": [
    {
     "data": {
      "text/plain": [
       "326"
      ]
     },
     "execution_count": 59,
     "metadata": {},
     "output_type": "execute_result"
    }
   ],
   "source": [
    "tot_occ=len(ab_dict)\n",
    "tot_occ"
   ]
  },
  {
   "cell_type": "code",
   "execution_count": 60,
   "metadata": {
    "tags": []
   },
   "outputs": [
    {
     "name": "stdout",
     "output_type": "stream",
     "text": [
      "('so much',) 95\n",
      "0.29141104294478526\n"
     ]
    }
   ],
   "source": [
    "for i,j in ab_dict.items():\n",
    "    if i==('so much',):\n",
    "        print(i,j)\n",
    "        print(j/tot_occ)"
   ]
  },
  {
   "cell_type": "code",
   "execution_count": 61,
   "metadata": {
    "tags": []
   },
   "outputs": [
    {
     "name": "stdout",
     "output_type": "stream",
     "text": [
      "('so will',) 1\n",
      "0.003067484662576687\n"
     ]
    }
   ],
   "source": [
    "for i,j in ab_dict.items():\n",
    "    if i==('so will',):\n",
    "        print(i,j)\n",
    "        print(j/tot_occ)"
   ]
  },
  {
   "cell_type": "code",
   "execution_count": null,
   "metadata": {},
   "outputs": [],
   "source": []
  }
 ],
 "metadata": {
  "kernelspec": {
   "display_name": "Python 3 (ipykernel)",
   "language": "python",
   "name": "python3"
  },
  "language_info": {
   "codemirror_mode": {
    "name": "ipython",
    "version": 3
   },
   "file_extension": ".py",
   "mimetype": "text/x-python",
   "name": "python",
   "nbconvert_exporter": "python",
   "pygments_lexer": "ipython3",
   "version": "3.11.5"
  }
 },
 "nbformat": 4,
 "nbformat_minor": 4
}
